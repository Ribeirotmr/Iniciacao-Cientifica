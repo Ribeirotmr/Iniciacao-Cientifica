{
  "cells": [
    {
      "cell_type": "markdown",
      "metadata": {
        "id": "view-in-github",
        "colab_type": "text"
      },
      "source": [
        "<a href=\"https://colab.research.google.com/github/Ribeirotmr/Iniciacao-Cientifica/blob/main/PIIC_QC_01.ipynb\" target=\"_parent\"><img src=\"https://colab.research.google.com/assets/colab-badge.svg\" alt=\"Open In Colab\"/></a>"
      ]
    },
    {
      "cell_type": "markdown",
      "source": [],
      "metadata": {
        "id": "aD37XxuaI2L1"
      }
    },
    {
      "cell_type": "markdown",
      "metadata": {
        "id": "CVwRT-1fcO3d"
      },
      "source": [
        "# PIIC - Computação Quântica: Fundamentos 01\n",
        "\n",
        "---\n",
        "\n",
        "Referência:\n",
        "*   https://learning.quantum.ibm.com/\n",
        "\n",
        "---\n",
        "\n",
        "Bit é um sistema físico com dois estados:\n",
        "$$\n",
        "| 0 \\rangle\\ ,\\ | 1\\rangle.\n",
        "$$\n",
        "Qubit é um sistema físico com dois graus de liberdade, cujos estados podem ser representadoa na base computacional:\n",
        "$$\n",
        "| 0 \\rangle\\ = \\begin{bmatrix}\n",
        "1 \\\\\n",
        "0\n",
        "\\end{bmatrix} ,\\\n",
        "| 1\\rangle = \\begin{bmatrix}\n",
        "0 \\\\\n",
        "1\n",
        "\\end{bmatrix}.\n",
        "$$\n",
        "O estado geral de um qubit é uma superposição dos estados da base computacional:\n",
        "$$\n",
        "| \\psi \\rangle = \\alpha | 0 \\rangle + \\beta | 1\\rangle;\\ \\alpha, \\beta \\in \\mathbb{C}, | \\alpha |^2 + |\\beta|^2 = 1.\n",
        "$$\n",
        "Para esse estado $| \\psi \\rangle$, sua media na base computacional resulta em $0$ com probabilidade $|\\alpha|^2$ ou $1$ com probabilidade $|\\beta|^2$. Após a medida, o estado do qubit será $| 0 \\rangle$ ou $| 1 \\rangle$, dependendo do resultado ter sido $0$ ou $1$:\n",
        "$$\n",
        "P_\\psi(0)  = |\\alpha|^2;\\ P_\\psi(1)  = |\\beta|^2.\n",
        "$$\n",
        "\n",
        "⚡\n",
        "\n",
        "As portas quânticas são operadores unitários no espaço do qubit, ou seja,\n",
        "\n",
        "$$\n",
        "U = \\begin{bmatrix}\n",
        "a & b\\\\\n",
        "c & d\n",
        "\\end{bmatrix},\\ U^* = U^{-1}.\n",
        "$$\n",
        "\n",
        "Portas básicas de 1 qubit:\n",
        "\n",
        "$$\n",
        "Z = \\begin{bmatrix}\n",
        "1 & 0\\\\\n",
        "0 & -1\n",
        "\\end{bmatrix},\\\n",
        "X = NOT= \\begin{bmatrix}\n",
        "0 & 1\\\\\n",
        "1 & 0\n",
        "\\end{bmatrix},\\\n",
        "Y = \\begin{bmatrix}\n",
        "0 & -i\\\\\n",
        "i & 0\n",
        "\\end{bmatrix},\\\n",
        "H = \\frac{1}{\\sqrt{2}}\\begin{bmatrix}\n",
        "1 & 1\\\\\n",
        "1 & -1\n",
        "\\end{bmatrix}.\n",
        "$$\n"
      ]
    },
    {
      "cell_type": "markdown",
      "source": [],
      "metadata": {
        "id": "_5Vb_qxBuuwB"
      }
    },
    {
      "cell_type": "markdown",
      "metadata": {
        "id": "GAmPTeyasyVt"
      },
      "source": [
        "# QISKIT: Carregamento"
      ]
    },
    {
      "cell_type": "code",
      "execution_count": null,
      "metadata": {
        "colab": {
          "base_uri": "https://localhost:8080/",
          "height": 1000
        },
        "id": "U7ULPmZkugwv",
        "outputId": "0931c6e6-0812-45ce-8d66-59c1b557ab2f",
        "collapsed": true
      },
      "outputs": [
        {
          "output_type": "stream",
          "name": "stdout",
          "text": [
            "Collecting qiskit\n",
            "  Downloading qiskit-1.2.1-cp38-abi3-manylinux_2_17_x86_64.manylinux2014_x86_64.whl.metadata (12 kB)\n",
            "Collecting rustworkx>=0.15.0 (from qiskit)\n",
            "  Downloading rustworkx-0.15.1-cp38-abi3-manylinux_2_17_x86_64.manylinux2014_x86_64.whl.metadata (9.9 kB)\n",
            "Requirement already satisfied: numpy<3,>=1.17 in /usr/local/lib/python3.10/dist-packages (from qiskit) (1.26.4)\n",
            "Requirement already satisfied: scipy>=1.5 in /usr/local/lib/python3.10/dist-packages (from qiskit) (1.13.1)\n",
            "Requirement already satisfied: sympy>=1.3 in /usr/local/lib/python3.10/dist-packages (from qiskit) (1.13.2)\n",
            "Collecting dill>=0.3 (from qiskit)\n",
            "  Downloading dill-0.3.8-py3-none-any.whl.metadata (10 kB)\n",
            "Requirement already satisfied: python-dateutil>=2.8.0 in /usr/local/lib/python3.10/dist-packages (from qiskit) (2.8.2)\n",
            "Collecting stevedore>=3.0.0 (from qiskit)\n",
            "  Downloading stevedore-5.3.0-py3-none-any.whl.metadata (2.3 kB)\n",
            "Requirement already satisfied: typing-extensions in /usr/local/lib/python3.10/dist-packages (from qiskit) (4.12.2)\n",
            "Collecting symengine>=0.11 (from qiskit)\n",
            "  Downloading symengine-0.11.0-cp310-cp310-manylinux_2_12_x86_64.manylinux2010_x86_64.whl.metadata (1.2 kB)\n",
            "Requirement already satisfied: six>=1.5 in /usr/local/lib/python3.10/dist-packages (from python-dateutil>=2.8.0->qiskit) (1.16.0)\n",
            "Collecting pbr>=2.0.0 (from stevedore>=3.0.0->qiskit)\n",
            "  Downloading pbr-6.1.0-py2.py3-none-any.whl.metadata (3.4 kB)\n",
            "Requirement already satisfied: mpmath<1.4,>=1.1.0 in /usr/local/lib/python3.10/dist-packages (from sympy>=1.3->qiskit) (1.3.0)\n",
            "Downloading qiskit-1.2.1-cp38-abi3-manylinux_2_17_x86_64.manylinux2014_x86_64.whl (4.7 MB)\n",
            "\u001b[2K   \u001b[90m━━━━━━━━━━━━━━━━━━━━━━━━━━━━━━━━━━━━━━━━\u001b[0m \u001b[32m4.7/4.7 MB\u001b[0m \u001b[31m21.8 MB/s\u001b[0m eta \u001b[36m0:00:00\u001b[0m\n",
            "\u001b[?25hDownloading dill-0.3.8-py3-none-any.whl (116 kB)\n",
            "\u001b[2K   \u001b[90m━━━━━━━━━━━━━━━━━━━━━━━━━━━━━━━━━━━━━━━━\u001b[0m \u001b[32m116.3/116.3 kB\u001b[0m \u001b[31m4.7 MB/s\u001b[0m eta \u001b[36m0:00:00\u001b[0m\n",
            "\u001b[?25hDownloading rustworkx-0.15.1-cp38-abi3-manylinux_2_17_x86_64.manylinux2014_x86_64.whl (2.0 MB)\n",
            "\u001b[2K   \u001b[90m━━━━━━━━━━━━━━━━━━━━━━━━━━━━━━━━━━━━━━━━\u001b[0m \u001b[32m2.0/2.0 MB\u001b[0m \u001b[31m16.3 MB/s\u001b[0m eta \u001b[36m0:00:00\u001b[0m\n",
            "\u001b[?25hDownloading stevedore-5.3.0-py3-none-any.whl (49 kB)\n",
            "\u001b[2K   \u001b[90m━━━━━━━━━━━━━━━━━━━━━━━━━━━━━━━━━━━━━━━━\u001b[0m \u001b[32m49.7/49.7 kB\u001b[0m \u001b[31m3.0 MB/s\u001b[0m eta \u001b[36m0:00:00\u001b[0m\n",
            "\u001b[?25hDownloading symengine-0.11.0-cp310-cp310-manylinux_2_12_x86_64.manylinux2010_x86_64.whl (39.4 MB)\n",
            "\u001b[2K   \u001b[90m━━━━━━━━━━━━━━━━━━━━━━━━━━━━━━━━━━━━━━━━\u001b[0m \u001b[32m39.4/39.4 MB\u001b[0m \u001b[31m11.5 MB/s\u001b[0m eta \u001b[36m0:00:00\u001b[0m\n",
            "\u001b[?25hDownloading pbr-6.1.0-py2.py3-none-any.whl (108 kB)\n",
            "\u001b[2K   \u001b[90m━━━━━━━━━━━━━━━━━━━━━━━━━━━━━━━━━━━━━━━━\u001b[0m \u001b[32m108.5/108.5 kB\u001b[0m \u001b[31m6.1 MB/s\u001b[0m eta \u001b[36m0:00:00\u001b[0m\n",
            "\u001b[?25hInstalling collected packages: symengine, rustworkx, pbr, dill, stevedore, qiskit\n",
            "Successfully installed dill-0.3.8 pbr-6.1.0 qiskit-1.2.1 rustworkx-0.15.1 stevedore-5.3.0 symengine-0.11.0\n",
            "Collecting qiskit_aer\n",
            "  Downloading qiskit_aer-0.15.1-cp310-cp310-manylinux_2_17_x86_64.manylinux2014_x86_64.whl.metadata (8.0 kB)\n",
            "Requirement already satisfied: qiskit>=1.1.0 in /usr/local/lib/python3.10/dist-packages (from qiskit_aer) (1.2.1)\n",
            "Requirement already satisfied: numpy>=1.16.3 in /usr/local/lib/python3.10/dist-packages (from qiskit_aer) (1.26.4)\n",
            "Requirement already satisfied: scipy>=1.0 in /usr/local/lib/python3.10/dist-packages (from qiskit_aer) (1.13.1)\n",
            "Requirement already satisfied: psutil>=5 in /usr/local/lib/python3.10/dist-packages (from qiskit_aer) (5.9.5)\n",
            "Requirement already satisfied: rustworkx>=0.15.0 in /usr/local/lib/python3.10/dist-packages (from qiskit>=1.1.0->qiskit_aer) (0.15.1)\n",
            "Requirement already satisfied: sympy>=1.3 in /usr/local/lib/python3.10/dist-packages (from qiskit>=1.1.0->qiskit_aer) (1.13.2)\n",
            "Requirement already satisfied: dill>=0.3 in /usr/local/lib/python3.10/dist-packages (from qiskit>=1.1.0->qiskit_aer) (0.3.8)\n",
            "Requirement already satisfied: python-dateutil>=2.8.0 in /usr/local/lib/python3.10/dist-packages (from qiskit>=1.1.0->qiskit_aer) (2.8.2)\n",
            "Requirement already satisfied: stevedore>=3.0.0 in /usr/local/lib/python3.10/dist-packages (from qiskit>=1.1.0->qiskit_aer) (5.3.0)\n",
            "Requirement already satisfied: typing-extensions in /usr/local/lib/python3.10/dist-packages (from qiskit>=1.1.0->qiskit_aer) (4.12.2)\n",
            "Requirement already satisfied: symengine>=0.11 in /usr/local/lib/python3.10/dist-packages (from qiskit>=1.1.0->qiskit_aer) (0.11.0)\n",
            "Requirement already satisfied: six>=1.5 in /usr/local/lib/python3.10/dist-packages (from python-dateutil>=2.8.0->qiskit>=1.1.0->qiskit_aer) (1.16.0)\n",
            "Requirement already satisfied: pbr>=2.0.0 in /usr/local/lib/python3.10/dist-packages (from stevedore>=3.0.0->qiskit>=1.1.0->qiskit_aer) (6.1.0)\n",
            "Requirement already satisfied: mpmath<1.4,>=1.1.0 in /usr/local/lib/python3.10/dist-packages (from sympy>=1.3->qiskit>=1.1.0->qiskit_aer) (1.3.0)\n",
            "Downloading qiskit_aer-0.15.1-cp310-cp310-manylinux_2_17_x86_64.manylinux2014_x86_64.whl (12.3 MB)\n",
            "\u001b[2K   \u001b[90m━━━━━━━━━━━━━━━━━━━━━━━━━━━━━━━━━━━━━━━━\u001b[0m \u001b[32m12.3/12.3 MB\u001b[0m \u001b[31m51.8 MB/s\u001b[0m eta \u001b[36m0:00:00\u001b[0m\n",
            "\u001b[?25hInstalling collected packages: qiskit_aer\n",
            "Successfully installed qiskit_aer-0.15.1\n",
            "Collecting qiskit-ibm-runtime\n",
            "  Downloading qiskit_ibm_runtime-0.29.1-py3-none-any.whl.metadata (19 kB)\n",
            "Requirement already satisfied: requests>=2.19 in /usr/local/lib/python3.10/dist-packages (from qiskit-ibm-runtime) (2.32.3)\n",
            "Collecting requests-ntlm>=1.1.0 (from qiskit-ibm-runtime)\n",
            "  Downloading requests_ntlm-1.3.0-py3-none-any.whl.metadata (2.4 kB)\n",
            "Requirement already satisfied: numpy>=1.13 in /usr/local/lib/python3.10/dist-packages (from qiskit-ibm-runtime) (1.26.4)\n",
            "Requirement already satisfied: urllib3>=1.21.1 in /usr/local/lib/python3.10/dist-packages (from qiskit-ibm-runtime) (2.0.7)\n",
            "Requirement already satisfied: python-dateutil>=2.8.0 in /usr/local/lib/python3.10/dist-packages (from qiskit-ibm-runtime) (2.8.2)\n",
            "Requirement already satisfied: websocket-client>=1.5.1 in /usr/local/lib/python3.10/dist-packages (from qiskit-ibm-runtime) (1.8.0)\n",
            "Collecting ibm-platform-services>=0.22.6 (from qiskit-ibm-runtime)\n",
            "  Downloading ibm_platform_services-0.57.0-py3-none-any.whl.metadata (9.1 kB)\n",
            "Requirement already satisfied: pydantic>=2.5.0 in /usr/local/lib/python3.10/dist-packages (from qiskit-ibm-runtime) (2.9.1)\n",
            "Requirement already satisfied: qiskit>=1.1.0 in /usr/local/lib/python3.10/dist-packages (from qiskit-ibm-runtime) (1.2.1)\n",
            "Collecting ibm-cloud-sdk-core<4.0.0,>=3.20.6 (from ibm-platform-services>=0.22.6->qiskit-ibm-runtime)\n",
            "  Downloading ibm_cloud_sdk_core-3.20.6-py3-none-any.whl.metadata (5.5 kB)\n",
            "Requirement already satisfied: annotated-types>=0.6.0 in /usr/local/lib/python3.10/dist-packages (from pydantic>=2.5.0->qiskit-ibm-runtime) (0.7.0)\n",
            "Requirement already satisfied: pydantic-core==2.23.3 in /usr/local/lib/python3.10/dist-packages (from pydantic>=2.5.0->qiskit-ibm-runtime) (2.23.3)\n",
            "Requirement already satisfied: typing-extensions>=4.6.1 in /usr/local/lib/python3.10/dist-packages (from pydantic>=2.5.0->qiskit-ibm-runtime) (4.12.2)\n",
            "Requirement already satisfied: six>=1.5 in /usr/local/lib/python3.10/dist-packages (from python-dateutil>=2.8.0->qiskit-ibm-runtime) (1.16.0)\n",
            "Requirement already satisfied: rustworkx>=0.15.0 in /usr/local/lib/python3.10/dist-packages (from qiskit>=1.1.0->qiskit-ibm-runtime) (0.15.1)\n",
            "Requirement already satisfied: scipy>=1.5 in /usr/local/lib/python3.10/dist-packages (from qiskit>=1.1.0->qiskit-ibm-runtime) (1.13.1)\n",
            "Requirement already satisfied: sympy>=1.3 in /usr/local/lib/python3.10/dist-packages (from qiskit>=1.1.0->qiskit-ibm-runtime) (1.13.2)\n",
            "Requirement already satisfied: dill>=0.3 in /usr/local/lib/python3.10/dist-packages (from qiskit>=1.1.0->qiskit-ibm-runtime) (0.3.8)\n",
            "Requirement already satisfied: stevedore>=3.0.0 in /usr/local/lib/python3.10/dist-packages (from qiskit>=1.1.0->qiskit-ibm-runtime) (5.3.0)\n",
            "Requirement already satisfied: symengine>=0.11 in /usr/local/lib/python3.10/dist-packages (from qiskit>=1.1.0->qiskit-ibm-runtime) (0.11.0)\n",
            "Requirement already satisfied: charset-normalizer<4,>=2 in /usr/local/lib/python3.10/dist-packages (from requests>=2.19->qiskit-ibm-runtime) (3.3.2)\n",
            "Requirement already satisfied: idna<4,>=2.5 in /usr/local/lib/python3.10/dist-packages (from requests>=2.19->qiskit-ibm-runtime) (3.10)\n",
            "Requirement already satisfied: certifi>=2017.4.17 in /usr/local/lib/python3.10/dist-packages (from requests>=2.19->qiskit-ibm-runtime) (2024.8.30)\n",
            "Requirement already satisfied: cryptography>=1.3 in /usr/local/lib/python3.10/dist-packages (from requests-ntlm>=1.1.0->qiskit-ibm-runtime) (43.0.1)\n",
            "Collecting pyspnego>=0.4.0 (from requests-ntlm>=1.1.0->qiskit-ibm-runtime)\n",
            "  Downloading pyspnego-0.11.1-py3-none-any.whl.metadata (5.4 kB)\n",
            "Requirement already satisfied: cffi>=1.12 in /usr/local/lib/python3.10/dist-packages (from cryptography>=1.3->requests-ntlm>=1.1.0->qiskit-ibm-runtime) (1.17.1)\n",
            "Collecting urllib3>=1.21.1 (from qiskit-ibm-runtime)\n",
            "  Downloading urllib3-2.2.3-py3-none-any.whl.metadata (6.5 kB)\n",
            "Requirement already satisfied: PyJWT<3.0.0,>=2.8.0 in /usr/local/lib/python3.10/dist-packages (from ibm-cloud-sdk-core<4.0.0,>=3.20.6->ibm-platform-services>=0.22.6->qiskit-ibm-runtime) (2.9.0)\n",
            "Requirement already satisfied: pbr>=2.0.0 in /usr/local/lib/python3.10/dist-packages (from stevedore>=3.0.0->qiskit>=1.1.0->qiskit-ibm-runtime) (6.1.0)\n",
            "Requirement already satisfied: mpmath<1.4,>=1.1.0 in /usr/local/lib/python3.10/dist-packages (from sympy>=1.3->qiskit>=1.1.0->qiskit-ibm-runtime) (1.3.0)\n",
            "Requirement already satisfied: pycparser in /usr/local/lib/python3.10/dist-packages (from cffi>=1.12->cryptography>=1.3->requests-ntlm>=1.1.0->qiskit-ibm-runtime) (2.22)\n",
            "Downloading qiskit_ibm_runtime-0.29.1-py3-none-any.whl (2.9 MB)\n",
            "\u001b[2K   \u001b[90m━━━━━━━━━━━━━━━━━━━━━━━━━━━━━━━━━━━━━━━━\u001b[0m \u001b[32m2.9/2.9 MB\u001b[0m \u001b[31m31.3 MB/s\u001b[0m eta \u001b[36m0:00:00\u001b[0m\n",
            "\u001b[?25hDownloading ibm_platform_services-0.57.0-py3-none-any.whl (343 kB)\n",
            "\u001b[2K   \u001b[90m━━━━━━━━━━━━━━━━━━━━━━━━━━━━━━━━━━━━━━━━\u001b[0m \u001b[32m343.3/343.3 kB\u001b[0m \u001b[31m16.5 MB/s\u001b[0m eta \u001b[36m0:00:00\u001b[0m\n",
            "\u001b[?25hDownloading requests_ntlm-1.3.0-py3-none-any.whl (6.6 kB)\n",
            "Downloading ibm_cloud_sdk_core-3.20.6-py3-none-any.whl (60 kB)\n",
            "\u001b[2K   \u001b[90m━━━━━━━━━━━━━━━━━━━━━━━━━━━━━━━━━━━━━━━━\u001b[0m \u001b[32m60.7/60.7 kB\u001b[0m \u001b[31m4.3 MB/s\u001b[0m eta \u001b[36m0:00:00\u001b[0m\n",
            "\u001b[?25hDownloading urllib3-2.2.3-py3-none-any.whl (126 kB)\n",
            "\u001b[2K   \u001b[90m━━━━━━━━━━━━━━━━━━━━━━━━━━━━━━━━━━━━━━━━\u001b[0m \u001b[32m126.3/126.3 kB\u001b[0m \u001b[31m9.6 MB/s\u001b[0m eta \u001b[36m0:00:00\u001b[0m\n",
            "\u001b[?25hDownloading pyspnego-0.11.1-py3-none-any.whl (130 kB)\n",
            "\u001b[2K   \u001b[90m━━━━━━━━━━━━━━━━━━━━━━━━━━━━━━━━━━━━━━━━\u001b[0m \u001b[32m130.5/130.5 kB\u001b[0m \u001b[31m9.7 MB/s\u001b[0m eta \u001b[36m0:00:00\u001b[0m\n",
            "\u001b[?25hInstalling collected packages: urllib3, pyspnego, ibm-cloud-sdk-core, requests-ntlm, ibm-platform-services, qiskit-ibm-runtime\n",
            "  Attempting uninstall: urllib3\n",
            "    Found existing installation: urllib3 2.0.7\n",
            "    Uninstalling urllib3-2.0.7:\n",
            "      Successfully uninstalled urllib3-2.0.7\n",
            "Successfully installed ibm-cloud-sdk-core-3.20.6 ibm-platform-services-0.57.0 pyspnego-0.11.1 qiskit-ibm-runtime-0.29.1 requests-ntlm-1.3.0 urllib3-2.2.3\n",
            "Requirement already satisfied: qiskit in /usr/local/lib/python3.10/dist-packages (1.2.1)\n",
            "Requirement already satisfied: rustworkx>=0.15.0 in /usr/local/lib/python3.10/dist-packages (from qiskit) (0.15.1)\n",
            "Requirement already satisfied: numpy<3,>=1.17 in /usr/local/lib/python3.10/dist-packages (from qiskit) (1.26.4)\n",
            "Requirement already satisfied: scipy>=1.5 in /usr/local/lib/python3.10/dist-packages (from qiskit) (1.13.1)\n",
            "Requirement already satisfied: sympy>=1.3 in /usr/local/lib/python3.10/dist-packages (from qiskit) (1.13.2)\n",
            "Requirement already satisfied: dill>=0.3 in /usr/local/lib/python3.10/dist-packages (from qiskit) (0.3.8)\n",
            "Requirement already satisfied: python-dateutil>=2.8.0 in /usr/local/lib/python3.10/dist-packages (from qiskit) (2.8.2)\n",
            "Requirement already satisfied: stevedore>=3.0.0 in /usr/local/lib/python3.10/dist-packages (from qiskit) (5.3.0)\n",
            "Requirement already satisfied: typing-extensions in /usr/local/lib/python3.10/dist-packages (from qiskit) (4.12.2)\n",
            "Requirement already satisfied: symengine>=0.11 in /usr/local/lib/python3.10/dist-packages (from qiskit) (0.11.0)\n",
            "Requirement already satisfied: six>=1.5 in /usr/local/lib/python3.10/dist-packages (from python-dateutil>=2.8.0->qiskit) (1.16.0)\n",
            "Requirement already satisfied: pbr>=2.0.0 in /usr/local/lib/python3.10/dist-packages (from stevedore>=3.0.0->qiskit) (6.1.0)\n",
            "Requirement already satisfied: mpmath<1.4,>=1.1.0 in /usr/local/lib/python3.10/dist-packages (from sympy>=1.3->qiskit) (1.3.0)\n"
          ]
        },
        {
          "output_type": "execute_result",
          "data": {
            "text/plain": [
              "'1.2.1'"
            ],
            "application/vnd.google.colaboratory.intrinsic+json": {
              "type": "string"
            }
          },
          "metadata": {},
          "execution_count": 1
        }
      ],
      "source": [
        "!pip install qiskit -U\n",
        "!pip install qiskit_aer\n",
        "!pip install qiskit-ibm-runtime\n",
        "!pip install --upgrade qiskit\n",
        "\n",
        "import qiskit\n",
        "qiskit.__version__"
      ]
    },
    {
      "cell_type": "code",
      "execution_count": null,
      "metadata": {
        "colab": {
          "base_uri": "https://localhost:8080/"
        },
        "collapsed": true,
        "id": "03QOZ-BvvFdC",
        "outputId": "d92921e6-0a3b-43fc-c5fa-d5e396b45576"
      },
      "outputs": [
        {
          "name": "stdout",
          "output_type": "stream",
          "text": [
            "Requirement already satisfied: matplotlib in /usr/local/lib/python3.10/dist-packages (3.7.1)\n",
            "Requirement already satisfied: contourpy>=1.0.1 in /usr/local/lib/python3.10/dist-packages (from matplotlib) (1.3.0)\n",
            "Requirement already satisfied: cycler>=0.10 in /usr/local/lib/python3.10/dist-packages (from matplotlib) (0.12.1)\n",
            "Requirement already satisfied: fonttools>=4.22.0 in /usr/local/lib/python3.10/dist-packages (from matplotlib) (4.53.1)\n",
            "Requirement already satisfied: kiwisolver>=1.0.1 in /usr/local/lib/python3.10/dist-packages (from matplotlib) (1.4.7)\n",
            "Requirement already satisfied: numpy>=1.20 in /usr/local/lib/python3.10/dist-packages (from matplotlib) (1.26.4)\n",
            "Requirement already satisfied: packaging>=20.0 in /usr/local/lib/python3.10/dist-packages (from matplotlib) (24.1)\n",
            "Requirement already satisfied: pillow>=6.2.0 in /usr/local/lib/python3.10/dist-packages (from matplotlib) (9.4.0)\n",
            "Requirement already satisfied: pyparsing>=2.3.1 in /usr/local/lib/python3.10/dist-packages (from matplotlib) (3.1.4)\n",
            "Requirement already satisfied: python-dateutil>=2.7 in /usr/local/lib/python3.10/dist-packages (from matplotlib) (2.8.2)\n",
            "Requirement already satisfied: six>=1.5 in /usr/local/lib/python3.10/dist-packages (from python-dateutil>=2.7->matplotlib) (1.16.0)\n",
            "Collecting pylatexenc\n",
            "  Downloading pylatexenc-2.10.tar.gz (162 kB)\n",
            "\u001b[2K     \u001b[90m━━━━━━━━━━━━━━━━━━━━━━━━━━━━━━━━━━━━━━━━\u001b[0m \u001b[32m162.6/162.6 kB\u001b[0m \u001b[31m1.5 MB/s\u001b[0m eta \u001b[36m0:00:00\u001b[0m\n",
            "\u001b[?25h  Preparing metadata (setup.py) ... \u001b[?25l\u001b[?25hdone\n",
            "Building wheels for collected packages: pylatexenc\n",
            "  Building wheel for pylatexenc (setup.py) ... \u001b[?25l\u001b[?25hdone\n",
            "  Created wheel for pylatexenc: filename=pylatexenc-2.10-py3-none-any.whl size=136817 sha256=a8f054f29c5120756c17dca148dc85f72c5fdc199116f009075ff9fc5c1ed7f3\n",
            "  Stored in directory: /root/.cache/pip/wheels/d3/31/8b/e09b0386afd80cfc556c00408c9aeea5c35c4d484a9c762fd5\n",
            "Successfully built pylatexenc\n",
            "Installing collected packages: pylatexenc\n",
            "Successfully installed pylatexenc-2.10\n"
          ]
        }
      ],
      "source": [
        "!pip install matplotlib\n",
        "!pip install pylatexenc"
      ]
    },
    {
      "cell_type": "code",
      "execution_count": null,
      "metadata": {
        "id": "9L6AJpSGOM09"
      },
      "outputs": [],
      "source": [
        "# Qiskit: métodos básicos\n",
        "\n",
        "from qiskit import QuantumCircuit, ClassicalRegister, QuantumRegister\n",
        "\n",
        "from qiskit import transpile\n",
        "\n",
        "from qiskit.visualization import plot_histogram, array_to_latex, plot_state_city"
      ]
    },
    {
      "cell_type": "code",
      "execution_count": null,
      "metadata": {
        "colab": {
          "background_save": true
        },
        "id": "LSjNYkT2XfWI",
        "outputId": "004b8f24-e28f-48a7-9f0f-c674b51c3a34",
        "collapsed": true
      },
      "outputs": [
        {
          "name": "stdout",
          "output_type": "stream",
          "text": [
            "Backends disponíveis:\n"
          ]
        },
        {
          "data": {
            "text/plain": [
              "[<IBMBackend('ibm_brisbane')>,\n",
              " <IBMBackend('ibm_kyiv')>,\n",
              " <IBMBackend('ibm_sherbrooke')>]"
            ]
          },
          "metadata": {},
          "output_type": "display_data"
        },
        {
          "name": "stdout",
          "output_type": "stream",
          "text": [
            "Backend:\n"
          ]
        },
        {
          "data": {
            "application/vnd.google.colaboratory.intrinsic+json": {
              "type": "string"
            },
            "text/plain": [
              "'ibm_sherbrooke'"
            ]
          },
          "metadata": {},
          "output_type": "display_data"
        }
      ],
      "source": [
        "# Acesso à IBM\n",
        "\n",
        "from qiskit_ibm_runtime import QiskitRuntimeService\n",
        "\n",
        "IBMToken_Thierry = \"SUA CHAVE DE ACESSO\"\n",
        "QiskitRuntimeService.save_account(\n",
        "channel = 'ibm_quantum',\n",
        "token = IBMToken_Thierry,\n",
        "overwrite=True\n",
        ")\n",
        "\n",
        "# Processadores disponíveis\n",
        "\n",
        "service = QiskitRuntimeService()\n",
        "print(\"Backends disponíveis:\")\n",
        "display(service.backends())\n",
        "\n",
        "# Backend\n",
        "service = QiskitRuntimeService(channel=\"ibm_quantum\")\n",
        "\n",
        "'''\n",
        "Backend com menor número de jobs em execução\n",
        "'''\n",
        "backend = service.least_busy(operational=True, simulator=False)\n",
        "\n",
        "'''\n",
        "Backend personalizado\n",
        "'''\n",
        "#backend = service.backend(name=\"ibm_brisbane\")\n",
        "\n",
        "print(\"Backend:\")\n",
        "display(backend.name)"
      ]
    },
    {
      "cell_type": "markdown",
      "metadata": {
        "id": "xs3VcpO8EaZF"
      },
      "source": [
        "# Exemplos"
      ]
    },
    {
      "cell_type": "markdown",
      "metadata": {
        "id": "NOBOlhrBEeTs"
      },
      "source": [
        "## Circuito com 1 qubit"
      ]
    },
    {
      "cell_type": "code",
      "execution_count": null,
      "metadata": {
        "colab": {
          "base_uri": "https://localhost:8080/",
          "height": 191
        },
        "id": "Vrasr7TMEphz",
        "outputId": "ad2053c7-a741-4d29-e02c-182e3fdbce86"
      },
      "outputs": [
        {
          "data": {
            "image/png": "[encoded data removed]",
            "text/plain": [
              "<Figure size 329.563x200.667 with 1 Axes>"
            ]
          },
          "execution_count": 9,
          "metadata": {},
          "output_type": "execute_result"
        }
      ],
      "source": [
        "'''\n",
        "Circuto Quântico com 1 Qubit\n",
        "'''\n",
        "\n",
        "q = QuantumRegister(1, name='Qubit')\n",
        "c = ClassicalRegister(1, name='Bit')\n",
        "qc = QuantumCircuit(q,c)\n",
        "qc.h(q[0])\n",
        "qc.measure(q,c)\n",
        "qc.draw('mpl')"
      ]
    },
    {
      "cell_type": "code",
      "execution_count": null,
      "metadata": {
        "colab": {
          "base_uri": "https://localhost:8080/",
          "height": 451
        },
        "id": "ypjJzVRPBUNo",
        "outputId": "5111b70b-9c72-4344-c7f7-f437175ed82e"
      },
      "outputs": [
        {
          "data": {
            "image/png": "[encoded data removed]",
            "text/plain": [
              "<Figure size 640x480 with 1 Axes>"
            ]
          },
          "execution_count": 15,
          "metadata": {},
          "output_type": "execute_result"
        }
      ],
      "source": [
        "'''\n",
        "Simulação clássica do circuito\n",
        "'''\n",
        "\n",
        "from qiskit_aer import AerSimulator\n",
        "\n",
        "# Simulador\n",
        "simulator = AerSimulator()\n",
        "\n",
        "# Transpilação\n",
        "qc_t = transpile(qc, simulator)\n",
        "\n",
        "# Simulação\n",
        "result = simulator.run(qc_t, shots = 2**10).result()\n",
        "\n",
        "# Plotagem do histograma das estatísticas\n",
        "counts = result.get_counts(qc_t)\n",
        "plot_histogram(counts, title='Probabilidades na base computacional')"
      ]
    },
    {
      "cell_type": "markdown",
      "metadata": {
        "id": "gaE1_PjeElWc"
      },
      "source": [
        "## Circuito com 2 qubits\n",
        "\n",
        "O espaço de dois qubits corresponde ao produto tensorial de dois espaços de 1 qubit:\n",
        "\n",
        "$$\n",
        "\\mathcal{H}_2 = \\mathcal{H}_1 \\otimes \\mathcal{H}_1, \\ \\ \\mathcal{H}_1 = \\mathbb{C}^2.\n",
        "$$\n",
        "\n",
        "Há portas em $\\mathcal{H}_2$ que se decompõem como produto tensorial de portas de $\\mathcal{H}_1$:\n",
        "\n",
        "$$\n",
        "U = U_0 \\otimes U_1.\n",
        "$$\n",
        "Nesse caso:\n",
        "\n",
        "$$\n",
        "\\begin{split}\n",
        "| \\psi \\rangle &= | \\psi_0 \\rangle \\otimes | \\psi_1 \\rangle \\mapsto U | \\psi \\rangle = (U_0 | \\psi_0 \\rangle) \\otimes (U_1 | \\psi_1 \\rangle).\n",
        "\\end{split}\n",
        "$$\n",
        "\n",
        "Notação para a ação das portas nas componentes de $\\mathcal{H}_2$: indicamos o qubit em que a porta atua por um subescrito. Exemplo:\n",
        "\n",
        "$$\n",
        "\\begin{split}\n",
        "H_0 := H \\otimes I : \\text{denota a ação da porta Hadamard $H$ no qubit $q[0]$}.\\\\\n",
        "H_1 := I \\otimes H : \\text{denota a ação da porta Hadamard $H$ no qubit $q[1]$}.\n",
        "\\end{split}\n",
        "$$\n",
        "Assim:\n",
        "$$\n",
        "\\begin{split}\n",
        "| \\psi \\rangle = |0 \\rangle | 0 \\rangle \\mapsto H_0 | \\psi \\rangle &= (H| 0\\rangle) | 0 \\rangle \\\\\n",
        "&= \\left(\\frac{|0 \\rangle+ |1\\rangle}{\\sqrt{2}}\\right) | 0 \\rangle\\\\\n",
        "&= \\frac{1}{\\sqrt{2}} | 0 \\rangle |0\\rangle +\\frac{1}{\\sqrt{2}} | 1 \\rangle |0\\rangle\\\\\n",
        "&= \\frac{1}{\\sqrt{2}}|00\\rangle + \\frac{1}{\\sqrt{2}}|10\\rangle.\n",
        "\\end{split}\n",
        "$$"
      ]
    },
    {
      "cell_type": "code",
      "execution_count": null,
      "metadata": {
        "colab": {
          "base_uri": "https://localhost:8080/",
          "height": 255
        },
        "id": "RuesjQo66nW0",
        "outputId": "893d3600-119a-47ef-f278-7d3dd5912d1e"
      },
      "outputs": [
        {
          "data": {
            "image/png": "[encoded data removed]",
            "text/plain": [
              "<Figure size 598.627x284.278 with 1 Axes>"
            ]
          },
          "execution_count": 36,
          "metadata": {},
          "output_type": "execute_result"
        }
      ],
      "source": [
        "'''\n",
        "Circuto Quântico com 1 Qubit\n",
        "'''\n",
        "\n",
        "import numpy as np\n",
        "from numpy import pi\n",
        "\n",
        "q = QuantumRegister(2, name='Qubit')\n",
        "c = ClassicalRegister(2, name='Bit')\n",
        "qc = QuantumCircuit(q,c)\n",
        "qc.h(q[0])\n",
        "qc.cx(q[0],q[1])\n",
        "qc.p(pi/2,q[1])\n",
        "qc.measure([q[0],q[1]],[c[0],c[1]])\n",
        "qc.draw('mpl')"
      ]
    },
    {
      "cell_type": "code",
      "execution_count": null,
      "metadata": {
        "colab": {
          "base_uri": "https://localhost:8080/",
          "height": 460
        },
        "id": "BmuDfss9KJVC",
        "outputId": "ae5a663a-960a-4fb6-908b-56f10cd1a01d"
      },
      "outputs": [
        {
          "data": {
            "image/png": "[encoded data removed]",
            "text/plain": [
              "<Figure size 640x480 with 1 Axes>"
            ]
          },
          "execution_count": 39,
          "metadata": {},
          "output_type": "execute_result"
        }
      ],
      "source": [
        "'''\n",
        "Simulação clássica do circuito\n",
        "'''\n",
        "\n",
        "# Simulador\n",
        "simulator = AerSimulator()\n",
        "\n",
        "# Transpilação\n",
        "qc_t = transpile(qc, simulator)\n",
        "\n",
        "# Simulação\n",
        "result = simulator.run(qc_t, shots = 2**10).result()\n",
        "\n",
        "# Plotagem do histograma das estatísticas\n",
        "counts = result.get_counts(qc_t)\n",
        "plot_histogram(counts, title='Probabilidades na base computacional')"
      ]
    },
    {
      "cell_type": "code",
      "execution_count": null,
      "metadata": {
        "collapsed": true,
        "id": "29IIWoMNL0Au",
        "colab": {
          "base_uri": "https://localhost:8080/",
          "height": 235
        },
        "outputId": "2369754e-4bcb-46df-c938-4a7132e84fb2"
      },
      "outputs": [
        {
          "output_type": "error",
          "ename": "NameError",
          "evalue": "name 'service' is not defined",
          "traceback": [
            "\u001b[0;31m---------------------------------------------------------------------------\u001b[0m",
            "\u001b[0;31mNameError\u001b[0m                                 Traceback (most recent call last)",
            "\u001b[0;32m<ipython-input-1-c876dcfd9670>\u001b[0m in \u001b[0;36m<cell line: 7>\u001b[0;34m()\u001b[0m\n\u001b[1;32m      5\u001b[0m \u001b[0;31m# Backend\u001b[0m\u001b[0;34m\u001b[0m\u001b[0;34m\u001b[0m\u001b[0m\n\u001b[1;32m      6\u001b[0m \u001b[0;34m\u001b[0m\u001b[0m\n\u001b[0;32m----> 7\u001b[0;31m \u001b[0mbackend\u001b[0m \u001b[0;34m=\u001b[0m \u001b[0mservice\u001b[0m\u001b[0;34m.\u001b[0m\u001b[0mbackend\u001b[0m\u001b[0;34m(\u001b[0m\u001b[0mname\u001b[0m\u001b[0;34m=\u001b[0m\u001b[0;34m\"ibm_kyoto\"\u001b[0m\u001b[0;34m)\u001b[0m\u001b[0;34m\u001b[0m\u001b[0;34m\u001b[0m\u001b[0m\n\u001b[0m\u001b[1;32m      8\u001b[0m \u001b[0mprint\u001b[0m\u001b[0;34m(\u001b[0m\u001b[0;34mf\"Backend: {backend}\"\u001b[0m\u001b[0;34m)\u001b[0m\u001b[0;34m\u001b[0m\u001b[0;34m\u001b[0m\u001b[0m\n\u001b[1;32m      9\u001b[0m \u001b[0;34m\u001b[0m\u001b[0m\n",
            "\u001b[0;31mNameError\u001b[0m: name 'service' is not defined"
          ]
        }
      ],
      "source": [
        "'''\n",
        "Simulação Quântica\n",
        "'''\n",
        "\n",
        "# Backend\n",
        "\n",
        "backend = service.backend(name=\"ibm_kyoto\")\n",
        "print(f\"Backend: {backend}\")\n",
        "\n",
        "# Transpilação\n",
        "from qiskit import transpile\n",
        "qc_t = transpile(qc, backend=backend, optimization_level=1, basis_gates=backend.configuration().basis_gates)\n",
        "display(qc_t.draw('mpl'))\n",
        "\n",
        "# Simulação\n",
        "from qiskit_ibm_runtime import SamplerV2 as Sampler\n",
        "sampler = Sampler(mode=backend)\n",
        "sampler.options.dynamical_decoupling.enable = True\n",
        "sampler.options.dynamical_decoupling.sequence_type = \"XY4\""
      ]
    },
    {
      "cell_type": "code",
      "execution_count": null,
      "metadata": {
        "colab": {
          "base_uri": "https://localhost:8080/"
        },
        "id": "pYSkZpTBMsjN",
        "outputId": "f925f46a-7614-4ff2-aa6c-d7708b8204c6"
      },
      "outputs": [
        {
          "name": "stdout",
          "output_type": "stream",
          "text": [
            "cvc9rrk8w2g0008e8830\n"
          ]
        }
      ],
      "source": [
        "# Ordem para execução da simulação no chip quântico da IBM\n",
        "\n",
        "job = sampler.run(qc_t)\n",
        "print(job.job_id())"
      ]
    },
    {
      "cell_type": "code",
      "execution_count": null,
      "metadata": {
        "colab": {
          "base_uri": "https://localhost:8080/",
          "height": 35
        },
        "id": "ty_tlipkI0ds",
        "outputId": "66f88287-7f0b-4d98-edb7-be669e665519"
      },
      "outputs": [
        {
          "data": {
            "application/vnd.google.colaboratory.intrinsic+json": {
              "type": "string"
            },
            "text/plain": [
              "'DONE'"
            ]
          },
          "execution_count": 47,
          "metadata": {},
          "output_type": "execute_result"
        }
      ],
      "source": [
        "job.status()"
      ]
    },
    {
      "cell_type": "code",
      "execution_count": null,
      "metadata": {
        "colab": {
          "base_uri": "https://localhost:8080/"
        },
        "id": "gXoKtf_GM3m6",
        "outputId": "0952fd06-4038-454f-9c95-afa08566db53"
      },
      "outputs": [
        {
          "data": {
            "text/plain": [
              "PrimitiveResult([PubResult(data=DataBin(Bit=BitArray(<shape=(), num_shots=4096, num_bits=2>)), metadata={'circuit_metadata': {}})], metadata={'version': 2})"
            ]
          },
          "execution_count": 48,
          "metadata": {},
          "output_type": "execute_result"
        }
      ],
      "source": [
        "job_id = \"cvc9rrk8w2g0008e8830\"\n",
        "job = service.job(job_id)\n",
        "\n",
        "job.result()#[0]"
      ]
    },
    {
      "cell_type": "code",
      "execution_count": null,
      "metadata": {
        "colab": {
          "base_uri": "https://localhost:8080/"
        },
        "id": "_HfM6HbIR9Rb",
        "outputId": "96c916a9-d6d2-48de-fda1-e2cd61054606"
      },
      "outputs": [
        {
          "data": {
            "text/plain": [
              "{'00': 1784, '11': 1722, '01': 272, '10': 318}"
            ]
          },
          "execution_count": 50,
          "metadata": {},
          "output_type": "execute_result"
        }
      ],
      "source": [
        "# Extract counts from the quasi-distribution for the first circuit\n",
        "count = job.result()[0].data.Bit.get_counts()  # Handle the case where 'counts' might be missing\n",
        "count"
      ]
    },
    {
      "cell_type": "code",
      "execution_count": null,
      "metadata": {
        "colab": {
          "base_uri": "https://localhost:8080/",
          "height": 962
        },
        "id": "fL7nvmqTQW6K",
        "outputId": "921b4032-41de-4f51-9a73-03e0da2c46f0"
      },
      "outputs": [
        {
          "name": "stdout",
          "output_type": "stream",
          "text": [
            "Shots= 4096\n",
            "Probabilidades:\n",
            "P(00) = 0.435546875, P(10) = 0.07763671875, P(01) = 0.06640625 e P(11) = 0.42041015625\n",
            "Histograma dos resultados:\n"
          ]
        },
        {
          "data": {
            "image/png": "[encoded data removed]",
            "text/plain": [
              "<Figure size 640x480 with 1 Axes>"
            ]
          },
          "metadata": {},
          "output_type": "display_data"
        },
        {
          "name": "stdout",
          "output_type": "stream",
          "text": [
            "Histograma das probabilidades:\n"
          ]
        },
        {
          "data": {
            "image/png": "[encoded data removed]",
            "text/plain": [
              "<Figure size 640x480 with 1 Axes>"
            ]
          },
          "execution_count": 54,
          "metadata": {},
          "output_type": "execute_result"
        }
      ],
      "source": [
        "# Plotagem das estatísticas\n",
        "shots = count['00'] + count['11'] + count['01'] + count['10']\n",
        "print(f\"Shots= {shots}\")\n",
        "print(\"Probabilidades:\")\n",
        "print(f\"P(00) = {count['00']/shots}, P(10) = {count['10']/shots}, P(01) = {count['01']/shots} e P(11) = {count['11']/shots}\")\n",
        "\n",
        "# Plotagem do  histograma dos resultados\n",
        "from qiskit.visualization import plot_histogram\n",
        "Shots = {'shots': shots}\n",
        "print(\"Histograma dos resultados:\")\n",
        "display(plot_histogram([Shots, count]))\n",
        "print(\"Histograma das probabilidades:\")\n",
        "probabilidade = {'00': count['00']/shots, '01': count['01']/shots, '10': count['10']/shots, '11': count['11']/shots}\n",
        "plot_histogram(probabilidade)"
      ]
    },
    {
      "cell_type": "markdown",
      "metadata": {
        "id": "-ALHisXDjrh_"
      },
      "source": [
        "# 2Qubit"
      ]
    },
    {
      "cell_type": "code",
      "execution_count": null,
      "metadata": {
        "id": "hrhOy0AxSWmD"
      },
      "outputs": [],
      "source": [
        "'''\n",
        "Função 2Qubit\n",
        "'''\n",
        "def Dubit(n = 2):\n"
      ]
    },
    {
      "cell_type": "markdown",
      "metadata": {
        "id": "MvyL9_djV9HL"
      },
      "source": [
        "# Interferômetro de Mach-Zehnder"
      ]
    },
    {
      "cell_type": "code",
      "execution_count": null,
      "metadata": {
        "colab": {
          "base_uri": "https://localhost:8080/",
          "height": 255
        },
        "id": "c4-2z21xWAoQ",
        "outputId": "9d713a4d-02fe-4e8e-ccef-07bfe9978915"
      },
      "outputs": [
        {
          "data": {
            "image/png": "[encoded data removed]",
            "text/plain": [
              "<Figure size 433.799x284.278 with 1 Axes>"
            ]
          },
          "execution_count": 38,
          "metadata": {},
          "output_type": "execute_result"
        }
      ],
      "source": [
        "'''\n",
        "Interqerômetro de Mach-Zehnder\n",
        "https://edisciplinas.usp.br/pluginfile.php/7654961/mod_resource/content/1/CFQ6a-02.pdf\n",
        "'''\n",
        "\n",
        "#lembrar depois da biblioteca\n",
        "\n",
        "import numpy as np\n",
        "from qiskit import QuantumCircuit, QuantumRegister, ClassicalRegister\n",
        "from qiskit_aer import Aer\n",
        "# from qiskit import execute\n",
        "from qiskit.visualization import plot_histogram\n",
        "from numpy import pi\n",
        "\n",
        "#Criação de registradores quanticos.\n",
        "q = QuantumRegister(2, name='Foton')\n",
        "c = ClassicalRegister(2, name='Bit')\n",
        "\n",
        "qc = QuantumCircuit(q,c) #craição do circuito.\n",
        "\n",
        "qc.h(q[0])  #aplicação da porta hadamard no primeiro qeixe para divir o qeixe, ou em termos quanticos um qoton.\n",
        "\n",
        "\n",
        "#deixar pi/4 depois ir trocando para pi,pi/2,2pi,3pi/2 e etc, para ver como se comporta o qeixe\n",
        "qc.p(pi, q[1])  #aplicação das portas de fase\n",
        "\n",
        "qc.h(q[0]) #Aplicação da porta hadamar no segundo qoton apos ser dividido\n",
        "\n",
        "qc.measure(q[0],c[0]) #medição do resultado\n",
        "qc.measure(q[1], c[1])\n",
        "\n",
        "qc.draw('mpl') #desenhar teste\n"
      ]
    },
    {
      "cell_type": "code",
      "execution_count": null,
      "metadata": {
        "id": "6Q8QAPJxPqDV"
      },
      "outputs": [],
      "source": []
    },
    {
      "cell_type": "markdown",
      "metadata": {
        "id": "qRamKBwEbDvX"
      },
      "source": [
        "# TESTES"
      ]
    },
    {
      "cell_type": "code",
      "execution_count": null,
      "metadata": {
        "colab": {
          "base_uri": "https://localhost:8080/",
          "height": 255
        },
        "id": "BoUSCZBSbHxf",
        "outputId": "fb01f854-e636-45f3-9dc1-b0358ecf5253"
      },
      "outputs": [
        {
          "data": {
            "image/png": "[encoded data removed]",
            "text/plain": [
              "<Figure size 556.56x284.278 with 1 Axes>"
            ]
          },
          "execution_count": 8,
          "metadata": {},
          "output_type": "execute_result"
        }
      ],
      "source": [
        "q = QuantumRegister(2)\n",
        "c = ClassicalRegister(2)\n",
        "teste = QuantumCircuit(q,c)\n",
        "teste.h(q[0])\n",
        "teste.measure(q[0],c[0])\n",
        "teste.cx(q[0],q[1])\n",
        "teste.measure([q[0],q[1]],[c[0],c[1]])\n",
        "teste.draw('mpl')"
      ]
    },
    {
      "cell_type": "code",
      "execution_count": null,
      "metadata": {
        "colab": {
          "base_uri": "https://localhost:8080/",
          "height": 571
        },
        "id": "Q_y846BUeja7",
        "outputId": "6381f013-a4bc-4867-dd15-49395ecbccd4"
      },
      "outputs": [
        {
          "name": "stdout",
          "output_type": "stream",
          "text": [
            "Estadovetor:\n",
            "Statevector([0.+0.j, 0.+0.j, 0.+0.j, 1.+0.j],\n",
            "            dims=(2, 2))\n",
            "Estadovetor em formato latex:\n"
          ]
        },
        {
          "data": {
            "text/latex": "$$\n\n\\begin{bmatrix}\n0 & 0 & 0 & 1  \\\\\n \\end{bmatrix}\n$$",
            "text/plain": [
              "<IPython.core.display.Latex object>"
            ]
          },
          "metadata": {},
          "output_type": "display_data"
        },
        {
          "data": {
            "image/png": "[encoded data removed]",
            "text/plain": [
              "<Figure size 640x480 with 1 Axes>"
            ]
          },
          "execution_count": 31,
          "metadata": {},
          "output_type": "execute_result"
        }
      ],
      "source": [
        "# Simulador e transpilação\n",
        "from qiskit_aer import AerSimulator\n",
        "simulator = AerSimulator()\n",
        "\n",
        "# Estado gerado pelo circuito\n",
        "teste.save_statevector() # Armazenamento do estadovetor\n",
        "\n",
        "# Simulador e transpilação\n",
        "simulator = AerSimulator(method='statevector') # <-- ATENÇÃO ao método\n",
        "teste_t = transpile(teste, simulator)\n",
        "\n",
        "# Simulação e estadovetor\n",
        "result = simulator.run(teste_t).result()\n",
        "statevector = result.get_statevector(teste_t)\n",
        "print(\"Estadovetor:\")\n",
        "print(statevector)\n",
        "\n",
        "# Impressão do estado no formato Latex\n",
        "from qiskit.visualization import array_to_latex\n",
        "print(\"Estadovetor em formato latex:\")\n",
        "display(array_to_latex(statevector, precision=10, prefix='', source=False, max_size=8))\n",
        "\n",
        "# Plotagem dos coeficientes do estado vetor\n",
        "plot_state_city(statevector, title='Estado de Bell')\n",
        "\n",
        "# Simulação e contagem\n",
        "result = simulator.run(teste_t, shots = 2**10).result()\n",
        "\n",
        "# Plotagem do histograma das estatísticas\n",
        "counts = result.get_counts(teste_t)\n",
        "plot_histogram(counts, title='Bell-State counts')"
      ]
    },
    {
      "cell_type": "code",
      "execution_count": null,
      "metadata": {
        "id": "pRzRom3ofdAS"
      },
      "outputs": [],
      "source": []
    }
  ],
  "metadata": {
    "colab": {
      "provenance": [],
      "include_colab_link": true
    },
    "kernelspec": {
      "display_name": "Python 3",
      "name": "python3"
    },
    "language_info": {
      "name": "python"
    }
  },
  "nbformat": 4,
  "nbformat_minor": 0
}