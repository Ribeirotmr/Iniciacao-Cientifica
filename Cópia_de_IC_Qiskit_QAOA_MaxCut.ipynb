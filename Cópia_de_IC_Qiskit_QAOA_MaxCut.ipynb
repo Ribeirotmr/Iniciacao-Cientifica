{
  "cells": [
    {
      "cell_type": "markdown",
      "metadata": {
        "id": "view-in-github",
        "colab_type": "text"
      },
      "source": [
        "<a href=\"https://colab.research.google.com/github/Ribeirotmr/Iniciacao-Cientifica/blob/main/C%C3%B3pia_de_IC_Qiskit_QAOA_MaxCut.ipynb\" target=\"_parent\"><img src=\"https://colab.research.google.com/assets/colab-badge.svg\" alt=\"Open In Colab\"/></a>"
      ]
    },
    {
      "cell_type": "markdown",
      "metadata": {
        "id": "CVwRT-1fcO3d"
      },
      "source": [
        "# QAOA para MaxCut\n",
        "\n",
        "---\n",
        "<center><img align = \"center\" src=\"https://drive.google.com/uc?export=view&id=1IC757TuhluqVqw0RF77pgtEaWyNDBHYb\" alt=\"grafo\" width=\"300\"></center>\n",
        "\n",
        "\n",
        "---\n",
        "`Link:`\n",
        "\n",
        "[Fassarella.net](https://fassarella.net)\n",
        "\n",
        "---\n",
        "Qiskit:\n",
        "*   [Qiskit](https://docs.quantum.ibm.com/api/qiskit)\n",
        "*   [Qiskit Circuit Library](https://docs.quantum.ibm.com/api/qiskit/circuit_library)\n",
        "*   [Qiskit Gates Tutorial](https://github.com/Qiskit/qiskit-tutorials/blob/master/tutorials/circuits/3_summary_of_quantum_operations.ipynb)\n",
        "*   [List of Quantum Logic Gates](https://en.wikipedia.org/wiki/List_of_quantum_logic_gates)\n",
        "---\n",
        "\n",
        "Python:\n",
        "*   [LearningPython](https://https://www.learnpython.org/)\n",
        "*   [W3Schools](https://www.w3schools.com/python/)\n"
      ]
    },
    {
      "cell_type": "markdown",
      "metadata": {
        "id": "-_HQpCCCGlMW"
      },
      "source": [
        "# QAOA para o MaxCut\n",
        "\n",
        "## Introdução\n",
        "\n",
        ">   **Definição do problema MaxCut**: \"Dado um grafo G = (V,E) não direcionado onde cada aresta de E é ponderada com um número inteiro, o problema de corte máximo (Max-Cut) consistem em particionar os vértices de V em dois subconjuntos disjuntos de modo a maximizar o peso total das arestas entre os dois subconjuntos.\" (Benlic & Jin-Kao, 2013. Tradução nossa.)\n",
        "\n",
        "**Referências**:\n",
        "*   [https://en.wikipedia.org/wiki/Quantum_optimization_algorithms](https://en.wikipedia.org/wiki/Quantum_optimization_algorithms)\n",
        "*   [https://arxiv.org/abs/quant-ph/9607014](https://arxiv.org/abs/quant-ph/9607014)\n",
        "*   [https://arxiv.org/html/2408.00557v1#bib.bib4](https://arxiv.org/html/2408.00557v1)\n",
        "*   [https://github.com/OpenQuantumComputing/QAOA](https://github.com/OpenQuantumComputing/QAOA)\n",
        "*   [https://nvidia.github.io/cuda-quantum/0.8.0/using/examples/qaoa.html](https://nvidia.github.io/cuda-quantum/0.8.0/using/examples/qaoa.html)\n",
        "*   [https://learning.quantum.ibm.com/tutorial/quantum-approximate-optimization-algorithm](https://learning.quantum.ibm.com/tutorial/quantum-approximate-optimization-algorithm)\n",
        "*   [Hidary2021](https://drive.google.com/file/d/1J8Nv8ufZ13RcRFVveyyzfODukO-eWYDV/view?usp=drive_link)] Jack D. Hidary: *Quantum Computing: An Applied Approach* - 2nd. edition.  Springer, 2021: pp.156-159.\n",
        "*   Una Benlic, Jin-Kao (2013): *Breakout Local Search for the Max-Cut problem*. Engineering Applications of Artificial Intelligence\n",
        "Volume 26, Issue 3, March 2013, Pages 1162-1173. [Doi: 10.1016/j.engappai.2012.09.001](https://www.sciencedirect.com/science/article/abs/pii/S0952197612002175). <font color=\"green\"><-- Abordagem clássica<font>\n",
        "\n",
        "\n",
        "*Técnicas de Otimização*:\n",
        "\n",
        "*   Hey Amit: *COBYLA Algorithm Explained*. [https://medium.com/@heyamit10/cobyla-algorithm-explained-6161e9b694e6](https://medium.com/@heyamit10/cobyla-algorithm-explained-6161e9b694e6).\n",
        "*   [https://docs.quantum.ibm.com/api/qiskit/0.27/qiskit.algorithms.optimizers.COBYLA](https://docs.quantum.ibm.com/api/qiskit/0.27/qiskit.algorithms.optimizers.COBYLA)\n",
        "*   [https://journals.aps.org/pra/abstract/10.1103/PhysRevA.99.032331](https://journals.aps.org/pra/abstract/10.1103/PhysRevA.99.032331) <font color = \"magenta\">**<-- Cálculo analítico de gradientes de valores esperados!!!**<font>\n",
        "\n",
        "*Aplicações*:\n",
        "\n",
        "*   Jack S. Baker, Santosh Kumar Radha: *Wasserstein Solution Quality and the Quantum Approximate Optimization Algorithm: A Portfolio Optimization Case Study*. [arXiv:2202.06782](https://arxiv.org/abs/2202.06782).\n",
        "*   Alberto B.de Palhares Júnior: *QAOA Applied to the Portfolio\n",
        "Optimization Problem*. Dissertação de Mestrado (UFRN). [https://repositorio.ufrn.br/bitstream/123456789/54372/1/QAOAappliedportfolio_PalharesJunior_2023.pdf](https://repositorio.ufrn.br/bitstream/123456789/54372/1/QAOAappliedportfolio_PalharesJunior_2023.pdf).\n",
        "\n",
        "---\n",
        "---\n",
        "\n",
        "**MaxCut e sua Quantização**\n",
        "\n",
        "Considere um grafo não-orientado com pesos\n",
        "$$\n",
        "\\mathcal{G} = (V,E,W),\n",
        "$$\n",
        "com conjunto de vértices ($n_V \\in \\mathbb{N}$ é o número de vértices)\n",
        "$$\n",
        "V = \\left\\{ i;\\ i = 0, \\dots, n_V-1 \\right\\},\n",
        "$$\n",
        "conjunto de arestas\n",
        "$$\n",
        "E \\subset V \\times V,\n",
        "$$\n",
        "e conjunto de pesos\n",
        "$$\n",
        "W = \\left\\{ w_{ij} \\in \\mathbb{R};\\ i,j \\in V\\right\\},\n",
        "$$\n",
        "sendo que\n",
        "$$\n",
        "w_{ij} = 0,\\ \\forall i,j \\in V\\ /\\ (i,j) \\notin E.\n",
        "$$\n",
        "\n",
        ">   **Problema MaxCut**: o problema MaxCut para o grafo $\\mathcal{G}$ consiste em determinar uma partição do conjunto de vértices $V$ em dois subconjuntos, digamos $V_0$ e $V_1$, de modo a maximizar a soma dos pesos associados a arestas que têm um vértice em $V_0$ e outro vértice em $V_1$.\n",
        "\n",
        "\n",
        "Para exprimir matematicamente o problema, começamos verificando que cada partição $\\left\\{ V_0, V_1\\right\\}$ do conjunto de vértices $V$ está biunivocamente associadada a um vetor binário indexado pelos vértices de $V$:\n",
        "$$\n",
        "\\left\\{ V_0, V_1\\right\\} \\leftrightarrow \\mathbf{z} = \\left(z_i\\right)_{i \\in V} = (z_0, z_1, \\dots, z_{n_V}) \\in \\left\\{ 0, 1\\right\\}^{\\times n_V},\\\n",
        "z_k = \\left\\lbrace\n",
        "\\begin{array}{ll}\n",
        "0,& \\text{se}\\ v_k \\in V_0;\\\\\n",
        "1,& \\text{se}\\ v_k \\in V_1.\\\\\n",
        "\\end{array}\n",
        "\\right.\n",
        "$$\n",
        "\n",
        "Assim, podemos exprimir matematicamente o problema MaxCut em termos da *função custo* associada:\n",
        "$$\n",
        "\\text{MaxCut $(\\mathcal{G})$}: \\underset{\\mathbf{z} \\in \\left\\{ 0, +1\\right\\}^{\\times n_V}}{\\arg \\max}  C(\\mathbf{z}),\n",
        "$$\n",
        "onde\n",
        "$$\n",
        "C(\\mathbf{z}) = \\frac{1}{2}\\sum_{i,j\\in V} w_{ij}(1- (-1)^{z_i}(-1)^{z_j}).\n",
        "$$\n",
        "\n",
        "**Quantização**\n",
        "\n",
        "Definimos um espaço de qubits associado ao problema e um hamiltoniano associado à função custo:\n",
        "$$\n",
        "\\mathcal{H} = \\mathcal{H}_1^{\\otimes n_V} = \\mathrm{spam}\\left\\{ |z_{n_V - 1}\\dots z_1z_0 \\rangle;\\  z_0, z_1, \\dots,  z_{n_V - 1} \\in \\left\\{ 0,1\\right\\}\\right\\}\n",
        "$$\n",
        "e\n",
        "$$\n",
        "H_C = \\frac{1}{2}\\sum_{i,j \\in V} w_{ij} (I - Z_iZ_j),\n",
        "$$\n",
        "onde $Z_k$s denota o operador de $\\mathcal{H}$ que atua no $k$-ésimo qubit como a porta $Z$:\n",
        "$$\n",
        "Z_k |z_{n_V - 1}\\dots z_1z_0 \\rangle = (-1)^{j_k} |z_{n_V - 1}\\dots z_1z_0  \\rangle.\n",
        "$$\n",
        "\n",
        "\n",
        "*Observamos que $H_C$ é um operador diagonalizado na base computacional, com autovalores correspondendo às imagens da função custo:*\n",
        "$$\n",
        "H_C | z_{n_V - 1} \\dots z_1 z_0 \\rangle = C(\\mathbf{z}) | z_{n_V - 1} \\dots z_1 z_0 \\rangle,\\ \\forall \\mathbf{z} = (z_0, z_1, \\dots z_{n_V - 1}) \\in \\left\\{0,1 \\right\\}^{\\times n_V}.\n",
        "$$\n",
        "\n",
        "<font color = red ><b>Resolver o MaxCut corresponde a determinar o autoestado correspondente ao maior autovalor de $H_C$<b><font>\n",
        "\n",
        "◼\n"
      ]
    },
    {
      "cell_type": "markdown",
      "metadata": {
        "id": "GAmPTeyasyVt"
      },
      "source": [
        "# QISKIT: Carregamento"
      ]
    },
    {
      "cell_type": "code",
      "execution_count": null,
      "metadata": {
        "colab": {
          "base_uri": "https://localhost:8080/",
          "height": 1000
        },
        "collapsed": true,
        "id": "U7ULPmZkugwv",
        "outputId": "e44fa88d-879d-4b82-b35f-847d55ffcdb1"
      },
      "outputs": [
        {
          "output_type": "stream",
          "name": "stdout",
          "text": [
            "Requirement already satisfied: qiskit in /usr/local/lib/python3.11/dist-packages (1.4.1)\n",
            "Requirement already satisfied: rustworkx>=0.15.0 in /usr/local/lib/python3.11/dist-packages (from qiskit) (0.16.0)\n",
            "Requirement already satisfied: numpy<3,>=1.17 in /usr/local/lib/python3.11/dist-packages (from qiskit) (1.26.4)\n",
            "Requirement already satisfied: scipy>=1.5 in /usr/local/lib/python3.11/dist-packages (from qiskit) (1.14.1)\n",
            "Requirement already satisfied: sympy>=1.3 in /usr/local/lib/python3.11/dist-packages (from qiskit) (1.13.1)\n",
            "Requirement already satisfied: dill>=0.3 in /usr/local/lib/python3.11/dist-packages (from qiskit) (0.3.9)\n",
            "Requirement already satisfied: python-dateutil>=2.8.0 in /usr/local/lib/python3.11/dist-packages (from qiskit) (2.8.2)\n",
            "Requirement already satisfied: stevedore>=3.0.0 in /usr/local/lib/python3.11/dist-packages (from qiskit) (5.4.1)\n",
            "Requirement already satisfied: typing-extensions in /usr/local/lib/python3.11/dist-packages (from qiskit) (4.12.2)\n",
            "Requirement already satisfied: symengine<0.14,>=0.11 in /usr/local/lib/python3.11/dist-packages (from qiskit) (0.13.0)\n",
            "Requirement already satisfied: six>=1.5 in /usr/local/lib/python3.11/dist-packages (from python-dateutil>=2.8.0->qiskit) (1.17.0)\n",
            "Requirement already satisfied: pbr>=2.0.0 in /usr/local/lib/python3.11/dist-packages (from stevedore>=3.0.0->qiskit) (6.1.1)\n",
            "Requirement already satisfied: mpmath<1.4,>=1.1.0 in /usr/local/lib/python3.11/dist-packages (from sympy>=1.3->qiskit) (1.3.0)\n",
            "Requirement already satisfied: setuptools in /usr/local/lib/python3.11/dist-packages (from pbr>=2.0.0->stevedore>=3.0.0->qiskit) (75.1.0)\n",
            "Requirement already satisfied: qiskit_aer in /usr/local/lib/python3.11/dist-packages (0.16.4)\n",
            "Requirement already satisfied: qiskit>=1.1.0 in /usr/local/lib/python3.11/dist-packages (from qiskit_aer) (1.4.1)\n",
            "Requirement already satisfied: numpy>=1.16.3 in /usr/local/lib/python3.11/dist-packages (from qiskit_aer) (1.26.4)\n",
            "Requirement already satisfied: scipy>=1.0 in /usr/local/lib/python3.11/dist-packages (from qiskit_aer) (1.14.1)\n",
            "Requirement already satisfied: psutil>=5 in /usr/local/lib/python3.11/dist-packages (from qiskit_aer) (5.9.5)\n",
            "Requirement already satisfied: rustworkx>=0.15.0 in /usr/local/lib/python3.11/dist-packages (from qiskit>=1.1.0->qiskit_aer) (0.16.0)\n",
            "Requirement already satisfied: sympy>=1.3 in /usr/local/lib/python3.11/dist-packages (from qiskit>=1.1.0->qiskit_aer) (1.13.1)\n",
            "Requirement already satisfied: dill>=0.3 in /usr/local/lib/python3.11/dist-packages (from qiskit>=1.1.0->qiskit_aer) (0.3.9)\n",
            "Requirement already satisfied: python-dateutil>=2.8.0 in /usr/local/lib/python3.11/dist-packages (from qiskit>=1.1.0->qiskit_aer) (2.8.2)\n",
            "Requirement already satisfied: stevedore>=3.0.0 in /usr/local/lib/python3.11/dist-packages (from qiskit>=1.1.0->qiskit_aer) (5.4.1)\n",
            "Requirement already satisfied: typing-extensions in /usr/local/lib/python3.11/dist-packages (from qiskit>=1.1.0->qiskit_aer) (4.12.2)\n",
            "Requirement already satisfied: symengine<0.14,>=0.11 in /usr/local/lib/python3.11/dist-packages (from qiskit>=1.1.0->qiskit_aer) (0.13.0)\n",
            "Requirement already satisfied: six>=1.5 in /usr/local/lib/python3.11/dist-packages (from python-dateutil>=2.8.0->qiskit>=1.1.0->qiskit_aer) (1.17.0)\n",
            "Requirement already satisfied: pbr>=2.0.0 in /usr/local/lib/python3.11/dist-packages (from stevedore>=3.0.0->qiskit>=1.1.0->qiskit_aer) (6.1.1)\n",
            "Requirement already satisfied: mpmath<1.4,>=1.1.0 in /usr/local/lib/python3.11/dist-packages (from sympy>=1.3->qiskit>=1.1.0->qiskit_aer) (1.3.0)\n",
            "Requirement already satisfied: setuptools in /usr/local/lib/python3.11/dist-packages (from pbr>=2.0.0->stevedore>=3.0.0->qiskit>=1.1.0->qiskit_aer) (75.1.0)\n",
            "Requirement already satisfied: qiskit-ibm-runtime in /usr/local/lib/python3.11/dist-packages (0.36.1)\n",
            "Requirement already satisfied: requests>=2.19 in /usr/local/lib/python3.11/dist-packages (from qiskit-ibm-runtime) (2.32.3)\n",
            "Requirement already satisfied: requests-ntlm>=1.1.0 in /usr/local/lib/python3.11/dist-packages (from qiskit-ibm-runtime) (1.3.0)\n",
            "Requirement already satisfied: numpy>=1.13 in /usr/local/lib/python3.11/dist-packages (from qiskit-ibm-runtime) (1.26.4)\n",
            "Requirement already satisfied: urllib3>=1.21.1 in /usr/local/lib/python3.11/dist-packages (from qiskit-ibm-runtime) (2.3.0)\n",
            "Requirement already satisfied: python-dateutil>=2.8.0 in /usr/local/lib/python3.11/dist-packages (from qiskit-ibm-runtime) (2.8.2)\n",
            "Requirement already satisfied: websocket-client>=1.5.1 in /usr/local/lib/python3.11/dist-packages (from qiskit-ibm-runtime) (1.8.0)\n",
            "Requirement already satisfied: ibm-platform-services>=0.22.6 in /usr/local/lib/python3.11/dist-packages (from qiskit-ibm-runtime) (0.61.0)\n",
            "Requirement already satisfied: pydantic<2.10,>=2.5.0 in /usr/local/lib/python3.11/dist-packages (from qiskit-ibm-runtime) (2.9.2)\n",
            "Requirement already satisfied: qiskit>=1.3.2 in /usr/local/lib/python3.11/dist-packages (from qiskit-ibm-runtime) (1.4.1)\n",
            "Requirement already satisfied: ibm_cloud_sdk_core<4.0.0,>=3.22.1 in /usr/local/lib/python3.11/dist-packages (from ibm-platform-services>=0.22.6->qiskit-ibm-runtime) (3.23.0)\n",
            "Requirement already satisfied: annotated-types>=0.6.0 in /usr/local/lib/python3.11/dist-packages (from pydantic<2.10,>=2.5.0->qiskit-ibm-runtime) (0.7.0)\n",
            "Requirement already satisfied: pydantic-core==2.23.4 in /usr/local/lib/python3.11/dist-packages (from pydantic<2.10,>=2.5.0->qiskit-ibm-runtime) (2.23.4)\n",
            "Requirement already satisfied: typing-extensions>=4.6.1 in /usr/local/lib/python3.11/dist-packages (from pydantic<2.10,>=2.5.0->qiskit-ibm-runtime) (4.12.2)\n",
            "Requirement already satisfied: six>=1.5 in /usr/local/lib/python3.11/dist-packages (from python-dateutil>=2.8.0->qiskit-ibm-runtime) (1.17.0)\n",
            "Requirement already satisfied: rustworkx>=0.15.0 in /usr/local/lib/python3.11/dist-packages (from qiskit>=1.3.2->qiskit-ibm-runtime) (0.16.0)\n",
            "Requirement already satisfied: scipy>=1.5 in /usr/local/lib/python3.11/dist-packages (from qiskit>=1.3.2->qiskit-ibm-runtime) (1.14.1)\n",
            "Requirement already satisfied: sympy>=1.3 in /usr/local/lib/python3.11/dist-packages (from qiskit>=1.3.2->qiskit-ibm-runtime) (1.13.1)\n",
            "Requirement already satisfied: dill>=0.3 in /usr/local/lib/python3.11/dist-packages (from qiskit>=1.3.2->qiskit-ibm-runtime) (0.3.9)\n",
            "Requirement already satisfied: stevedore>=3.0.0 in /usr/local/lib/python3.11/dist-packages (from qiskit>=1.3.2->qiskit-ibm-runtime) (5.4.1)\n",
            "Requirement already satisfied: symengine<0.14,>=0.11 in /usr/local/lib/python3.11/dist-packages (from qiskit>=1.3.2->qiskit-ibm-runtime) (0.13.0)\n",
            "Requirement already satisfied: charset-normalizer<4,>=2 in /usr/local/lib/python3.11/dist-packages (from requests>=2.19->qiskit-ibm-runtime) (3.4.1)\n",
            "Requirement already satisfied: idna<4,>=2.5 in /usr/local/lib/python3.11/dist-packages (from requests>=2.19->qiskit-ibm-runtime) (3.10)\n",
            "Requirement already satisfied: certifi>=2017.4.17 in /usr/local/lib/python3.11/dist-packages (from requests>=2.19->qiskit-ibm-runtime) (2025.1.31)\n",
            "Requirement already satisfied: cryptography>=1.3 in /usr/local/lib/python3.11/dist-packages (from requests-ntlm>=1.1.0->qiskit-ibm-runtime) (43.0.3)\n",
            "Requirement already satisfied: pyspnego>=0.4.0 in /usr/local/lib/python3.11/dist-packages (from requests-ntlm>=1.1.0->qiskit-ibm-runtime) (0.11.2)\n",
            "Requirement already satisfied: cffi>=1.12 in /usr/local/lib/python3.11/dist-packages (from cryptography>=1.3->requests-ntlm>=1.1.0->qiskit-ibm-runtime) (1.17.1)\n",
            "Requirement already satisfied: PyJWT<3.0.0,>=2.8.0 in /usr/local/lib/python3.11/dist-packages (from ibm_cloud_sdk_core<4.0.0,>=3.22.1->ibm-platform-services>=0.22.6->qiskit-ibm-runtime) (2.10.1)\n",
            "Requirement already satisfied: pbr>=2.0.0 in /usr/local/lib/python3.11/dist-packages (from stevedore>=3.0.0->qiskit>=1.3.2->qiskit-ibm-runtime) (6.1.1)\n",
            "Requirement already satisfied: mpmath<1.4,>=1.1.0 in /usr/local/lib/python3.11/dist-packages (from sympy>=1.3->qiskit>=1.3.2->qiskit-ibm-runtime) (1.3.0)\n",
            "Requirement already satisfied: pycparser in /usr/local/lib/python3.11/dist-packages (from cffi>=1.12->cryptography>=1.3->requests-ntlm>=1.1.0->qiskit-ibm-runtime) (2.22)\n",
            "Requirement already satisfied: setuptools in /usr/local/lib/python3.11/dist-packages (from pbr>=2.0.0->stevedore>=3.0.0->qiskit>=1.3.2->qiskit-ibm-runtime) (75.1.0)\n"
          ]
        },
        {
          "output_type": "execute_result",
          "data": {
            "text/plain": [
              "'1.4.1'"
            ],
            "application/vnd.google.colaboratory.intrinsic+json": {
              "type": "string"
            }
          },
          "metadata": {},
          "execution_count": 18
        }
      ],
      "source": [
        "!pip install qiskit -U\n",
        "!pip install qiskit_aer\n",
        "!pip install qiskit-ibm-runtime\n",
        "\n",
        "import qiskit\n",
        "qiskit.__version__"
      ]
    },
    {
      "cell_type": "code",
      "execution_count": null,
      "metadata": {
        "colab": {
          "base_uri": "https://localhost:8080/"
        },
        "collapsed": true,
        "id": "03QOZ-BvvFdC",
        "outputId": "7ae64031-403f-4258-8fdf-9677e6e3935c"
      },
      "outputs": [
        {
          "output_type": "stream",
          "name": "stdout",
          "text": [
            "Requirement already satisfied: matplotlib in /usr/local/lib/python3.11/dist-packages (3.10.0)\n",
            "Requirement already satisfied: contourpy>=1.0.1 in /usr/local/lib/python3.11/dist-packages (from matplotlib) (1.3.1)\n",
            "Requirement already satisfied: cycler>=0.10 in /usr/local/lib/python3.11/dist-packages (from matplotlib) (0.12.1)\n",
            "Requirement already satisfied: fonttools>=4.22.0 in /usr/local/lib/python3.11/dist-packages (from matplotlib) (4.56.0)\n",
            "Requirement already satisfied: kiwisolver>=1.3.1 in /usr/local/lib/python3.11/dist-packages (from matplotlib) (1.4.8)\n",
            "Requirement already satisfied: numpy>=1.23 in /usr/local/lib/python3.11/dist-packages (from matplotlib) (1.26.4)\n",
            "Requirement already satisfied: packaging>=20.0 in /usr/local/lib/python3.11/dist-packages (from matplotlib) (24.2)\n",
            "Requirement already satisfied: pillow>=8 in /usr/local/lib/python3.11/dist-packages (from matplotlib) (11.1.0)\n",
            "Requirement already satisfied: pyparsing>=2.3.1 in /usr/local/lib/python3.11/dist-packages (from matplotlib) (3.2.1)\n",
            "Requirement already satisfied: python-dateutil>=2.7 in /usr/local/lib/python3.11/dist-packages (from matplotlib) (2.8.2)\n",
            "Requirement already satisfied: six>=1.5 in /usr/local/lib/python3.11/dist-packages (from python-dateutil>=2.7->matplotlib) (1.17.0)\n",
            "Requirement already satisfied: pylatexenc in /usr/local/lib/python3.11/dist-packages (2.10)\n"
          ]
        }
      ],
      "source": [
        "!pip install matplotlib\n",
        "!pip install pylatexenc"
      ]
    },
    {
      "cell_type": "code",
      "execution_count": null,
      "metadata": {
        "id": "9L6AJpSGOM09"
      },
      "outputs": [],
      "source": [
        "# Qiskit: métodos básicos\n",
        "\n",
        "from qiskit import QuantumCircuit, ClassicalRegister, QuantumRegister\n",
        "\n",
        "from qiskit import transpile\n",
        "\n",
        "from qiskit.visualization import plot_histogram, array_to_latex, plot_state_city"
      ]
    },
    {
      "cell_type": "code",
      "execution_count": null,
      "metadata": {
        "colab": {
          "base_uri": "https://localhost:8080/",
          "height": 122
        },
        "id": "LSjNYkT2XfWI",
        "outputId": "85338d9e-d7d0-4492-93a2-3745598b2a6e"
      },
      "outputs": [
        {
          "output_type": "stream",
          "name": "stdout",
          "text": [
            "Backends disponíveis:\n"
          ]
        },
        {
          "output_type": "display_data",
          "data": {
            "text/plain": [
              "[<IBMBackend('ibm_brisbane')>,\n",
              " <IBMBackend('ibm_kyiv')>,\n",
              " <IBMBackend('ibm_sherbrooke')>]"
            ]
          },
          "metadata": {}
        },
        {
          "output_type": "stream",
          "name": "stdout",
          "text": [
            "Backend:\n"
          ]
        },
        {
          "output_type": "display_data",
          "data": {
            "text/plain": [
              "'ibm_sherbrooke'"
            ],
            "application/vnd.google.colaboratory.intrinsic+json": {
              "type": "string"
            }
          },
          "metadata": {}
        }
      ],
      "source": [
        "# Acesso à IBM\n",
        "\n",
        "from qiskit_ibm_runtime import QiskitRuntimeService\n",
        "\n",
        "IBMToken_lucio = \"4fa7c0ee5a33486dbe06bece5db9d98dbd6ec5b28a044f7b1c285183b5db982df087350de18e19e96f49c6727efb3f22d7d813a473664aeb2c3a9ff7bd2c13cc\"\n",
        "QiskitRuntimeService.save_account(\n",
        "channel = 'ibm_quantum',\n",
        "token = IBMToken_lucio,\n",
        "overwrite=True\n",
        ")\n",
        "\n",
        "# Processadores disponíveis\n",
        "\n",
        "service = QiskitRuntimeService()\n",
        "print(\"Backends disponíveis:\")\n",
        "display(service.backends())\n",
        "\n",
        "# Backend\n",
        "service = QiskitRuntimeService(channel=\"ibm_quantum\")\n",
        "\n",
        "'''\n",
        "Backend com menor número de jobs em execução\n",
        "'''\n",
        "backend = service.least_busy(operational=True, simulator=False)\n",
        "\n",
        "'''\n",
        "Backend personalizado\n",
        "'''\n",
        "#backend = service.backend(name=\"ibm_brisbane\")\n",
        "\n",
        "print(\"Backend:\")\n",
        "display(backend.name)"
      ]
    },
    {
      "cell_type": "markdown",
      "metadata": {
        "id": "H1uh4KsMNs6B"
      },
      "source": [
        "# Algoritmo Quântico de Força Bruta\n",
        "\n",
        "\n",
        "$$\n",
        "\\begin{split}\n",
        "H_C | z \\rangle &= C(z) | z \\rangle\n",
        "\\leadsto\n",
        " \\langle z | H_C| z \\rangle = C(z)\n",
        "\\end{split}\n",
        "$$\n",
        "\n",
        "> O *Algoritmo Quântico de Força Bruta* consiste em calcular a média de $H_C$ em todos os estados da base computacional para descobrir qual estado corresponde ao valor esperado máximo -- e que corresponde à solução do problema MaxCut.\n",
        "*   Vantagem: fácil de implementar;\n",
        "*   Desvantagem: ineficiente, pois requer o número cálculos de valores esperados igual a $2^n$ (*i.e.*,cresce exponencialmente com o número de vértices do grafo).\n",
        "\n",
        "---\n",
        "---\n"
      ]
    },
    {
      "cell_type": "markdown",
      "metadata": {
        "id": "wkHVSyhUkgZ4"
      },
      "source": [
        "## MaxCut 1\n",
        "\n",
        "<img src=\"https://drive.google.com/uc?export=view&id=10pL2A_kb1FSdtVn4vBUsKjX7oifN9HEw\" alt=\"drawing\" width=\"300\"/>\n",
        "\n",
        "Parâmetros:\n",
        "\n",
        "*   Número de vértices/qubits: 4;\n",
        "*   Função custo:\n",
        "$$\n",
        "C(z_0,z_1,z_2,z_3) = \\frac{1}{2}\\sum_{k=1}^3(1 - z_0z_k);\n",
        "$$\n",
        "*   Hamiltoniano e operador do custo:\n",
        "$$\n",
        "\\begin{split}\n",
        "H_C &= \\frac{1}{2}\\sum_{k=1}^3(I - Z_0Z_k)\\\\\n",
        "&= \\frac{3}{2}  I - \\frac{1}{2} Z_0Z_1 - \\frac{1}{2}Z_0Z_2 - \\frac{1}{2}Z_0Z_3.\n",
        "\\end{split}\n",
        "$$"
      ]
    },
    {
      "cell_type": "code",
      "execution_count": null,
      "metadata": {
        "id": "AF4rMrj8ZoPx"
      },
      "outputs": [],
      "source": [
        "'''\n",
        "Circuito de n qubits que prepara o estado |z >, para 0 <= z <= 2**n -1.\n",
        "'''\n",
        "\n",
        "def CB(n,m):\n",
        "    '''\n",
        "    Circuito de n qubits que prepara o estado |z >, para 0 <= z <= 2**n -1\n",
        "\n",
        "    Inputs:\n",
        "        n (int) : número de qubits\n",
        "            n >= 1\n",
        "        m (int) : número inteiro do estado da base base computacional\n",
        "            0 <= m <= 2**n-1\n",
        "    '''\n",
        "\n",
        "    if n < 1 or m < 0 or m > 2**n -1:\n",
        "        return print(f\"ERRO: as entradas devem ser inteiros, a primeira 'n' deve ser positiva e a segunda 'm' deve ser maior ou igual a '0' e menor ou igual a '2**n - 1'.\")\n",
        "    else:\n",
        "        qc = QuantumCircuit(n)\n",
        "        binario = bin(m)[2:]\n",
        "        for k in range(len(binario)):\n",
        "            if binario[k] == \"1\":\n",
        "                qc.x(k)\n",
        "        return qc"
      ]
    },
    {
      "cell_type": "code",
      "execution_count": null,
      "metadata": {
        "colab": {
          "base_uri": "https://localhost:8080/"
        },
        "id": "zn6wxGUhS-KR",
        "outputId": "b9011574-994f-4d80-fb3d-7c20296bd6a1"
      },
      "outputs": [
        {
          "name": "stdout",
          "output_type": "stream",
          "text": [
            "Índice do estado quântico que resolve o MaxCut = 1. Representação binária: 0001\n",
            "Valor esperado do Hamiltoniano do estado quântico = 3.0\n"
          ]
        }
      ],
      "source": [
        "'''\n",
        "Simulação\n",
        "'''\n",
        "\n",
        "# Pacotes\n",
        "\n",
        "import time\n",
        "import numpy as np\n",
        "from qiskit.circuit import Parameter\n",
        "from qiskit.quantum_info import Pauli, SparsePauliOp\n",
        "from qiskit_ibm_runtime import EstimatorV2\n",
        "from qiskit_aer.primitives import Estimator\n",
        "\n",
        "estimator = Estimator()\n",
        "\n",
        "'''\n",
        "Algoritmo\n",
        "'''\n",
        "\n",
        "inicio = time.time() # t inicial\n",
        "\n",
        "n = 4 # número de qubits\n",
        "qubits = [k for k in range(n)]\n",
        "\n",
        "# Hamiltoniano\n",
        "\n",
        "HC = SparsePauliOp.from_sparse_list([(\"I\", [0], 3/2),\n",
        " (\"ZZ\", [0,1], -1/2),\n",
        "  (\"ZZ\", [0,2], -1/2),\n",
        "   (\"ZZ\", [0,3], -1/2)], num_qubits = n)\n",
        "\n",
        "# Inicialização\n",
        "\n",
        "z = 0\n",
        "cz = 0\n",
        "\n",
        "for m in range(2**n):\n",
        "    job = estimator.run(circuits = [CB(n,m)], observables = [HC]) # manda a lista de circuitos e respectivos observáveis para rodar\n",
        "    expval = job.result().values[0]\n",
        "    if expval > cz:\n",
        "        cz = expval\n",
        "        z = m\n",
        "    else:\n",
        "        pass\n",
        "\n",
        "print(f\"Índice do estado quântico que resolve o MaxCut = {z}. Representação binária: {format(z, '0' + str(n) + 'b')}\")\n",
        "print(f\"Valor esperado do Hamiltoniano do estado quântico = {cz}\")"
      ]
    },
    {
      "cell_type": "markdown",
      "metadata": {
        "id": "pqw-qgF7lmOQ"
      },
      "source": [
        "## MaxCut 2\n",
        "\n",
        "<img src=\"https://drive.google.com/uc?export=view&id=1wPvW1r461IP51mHPh84A2AjMc38y1WQF\" alt=\"drawing\" width=\"300\"/>\n",
        "\n",
        "Parâmetros:\n",
        "\n",
        "*   Número de vértices/qubits: 4;\n",
        "*   Função custo:\n",
        "$$\n",
        "C(z_0,z_1,z_2,z_3) = \\frac{1}{2}\\sum_{0 \\le j < k \\le 3}(1 - z_jz_k);\n",
        "$$\n",
        "*   Hamiltoniano e operador do custo:\n",
        "$$\n",
        "\\begin{split}\n",
        "H_C &= \\frac{1}{2}\\sum_{0\\le j<k\\le 3}(I - Z_jZ_k)\\\\\n",
        "&= \\frac{3}{2}I - \\frac{1}{2} Z_0Z_1 - \\frac{1}{2}Z_0Z_2 - \\frac{1}{2}Z_0Z_3 - \\frac{1}{2} Z_1Z_2 - \\frac{1}{2} Z_1Z_3  - \\frac{1}{2} Z_2Z_3  .\n",
        "\\end{split}\n",
        "$$"
      ]
    },
    {
      "cell_type": "code",
      "execution_count": null,
      "metadata": {
        "id": "ojLltZCIfTsk"
      },
      "outputs": [],
      "source": [
        "'''\n",
        "Simulação Clássica\n",
        "'''\n",
        "# Pacotes\n",
        "\n",
        "#import time\n",
        "import numpy as np\n",
        "from qiskit.circuit import Parameter\n",
        "from qiskit.quantum_info import Pauli, SparsePauliOp\n",
        "#from qiskit_ibm_runtime import EstimatorV2\n",
        "from qiskit_aer.primitives import Estimator\n",
        "\n",
        "estimator = Estimator()\n",
        "\n",
        "'''\n",
        "Algoritmo\n",
        "'''\n",
        "\n",
        "#inicio = time.time() # t inicial\n",
        "\n",
        "n = 4 # número de qubits\n",
        "qubits = [k for k in range(n)]\n",
        "\n",
        "# Hamiltoniano\n",
        "\n",
        "HC = SparsePauliOp.from_sparse_list([(\"I\", [0], 3/2),\n",
        " (\"ZZ\", [0,1], -1/2),\n",
        "  (\"ZZ\", [0,2], -1/2),\n",
        "   (\"ZZ\", [0,3], -1/2),\n",
        "   (\"ZZ\", [1,2], -1/2),\n",
        "   (\"ZZ\", [1,3], -1/2),\n",
        "   (\"ZZ\", [2,3], -1/2)\n",
        "   ], num_qubits = n)\n",
        "\n",
        "# Inicialização\n",
        "\n",
        "z = 0\n",
        "cz = 0\n",
        "\n",
        "circuits = [CB(n,m) for m in range(2**n)] # Lista de circuitos\n",
        "observables = (2**n)*[HC] # Lista de observáveis (2^n cópias de HC)\n",
        "job = estimator.run(circuits = circuits, observables = observables) # manda a lista de circuitos e respectivos observáveis para rodar\n",
        "\n",
        "for m in range(2**n):\n",
        "    expval = job.result().values[m]\n",
        "    if expval > cz:\n",
        "        cz = expval\n",
        "        z = m\n",
        "    else:\n",
        "        pass\n",
        "\n",
        "print(f\"Índice do estado quântico que resolve o MaxCut = {z}. Representação binária: {format(z, '0' + str(n) + 'b')}\")\n",
        "print(f\"Valor esperado do Hamiltoniano do estado quântico = {cz}\")"
      ]
    },
    {
      "cell_type": "code",
      "execution_count": null,
      "metadata": {
        "id": "CyaZbTwqi6Og"
      },
      "outputs": [],
      "source": [
        "'''\n",
        "Algoritmo Quântico\n",
        "'''\n",
        "# Pacotes\n",
        "\n",
        "import time\n",
        "import numpy as np\n",
        "from qiskit.circuit import Parameter\n",
        "from qiskit.quantum_info import Pauli, SparsePauliOp\n",
        "from qiskit_ibm_runtime import EstimatorV2\n",
        "from qiskit.transpiler.preset_passmanagers import generate_preset_pass_manager\n",
        "\n",
        "estimator = EstimatorV2(backend)\n",
        "\n",
        "'''\n",
        "Algoritmo\n",
        "'''\n",
        "\n",
        "inicio = time.time() # t inicial\n",
        "\n",
        "n = 4 # número de qubits\n",
        "qubits = [k for k in range(n)]\n",
        "\n",
        "# Hamiltoniano\n",
        "\n",
        "HC = SparsePauliOp.from_sparse_list([(\"I\", [0], 3),\n",
        " (\"ZZ\", [0,1], -1/2),\n",
        "  (\"ZZ\", [0,2], -1/2),\n",
        "   (\"ZZ\", [0,3], -1/2),\n",
        "   (\"ZZ\", [1,2], -1/2),\n",
        "   (\"ZZ\", [1,3], -1/2),\n",
        "   (\"ZZ\", [2,3], -1/2)\n",
        "   ], num_qubits = n)\n",
        "\n",
        "# PUB\n",
        "\n",
        "# Circuitos\n",
        "circuitos = [CB(n,m) for m in range(2**n)] # Lista de circuitos\n",
        "pass_manager = generate_preset_pass_manager(optimization_level=1, backend=backend)\n",
        "circuitos_transpilados = [pass_manager.run(circuitos[m]) for m in range(2**n)]\n",
        "#transpile(circuitos[m], backend = backend) for m in range(2**n)] # Transpilação dos circuitos\n",
        "\n",
        "observaveis = [HC for m in range(2**n)] # Lista de observáveis (2^n cópias de HC)\n",
        "#observaveis_transpilados = [transpile(observaveis[m], backend = backend) for m in range(2**n)] # Transpilação dos observáveis\n",
        "observaveis_transpilados = [observavel.apply_layout(circuitos_transpilados[m].layout) for observavel in observaveis]\n",
        "\n",
        "PUB = [(circuitos_transpilados[m], [observaveis_transpilados[m]]) for m in range(2**n)] # Lista de circuitos e respectivos observáveis\n",
        "\n",
        "# Adaptação da lista de operadores para ser medida no circuito quântico transpilado\n",
        "# HC_transpiled = [op.apply_layout(qc_transpiled.layout) for op in operators]\n",
        "\n",
        "#circuits = [CB(n,m) for m in range(2**n)] # Lista de circuitos\n",
        "#observables = (2**n)*[HC] # Lista de observáveis (2^n cópias de HC)\n",
        "#job = estimator.run(PUB) # manda a lista de circuitos e respectivos observáveis para rodar\n",
        "#job = estimator.run(circuits = CB(n,m), observables = [HC]) # manda a lista de circuitos e respectivos observáveis para rodar\n",
        "\n",
        "job = estimator.run(PUB)\n",
        "\n",
        "job_id = job.job_id()\n",
        "print(job_id)\n",
        "\n",
        "# Impressão do tempo de execução\n",
        "\n",
        "fim = time.time() # t final\n",
        "duracao = fim - inicio\n",
        "print(f\"Duração da execução do algoritmo: {duracao/60} min.\")"
      ]
    },
    {
      "cell_type": "code",
      "execution_count": null,
      "metadata": {
        "id": "FH6kXRECqn2H"
      },
      "outputs": [],
      "source": [
        "'''\n",
        "Resultado: valores esperados\n",
        "'''\n",
        "\n",
        "job_id = 'cypfftqr32sg008a1ebg'\n",
        "job = service.job(job_id)\n",
        "\n",
        "expvals = [job.result()[m].data.evs for m in range(2**n)]\n",
        "expvals = [expvals[m][0] for m in range(2**n)]\n",
        "expvals"
      ]
    },
    {
      "cell_type": "code",
      "execution_count": null,
      "metadata": {
        "id": "1tPjA7MMjvuJ"
      },
      "outputs": [],
      "source": [
        "'''\n",
        "Comparação dos valores esperados\n",
        "'''\n",
        "z = 0\n",
        "cz = float(\"-inf\")\n",
        "for m in range(2**n):\n",
        "    if expvals[m] > cz:\n",
        "        cz = expvals[m]\n",
        "        z = m\n",
        "    else:\n",
        "        pass\n",
        "\n",
        "print(f\"Índice do estado quântico que resolve o MaxCut = {z}. Representação binária: {format(z, '0' + str(n) + 'b')}\")\n",
        "print(f\"Valor esperado do Hamiltoniano do estado quântico = {cz}\")"
      ]
    },
    {
      "cell_type": "markdown",
      "metadata": {
        "id": "_vpOrrwZS5XP"
      },
      "source": [
        "# QAOA\n",
        "\n",
        "Definimos um espaço de qubits associado ao problema e um hamiltoniano associado à função custo:\n",
        "$$\n",
        "\\mathcal{H} = \\mathcal{H}_1^{\\otimes n_V} = \\mathrm{spam}\\left\\{ |z_{n_V - 1}\\dots z_1z_0 \\rangle;\\  z_0, z_1, \\dots,  z_{n_V - 1} \\in \\left\\{ 0,1\\right\\}\\right\\}\n",
        "$$\n",
        "e\n",
        "$$\n",
        "H_C = \\frac{1}{2}\\sum_{i<j =0}^{n-1} w_{ij} (I - Z_iZ_j),\n",
        "$$\n",
        "onde $Z_k$s denota o operador de $\\mathcal{H}$ que atua no $k$-ésimo qubit como a porta $Z$:\n",
        "$$\n",
        "Z_k |z_{n_V - 1}\\dots z_1z_0 \\rangle = (-1)^{j_k} |z_{n_V - 1}\\dots z_1z_0  \\rangle.\n",
        "$$\n",
        "\n",
        "\n",
        "*Observamos que $H_C$ é um operador diagonalizado na base computacional, com autovalores correspondendo às imagens da função custo:*\n",
        "$$\n",
        "H_C | z_{n_V - 1} \\dots z_1 z_0 \\rangle = C(\\mathbf{z}) | z_{n_V - 1} \\dots z_1 z_0 \\rangle,\\ \\forall \\mathbf{z} = (z_0, z_1, \\dots z_{n_V - 1}) \\in \\left\\{0,1 \\right\\}^{\\times n_V}.\n",
        "$$\n",
        "\n",
        "◼\n",
        "\n",
        "Agora, definimos o seguinte operador parametrizado associado ao hamiltoniano do custo:\n",
        "\n",
        "$$\n",
        "U(H_C,\\gamma) := e^{-i\\gamma H_C} = \\prod_{0 \\le i<j \\le n-1} e^{-i\\gamma w_{ij}(I - Z_i Z_j)/2}\n",
        "$$\n",
        "\n",
        "Também definimos o operador mixer parametrizado:\n",
        "$$\n",
        "U(B,\\beta) = e^{-i\\beta B} = \\prod_{j=0}^{n-1} e^{-i\\beta X_j},\\ \\text{onde}\\ B = \\sum_{j=0}^{n-1} X_j.\n",
        "$$\n",
        "\n",
        ">>> **Teorema (QAOA)** Considere:\n",
        "$$\n",
        "\\\n",
        "$$\n",
        "i) o estado emaranhado\n",
        "$$\n",
        "| s \\rangle = H^{\\otimes} | 0 \\rangle^{\\otimes n} = \\frac{1}{\\sqrt{2^n}} \\sum_{k=0}^{2^{n_V}-1} | k \\rangle;\n",
        "$$\n",
        "ii) a evolução do estado $| s \\rangle $por uma sequência finita de ações dos operadores de custo e mixer (com diferentes parâmetros)\n",
        "$$\n",
        "| \\mathbf{\\gamma}, \\mathbf{\\beta} \\rangle := \\prod_{\\ell=1}^{p} U(H_B,\\beta_\\ell)U(H_C,\\gamma_\\ell) | s \\rangle,\\ \\text{sendo}\\\n",
        "\\mathbf{\\gamma} = (\\gamma_1, \\dots, \\gamma_p),\\ \\mathbf{\\beta} = (\\beta_1, \\dots, \\beta_p);\n",
        "$$\n",
        "iii) o valor esperado do hamiltoniano do custo com respeito ao estado evoluído:\n",
        "$$\n",
        "F(\\mathbf{\\gamma},\\mathbf{\\beta}) := \\langle \\mathbf{\\gamma}, \\mathbf{\\beta} | H_C | \\mathbf{\\gamma}, \\mathbf{\\beta}  \\rangle.\n",
        "$$\n",
        "O seguinte limite resolve o problema MaxCut:\n",
        "$$\n",
        "\\underset{\\mathbf{z} \\in \\left\\{ 0, +1\\right\\}^{\\times n_V}}{\\arg \\max} C(\\mathbf{z})  = \\lim_{p \\rightarrow \\infty} \\underset{\\mathbf{\\gamma}, \\mathbf{\\beta}}{\\arg \\max }F(\\mathbf{\\gamma},\\mathbf{\\beta}).\n",
        "$$\n",
        "\n",
        "<font color = \"grey\">**Exponencial do operador $X$**:\n",
        "$$\n",
        "\\begin{split}\n",
        "e^{\\alpha X} |z \\rangle &= \\sum_{n=0}^\\infty \\frac{\\alpha ^n}{n!}X^n|z\\rangle\\\\\n",
        "&= \\sum_{n=0,\\ n = \\mathrm{par}}^\\infty \\frac{\\alpha ^n}{n!}X^n|z\\rangle + \\sum_{n=0,\\ n = \\mathrm{ímpar}}^\\infty \\frac{\\alpha ^n}{n!}X^n|z\\rangle\\\\\n",
        "&= \\cosh(\\alpha)|z\\rangle + \\sinh(\\alpha)|\\bar{z}\\rangle \\ \\ \\ \\ \\ (\\bar{z} = z \\oplus 1)\n",
        "\\end{split}\n",
        "$$\n",
        "<font>\n",
        "\n",
        "<font color=\"green\">**Observação**: Para resolver o problema MaxCut numericamente, truncamos o limite num valor (inteiro) de $p$ e empregamos alguma estratégia de otimização da função $F(\\gamma, \\beta)$, a qual pode ser implementada num circuito quântico mediante um *loop* no produto dos operadores de custo e mixer!<font>\n",
        "\n",
        "> <font color=\"red\">\"That is, given enough parameters $\\gamma$, $\\beta$, we can be sure that the exact solution of the problem is attainable. The parameter $p$ can thus be considered a hyperparameter. One form of approximation in the quantum *approximate* optimization algorithm is the finite cutoff for $p$. Another form of approximation is the ability of the classical optimizer to find the optimum.\n",
        "However, in particular cases there are provable performance guarantees for $p = 1$ layers. For example, for $p = 1$ on $3$-regular graphs, the QAOA always finds a cut that is at least 0.6924 times the size of the optimal cut [104]. **Proving more worst-case or average-case performance guarantees is an interesting line of research on the analytic side of QAOA, and developing better classical optimization algorithms is an interesting area on the heuristic side of QAOA**.\" (Hidary, 2021, p.159. Ênfase acrescentada)<font>\n",
        "<font color = \"orange\">>>> *Grafo $n$-regular* é grafo em que todos os vértices têm exatamente $n$ vizinhos.<font>\n",
        "\n",
        "> <font color = \"magenta\">\"The optimization of variational parameters within the QAOA framework presents a significant challenge. On the one hand, the objective function in practical implementations is inherently stochastic. In each QAOA iteration, the expectation value $\\langle \\psi(\\gamma, \\beta) | H_P | \\psi(\\gamma,\\beta) \\rangle$ is estimated and given to the optimizer as the objective by sampling numerous measurement results from $|\\psi(\\gamma,\\beta) \\rangle$. Each measurement represents an execution of the entire circuit, and the number of circuit executions used to estimate a state is referred to as the number of shots. The most interesting and promising use cases involve limited shots of the stochastic objective.\" (Hogg-Portnov, 2000, p.181) >>>\n",
        "Tad Hogg, Dmitriy Portnov (2000): *Quantum optimization*. Information Sciences, v.128(3–4), pp.181-197. [DOI:10.1016/S0020-0255(00)00052-9](https://www.sciencedirect.com/science/article/abs/pii/S0020025500000529).\n",
        "<font>\n",
        "\n",
        "---\n",
        "\n",
        "\n",
        "## Implementação de operadores no Qiskit\n",
        "\n",
        "Operador de custo:\n",
        "$$\n",
        "\\begin{split}\n",
        "e^{-i\\gamma w_{kj} (I - Z_kZ_j)/2} |z_{n_V-1} \\dots z_k z_j \\rangle &=\n",
        "\\left\\{\n",
        "    \\begin{array}{cl}\n",
        "    \\ \\ \\ \\ |z_{n_V-1} \\dots z_1 z_0 \\rangle &,\\ \\text{se}\\ (z_k,z_j) = (0,0), (1,0);\\\\\n",
        "    e^{-i\\gamma}|z_{n_V-1} \\dots z_1 z_0 \\rangle &,\\ \\text{se}\\ (z_k,z_j) = (0,1), (1,0).\n",
        "    \\end{array}\n",
        "    \\right.\\\\\n",
        "    &= P(\\gamma)_{k \\xrightarrow{{\\ }_0} j} P(\\gamma)_{j \\xrightarrow{{\\ }_0} k}\\\\\n",
        "    & = X_0 P(\\gamma)_{k \\xrightarrow{{\\ }_1} j} X_0 X_k P(\\gamma)_{j \\xrightarrow{{\\ }_1} k} X_k\n",
        "\\end{split}\n",
        "$$\n",
        "\n",
        "Considerando que com o parâmetro $\\gamma$ aparece na ação do operador custo (como uma fase com fator multiplicativo 1), seu campo de valores pode ser restrito ao intervalo $\\left\\lbrack -\\pi, \\pi\\right\\rbrack$, sem perda de generalidade:\n",
        "$$\n",
        "\\gamma \\in \\left\\lbrack -\\pi, \\pi\\right\\rbrack.\n",
        "$$\n",
        "\n",
        "Operador mixer:\n",
        "\n",
        "$$\n",
        "\\begin{split}\n",
        "\\leadsto e^{-i \\beta X} |z \\rangle  &= \\cosh(-i \\beta )|z\\rangle + \\sinh({-i \\beta })|\\bar{z}\\rangle \\\\\n",
        "&= \\cos(\\beta )|z\\rangle - i\\sin(\\beta)|\\bar{z}\\rangle \\ \\ \\ \\ \\ ( \\cosh(i\\alpha) = \\cos(\\alpha),\\ \\sinh(i\\alpha) = i\\sin(\\alpha) )\\\\\n",
        "&= R_X(2\\beta) |z\\rangle,\n",
        "\\end{split}\n",
        "$$\n",
        "onde\n",
        "$$\n",
        "R_X(\\theta) =\n",
        "U_3(\\theta, -\\pi/2, \\pi/2) = \\begin{pmatrix}\n",
        "cos(\\theta/2) & -\\sin(\\theta/2)\\\\\n",
        "-\\sin(\\theta/2) & \\cos(\\theta/2)\n",
        "\\end{pmatrix}.\n",
        "$$\n",
        "Considerando que com o parâmetro $\\beta$ aparece na ação do operador custo (como argumento da rotação $R_X$ com fator multiplicativo 2), seu campo de valores pode ser restrito ao intervalo $\\left\\lbrack -\\pi, \\pi\\right\\rbrack$, sem perda de generalidade:\n",
        "$$\n",
        "\\beta \\in \\left\\lbrack -\\pi, \\pi\\right\\rbrack.\n",
        "$$"
      ]
    },
    {
      "cell_type": "markdown",
      "metadata": {
        "id": "JPjl_Yfuzmx7"
      },
      "source": [
        "## QAOA Força Bruta\n",
        "\n",
        "**Resolução exata do problema MaxCut**\n",
        "\n",
        "$$\n",
        "\\underset{\\mathbf{z} \\in \\left\\{ 0, +1\\right\\}^{\\times n_V}}{\\arg \\max} C(\\mathbf{z})  = \\lim_{p \\rightarrow \\infty} \\underset{\\mathbf{\\gamma}, \\mathbf{\\beta}}{\\arg \\max }F(\\mathbf{\\gamma},\\mathbf{\\beta}).\n",
        "$$\n",
        "\n",
        "**Protocolo Numérico no Qiskit**\n",
        "\n",
        "1.  Definir o circuito e o Hamiltoniano de custo:\n",
        "$$\n",
        "n \\in \\mathbb{N}; \\ H_C: \\mathcal{H}_2^{\\otimes n} \\rightarrow \\mathcal{H}_2^{\\otimes n}.\n",
        "$$\n",
        "\n",
        "2. Definir circuito parametrizado que implementa\n",
        "$$\n",
        "U(H_C,\\gamma) = e^{-i\\gamma H_C}.\n",
        "$$\n",
        "3. Definir circuito parametrizado que implementa\n",
        "$$\n",
        "U(H_B,\\beta) = e^{-i\\beta X}.\n",
        "$$\n",
        "\n",
        "2.  Truncar o limite (escolha de $p$) e definir uma malha para os parâmetros $\\gamma$ e $\\beta$:\n",
        "$$\n",
        "\\underset{\\mathbf{z} \\in \\left\\{ 0, +1\\right\\}^{\\times n_V}}{\\arg \\max} C(\\mathbf{z})  \\approx \\underset{\\mathbf{\\gamma}, \\mathbf{\\beta}}{\\arg \\max }F_p(\\mathbf{\\gamma},\\mathbf{\\beta}),\n",
        "$$\n",
        "\n",
        "5. PUBS: Definir a família de circuitos parametrizada por $\\gamma_1, \\beta_1, \\dots, \\gamma_n,\\ \\beta_n$ que implementa\n",
        "$$\n",
        "| \\mathbf{\\gamma}, \\mathbf{\\beta} ; p \\rangle =  \\left(\\prod_{j=0}^{n-1} e^{-i\\beta_p X_j}\\right)e^{-i\\gamma_p H_C} \\dots \\left(\\prod_{j=0}^{n-1} e^{-i\\beta_1 X_j}\\right)e^{-i\\gamma_1 H_C} \\left(\\prod_{j=0}^{n-1}H_j \\right)  \\left| 0^{\\otimes n} \\right\\rangle.\n",
        "$$\n",
        "6.  Executar o Estimator para calcular $F_p(\\gamma, \\beta)$ na família de circuitos associada à grade de parâmetros:\n",
        "$$\n",
        "F_p(\\mathbf{\\gamma},\\mathbf{\\beta}) = \\langle \\mathbf{\\gamma}, \\mathbf{\\beta} ; p | H_C | \\mathbf{\\gamma}, \\mathbf{\\beta} ; p \\rangle .\n",
        "$$\n",
        "7.  Extrair dos resultados do estimator a lista ótima de parâmetros $\\gamma$ e $\\beta$ que maximizam $F_p(\\gamma, \\beta)$.\n",
        "8.  Extrair da lista ótima o estado que resolve o problema MaxCut.\n",
        "\n",
        "\n",
        "> <font color = \"red\">\"For larger optimization problems with more complex cost functions, more layers in the QAOA ansatz (i.e., p > 1) may become necessary. More layers means more parameters in the variational quantum circuit, which leads to a harder optimization problem. Such an optimization problem could not be solved by a mere grid search over values, as this quickly becomes intractable. Rather, gradient-based or gradient-free optimization algorithms must be used to compute an approximately optimal set of parameters.\" (Hidary, 2021: p.166-7)<font>\n",
        "\n"
      ]
    },
    {
      "cell_type": "markdown",
      "metadata": {
        "id": "-ALHisXDjrh_"
      },
      "source": [
        "## MaxCut 1\n",
        "\n",
        "<img src=\"https://drive.google.com/uc?export=view&id=10pL2A_kb1FSdtVn4vBUsKjX7oifN9HEw\" alt=\"drawing\" width=\"300\"/>\n",
        "\n",
        "Parâmetros:\n",
        "\n",
        "*   Número de vértices/qubits: 4;\n",
        "*   Função custo:\n",
        "$$\n",
        "C(z_0,z_1,z_2,z_3) = \\frac{1}{2}\\sum_{k=1}^3(1 - z_0z_k);\n",
        "$$\n",
        "*   Hamiltoniano e operador do custo:\n",
        "$$\n",
        "\\begin{split}\n",
        "H_C &= \\frac{1}{2}\\sum_{k=1}^3(I - Z_0Z_k)\\\\\n",
        "&= \\frac{1}{2}\\left( I - Z_0Z_1 -Z_0Z_2 - Z_0Z_3 + Z_2Z_1 + Z_2Z_1 + Z_3Z_2 - Z_0Z_3Z_2Z_1\\right)\n",
        "\\end{split}\n",
        "$$\n",
        "e\n",
        "$$\n",
        "U(H_C,\\gamma) = e^{-i\\gamma H_C} = \\prod_{k=1}^3e^{-i\\gamma (I - Z_0Z_k)/2};\n",
        "$$\n",
        "*   Hamiltoniano e operador do mixer:\n",
        "$$\n",
        "B = \\sum_{k=0}^3 X_k,\\  U(H_B,\\beta) = e^{-i\\beta H_B} = \\prod_{k=0}^3e^{-i\\beta X_k}.\n",
        "$$\n",
        "\n"
      ]
    },
    {
      "cell_type": "code",
      "execution_count": null,
      "metadata": {
        "colab": {
          "base_uri": "https://localhost:8080/"
        },
        "id": "clNdXZ7FLEit",
        "outputId": "cee262d2-393c-4bcf-93fe-d51f82e09a06"
      },
      "outputs": [
        {
          "name": "stdout",
          "output_type": "stream",
          "text": [
            "Representação anti-lexicográfica de 127 na base 5: [1 0 0 2]\n",
            "Inteiro dado por sua lista de dígitos na base 5: 27\n"
          ]
        }
      ],
      "source": [
        "'''\n",
        "Funções que definem representações de inteiros em base arbitrária e vice-versa\n",
        "'''\n",
        "\n",
        "import numpy as np\n",
        "\n",
        "# Função que retorna a lista de dígidos de um inteiro numa base dada\n",
        "def baseint(b,x,w):\n",
        "    '''\n",
        "    Função que retorna a lista de dígitos do inteiro 'x'  na base 'b'\n",
        "    com comprimento 'w' (no mínimo) e na ordem anti-lexicográfica\n",
        "\n",
        "    Entradas:\n",
        "        b : inteiro positivo : base\n",
        "        x : inteiro a ser apresentado na base 'b'\n",
        "        w : inteiro positivo : comprimento da representação\n",
        "\n",
        "    Saída:\n",
        "        list : lista de inteiros positivos\n",
        "    '''\n",
        "    if x < 0:\n",
        "        sign = -1\n",
        "    else:\n",
        "        sign = 1\n",
        "\n",
        "    x *= sign\n",
        "\n",
        "    ordem = 0\n",
        "    while x >= b**ordem:\n",
        "        ordem += 1\n",
        "\n",
        "    ordem = max(ordem,w)\n",
        "\n",
        "    repres = [0 for k in range(ordem)]\n",
        "\n",
        "    for k in range(ordem):\n",
        "        expoente = ordem - k - 1\n",
        "        repres[k] = x // b**expoente\n",
        "        x = x % b**expoente\n",
        "\n",
        "    return np.array(repres)\n",
        "\n",
        "def basestr(b, lista):\n",
        "    '''\n",
        "    Função que apresenta na base '10' um inteiro dado pela lista 'lista'\n",
        "    de seus dígitos na base 'b' na ordem anti-lexicográfica\n",
        "\n",
        "    Entradas:\n",
        "        b : inteiro positivo : base\n",
        "        x : inteiro a ser apresentado na base 'b'\n",
        "\n",
        "    Saída:\n",
        "        int : 'x' na base '10'\n",
        "    '''\n",
        "    ordem = len(lista)\n",
        "    n = 0\n",
        "    for k in range(0,ordem):\n",
        "        n = n + lista[k]*(5**(ordem - k - 1))\n",
        "    return n\n",
        "\n",
        "print(f\"Representação anti-lexicográfica de 127 na base 5: {baseint(5,127,3)}\")\n",
        "print(f\"Inteiro dado por sua lista de dígitos na base 5: {basestr(5,[1,0,2])}\")"
      ]
    },
    {
      "cell_type": "code",
      "execution_count": null,
      "metadata": {
        "colab": {
          "base_uri": "https://localhost:8080/",
          "height": 531
        },
        "id": "hrhOy0AxSWmD",
        "outputId": "cc10f4b9-c0cf-41da-f41d-f2af38df3bc8"
      },
      "outputs": [
        {
          "name": "stdout",
          "output_type": "stream",
          "text": [
            "Parâmetro p: p = 2\n",
            "Parâmetro m: m = 5\n",
            "Número de circuitos: 1296\n",
            "Número de operadores: 1296\n",
            "Número de parâmetros: 1296\n",
            "Circuito típico:\n"
          ]
        },
        {
          "data": {
            "image/png": "[encoded data removed]",
            "text/plain": [
              "<Figure size 1708.89x367.889 with 1 Axes>"
            ]
          },
          "metadata": {},
          "output_type": "display_data"
        },
        {
          "name": "stdout",
          "output_type": "stream",
          "text": [
            "Estado típico:\n"
          ]
        },
        {
          "data": {
            "text/latex": "$$(0.0772542486 - 0.2377641291 i) |0000\\rangle+(0.0772542486 - 0.2377641291 i) |0001\\rangle+(0.0772542486 - 0.2377641291 i) |0010\\rangle+(0.0772542486 - 0.2377641291 i) |0011\\rangle+(0.0772542486 - 0.2377641291 i) |0100\\rangle+(0.0772542486 - 0.2377641291 i) |0101\\rangle + \\ldots +(0.0772542486 - 0.2377641291 i) |1011\\rangle+(0.0772542486 - 0.2377641291 i) |1100\\rangle+(0.0772542486 - 0.2377641291 i) |1101\\rangle+(0.0772542486 - 0.2377641291 i) |1110\\rangle+(0.0772542486 - 0.2377641291 i) |1111\\rangle$$",
            "text/plain": [
              "<IPython.core.display.Latex object>"
            ]
          },
          "metadata": {},
          "output_type": "display_data"
        }
      ],
      "source": [
        "'''\n",
        "QAOA para o MaxCut\n",
        "'''\n",
        "\n",
        "'''\n",
        "Pacotes\n",
        "'''\n",
        "\n",
        "import time\n",
        "import numpy as np\n",
        "from qiskit.circuit import Parameter\n",
        "from qiskit.quantum_info import Pauli, SparsePauliOp\n",
        "from qiskit_aer.primitives import Estimator\n",
        "from qiskit.transpiler.preset_passmanagers import generate_preset_pass_manager\n",
        "from qiskit.quantum_info import Statevector\n",
        "\n",
        "estimator = Estimator()\n",
        "\n",
        "'''\n",
        "Algoritmo\n",
        "'''\n",
        "\n",
        "inicio = time.time() # t inicial\n",
        "\n",
        "# PASSO 1: Circuito\n",
        "\n",
        "n = 4 # número de qubits\n",
        "qubits = [k for k in range(n)]\n",
        "\n",
        "# Circuito\n",
        "\n",
        "qaoa = QuantumCircuit(n)\n",
        "\n",
        "# Hamiltoniano\n",
        "\n",
        "HC = SparsePauliOp.from_sparse_list([(\"I\", [0], 3/2),\n",
        " (\"ZZ\", [0,1], -1/2),\n",
        "  (\"ZZ\", [0,2], -1/2),\n",
        "   (\"ZZ\", [0,3], -1/2)], num_qubits = n)\n",
        "\n",
        "# PASSO 2: Operador de custo\n",
        "\n",
        "def uc(g): # operador custo com parâmetro 'g' (gamma)\n",
        "    qc = QuantumCircuit(n)\n",
        "    for k in range(1,n):\n",
        "        qc.cp(-g,0,k, ctrl_state = 0)\n",
        "        qc.cp(-g,k,0, ctrl_state = 0)\n",
        "    return qc\n",
        "\n",
        "# PASSO 3: Operador mixer\n",
        "\n",
        "def ux(b): # operador mixer com parâmetro 'b' (beta)\n",
        "    qc = QuantumCircuit(n)\n",
        "    for k in range(n):\n",
        "        qc.rx(-2*b,k)\n",
        "    return qc\n",
        "\n",
        "# PASSO 4: Truncamento de p e malha de parâmetros gamma e beta\n",
        "\n",
        "p = 2\n",
        "m = 5\n",
        "\n",
        "parametros = [baseint(m+1,k, 2*p)*2*np.pi/m for k in range((m+1)**(2*p))]\n",
        "\n",
        "# PASSO 5: PUBs\n",
        "\n",
        "# Lista de operadores\n",
        "\n",
        "operators = [HC]*len(parametros)\n",
        "\n",
        "# Lista de circuitos\n",
        "\n",
        "for k in range(n): # Inicialização do computador quântico\n",
        "    qaoa.h(k)\n",
        "\n",
        "circuitos = []\n",
        "for k in range(len(parametros)):\n",
        "    qc = qaoa.copy()\n",
        "    qc.append(uc(parametros[k][0]), qubits)\n",
        "    qc.barrier()\n",
        "    qc.append(ux(parametros[k][1]), qubits)\n",
        "    qc.barrier()\n",
        "    qc.append(uc(parametros[k][2]), qubits)\n",
        "    qc.barrier()\n",
        "    qc.append(ux(parametros[k][3]), qubits)\n",
        "    qc.barrier()\n",
        "    circuitos.append(qc)\n",
        "\n",
        "print(f\"Parâmetro p: p = {p}\")\n",
        "print(f\"Parâmetro m: m = {m}\")\n",
        "print(f\"Número de circuitos: {len(circuitos)}\")\n",
        "print(f\"Número de operadores: {len(operators)}\")\n",
        "print(f\"Número de parâmetros: {len(parametros)}\")\n",
        "print(f\"Circuito típico:\")\n",
        "display(circuitos[(m+1)**p+m].decompose().draw('mpl'))\n",
        "print(f\"Estado típico:\")\n",
        "display(Statevector.from_instruction(circuitos[(m+1)**p+m]).draw('latex'))"
      ]
    },
    {
      "cell_type": "code",
      "execution_count": null,
      "metadata": {
        "id": "4DNkmBvfV0yn"
      },
      "outputs": [],
      "source": [
        "# PASSO 6: Executar o Estimator\n",
        "\n",
        "# Transpilação\n",
        "\n",
        "pass_manager = generate_preset_pass_manager(optimization_level=1, backend=backend)\n",
        "circuitos_transpilados = [pass_manager.run(circuitos[m]) for m in range(2**n)]\n",
        "\n",
        "observaveis = [HC for m in range(2**n)] # Lista de observáveis (2^n cópias de HC)\n",
        "observaveis_transpilados = [observavel.apply_layout(circuitos_transpilados[m].layout) for observavel in observaveis]\n",
        "\n",
        "## Estimator\n",
        "\n",
        "job = estimator.run(circuits = circuitos_transpilados, observables = observaveis_transpilados) # manda a lista de circuitos e respectivos observáveis para rodar\n",
        "#job_id = job.job_id()\n",
        "#print(job_id)"
      ]
    },
    {
      "cell_type": "code",
      "execution_count": null,
      "metadata": {
        "colab": {
          "base_uri": "https://localhost:8080/",
          "height": 210
        },
        "id": "VwyGRDWeEH7V",
        "outputId": "6a267d6d-9914-40f5-dc05-7f6aa9de433f"
      },
      "outputs": [
        {
          "name": "stdout",
          "output_type": "stream",
          "text": [
            "Custo máximo: max(< HC >) = 2.23046875.\n",
            "Ponto crítico da rede: parametro_maxcut = 7 <-> [0 0 0 1 2].\n",
            "Estado maxcut:\n"
          ]
        },
        {
          "data": {
            "text/latex": "$$(0.1769724675 + 0.0691369917 i) |0000\\rangle+(-0.3121674026 + 0.3296055747 i) |0001\\rangle+(-0.0326589054 - 0.0551048674 i) |0010\\rangle+(-0.2752817811 - 0.0778093214 i) |0011\\rangle+(-0.0326589054 - 0.0551048674 i) |0100\\rangle+(-0.2752817811 - 0.0778093214 i) |0101\\rangle + \\ldots +(-0.0326589054 - 0.0551048674 i) |1011\\rangle+(-0.2752817811 - 0.0778093214 i) |1100\\rangle+(-0.0326589054 - 0.0551048674 i) |1101\\rangle+(-0.3121674026 + 0.3296055747 i) |1110\\rangle+(0.1769724675 + 0.0691369917 i) |1111\\rangle$$",
            "text/plain": [
              "<IPython.core.display.Latex object>"
            ]
          },
          "metadata": {},
          "output_type": "display_data"
        },
        {
          "name": "stdout",
          "output_type": "stream",
          "text": [
            "Custo máximo: max(< HC >) = 2.23046875.\n",
            "Estado da base computacional do maxcut = 1\n",
            "MaxCut: [0 0 0 1].\n"
          ]
        }
      ],
      "source": [
        "'''\n",
        "Pós-processamento\n",
        "'''\n",
        "\n",
        "'''\n",
        "Comparação dos resultados dos circuitos para determinar qual conjunto de\n",
        " parâmetros (e correspondentes circuito e estado) determina o custo máximo\n",
        " <HC>_max.\n",
        "'''\n",
        "\n",
        "# PASSO 7: Extrair dos resultados do estimator a lista ótima de parâmetros 𝛾 e 𝛽\n",
        "# que maximizam 𝐹𝑝(𝛾,𝛽).\n",
        "\n",
        "\n",
        "expval = 0\n",
        "for k in range(len(job.result().values)):\n",
        "    if job.result().values[k] > expval:\n",
        "        expval = job.result().values[k]\n",
        "        parametro_maxcut = k\n",
        "    else:\n",
        "        pass\n",
        "print(f\"Custo máximo: max(< HC >) = {expval}.\")\n",
        "print(f\"Ponto crítico da rede: parametro_maxcut = {parametro_maxcut} <-> {baseint(m,parametro_maxcut,m)}.\")\n",
        "\n",
        "# PASSO 9: Extrair da lista ótima o estado que resolve o problema MaxCut.\n",
        "\n",
        "# Estado maxcut, que determina o custo máximo\n",
        "estado_maxcut = Statevector.from_instruction(circuitos[parametro_maxcut])\n",
        "print(f\"Estado maxcut:\")\n",
        "display(estado_maxcut.draw('latex'))\n",
        "\n",
        "# Determinação da componente da base computacional\n",
        "# com maior contribuição no 'estado maxcut'\n",
        "\n",
        "maxcut = 0.0\n",
        "for k in range(len(estado_maxcut)):\n",
        "    if abs(estado_maxcut[k]) > maxcut:\n",
        "        maxcut = k\n",
        "    else:\n",
        "        pass\n",
        "print(f\"Custo máximo: max(< HC >) = {expval}.\")\n",
        "print(f\"Estado da base computacional do maxcut = {maxcut}\")\n",
        "print(f\"MaxCut: {baseint(2,maxcut,n)}.\")\n",
        "\n",
        "# Impressão do tempo de execução\n",
        "\n",
        "# fim = time.time() # t final\n",
        "# duracao = fim - inicio\n",
        "#print(f\"Duração da execução do algoritmo: {duracao/60}\")"
      ]
    },
    {
      "cell_type": "markdown",
      "metadata": {
        "id": "J-_ZMxZ-HH-N"
      },
      "source": [
        "## MaxCut 2\n",
        "\n",
        "<img src=\"https://drive.google.com/uc?export=view&id=1wPvW1r461IP51mHPh84A2AjMc38y1WQF\" alt=\"drawing\" width=\"300\"/>\n",
        "\n",
        "Parâmetros:\n",
        "\n",
        "*   Número de vértices/qubits: 4;\n",
        "*   Função custo:\n",
        "$$\n",
        "C(z_0,z_1,z_2,z_3) = \\frac{1}{2}\\sum_{0 \\le j < k \\le 3}(1 - z_jz_k);\n",
        "$$\n",
        "*   Hamiltoniano e operador do custo:\n",
        "$$\n",
        "\\begin{split}\n",
        "H_C &= \\frac{1}{2}\\sum_{0\\le j<k\\le 3}(I - Z_jZ_k)\\\\\n",
        "&= 3I - \\frac{1}{2} Z_0Z_1 - \\frac{1}{2}Z_0Z_2 - \\frac{1}{2}Z_0Z_3 - \\frac{1}{2} Z_1Z_2 - \\frac{1}{2} Z_1Z_3  - \\frac{1}{2} Z_2Z_3  .\n",
        "\\end{split}\n",
        "$$"
      ]
    },
    {
      "cell_type": "code",
      "execution_count": null,
      "metadata": {
        "colab": {
          "base_uri": "https://localhost:8080/",
          "height": 339
        },
        "id": "bUhsdDdDIdkN",
        "outputId": "9fbe568c-7d5d-4bc5-8309-1bc747135cfc"
      },
      "outputs": [
        {
          "ename": "NameError",
          "evalue": "name 'baseint' is not defined",
          "output_type": "error",
          "traceback": [
            "\u001b[0;31m---------------------------------------------------------------------------\u001b[0m",
            "\u001b[0;31mNameError\u001b[0m                                 Traceback (most recent call last)",
            "\u001b[0;32m<ipython-input-9-8c234b9f9ae0>\u001b[0m in \u001b[0;36m<cell line: 0>\u001b[0;34m()\u001b[0m\n\u001b[1;32m     66\u001b[0m \u001b[0mnumero_circuitos\u001b[0m \u001b[0;34m=\u001b[0m \u001b[0;34m(\u001b[0m\u001b[0mm\u001b[0m\u001b[0;34m+\u001b[0m\u001b[0;36m1\u001b[0m\u001b[0;34m)\u001b[0m\u001b[0;34m**\u001b[0m\u001b[0;34m(\u001b[0m\u001b[0;36m2\u001b[0m\u001b[0;34m*\u001b[0m\u001b[0mp\u001b[0m\u001b[0;34m)\u001b[0m\u001b[0;34m\u001b[0m\u001b[0;34m\u001b[0m\u001b[0m\n\u001b[1;32m     67\u001b[0m \u001b[0;34m\u001b[0m\u001b[0m\n\u001b[0;32m---> 68\u001b[0;31m \u001b[0mparametros\u001b[0m \u001b[0;34m=\u001b[0m \u001b[0;34m[\u001b[0m\u001b[0mbaseint\u001b[0m\u001b[0;34m(\u001b[0m\u001b[0mm\u001b[0m\u001b[0;34m+\u001b[0m\u001b[0;36m1\u001b[0m\u001b[0;34m,\u001b[0m\u001b[0mk\u001b[0m\u001b[0;34m,\u001b[0m \u001b[0;36m2\u001b[0m\u001b[0;34m*\u001b[0m\u001b[0mp\u001b[0m\u001b[0;34m)\u001b[0m\u001b[0;34m*\u001b[0m\u001b[0;36m2\u001b[0m\u001b[0;34m*\u001b[0m\u001b[0mnp\u001b[0m\u001b[0;34m.\u001b[0m\u001b[0mpi\u001b[0m\u001b[0;34m/\u001b[0m\u001b[0mm\u001b[0m \u001b[0;32mfor\u001b[0m \u001b[0mk\u001b[0m \u001b[0;32min\u001b[0m \u001b[0mrange\u001b[0m\u001b[0;34m(\u001b[0m\u001b[0mnumero_circuitos\u001b[0m\u001b[0;34m)\u001b[0m\u001b[0;34m]\u001b[0m\u001b[0;34m\u001b[0m\u001b[0;34m\u001b[0m\u001b[0m\n\u001b[0m\u001b[1;32m     69\u001b[0m \u001b[0;34m\u001b[0m\u001b[0m\n\u001b[1;32m     70\u001b[0m \u001b[0;31m# PASSO 5: PUBs\u001b[0m\u001b[0;34m\u001b[0m\u001b[0;34m\u001b[0m\u001b[0m\n",
            "\u001b[0;32m<ipython-input-9-8c234b9f9ae0>\u001b[0m in \u001b[0;36m<listcomp>\u001b[0;34m(.0)\u001b[0m\n\u001b[1;32m     66\u001b[0m \u001b[0mnumero_circuitos\u001b[0m \u001b[0;34m=\u001b[0m \u001b[0;34m(\u001b[0m\u001b[0mm\u001b[0m\u001b[0;34m+\u001b[0m\u001b[0;36m1\u001b[0m\u001b[0;34m)\u001b[0m\u001b[0;34m**\u001b[0m\u001b[0;34m(\u001b[0m\u001b[0;36m2\u001b[0m\u001b[0;34m*\u001b[0m\u001b[0mp\u001b[0m\u001b[0;34m)\u001b[0m\u001b[0;34m\u001b[0m\u001b[0;34m\u001b[0m\u001b[0m\n\u001b[1;32m     67\u001b[0m \u001b[0;34m\u001b[0m\u001b[0m\n\u001b[0;32m---> 68\u001b[0;31m \u001b[0mparametros\u001b[0m \u001b[0;34m=\u001b[0m \u001b[0;34m[\u001b[0m\u001b[0mbaseint\u001b[0m\u001b[0;34m(\u001b[0m\u001b[0mm\u001b[0m\u001b[0;34m+\u001b[0m\u001b[0;36m1\u001b[0m\u001b[0;34m,\u001b[0m\u001b[0mk\u001b[0m\u001b[0;34m,\u001b[0m \u001b[0;36m2\u001b[0m\u001b[0;34m*\u001b[0m\u001b[0mp\u001b[0m\u001b[0;34m)\u001b[0m\u001b[0;34m*\u001b[0m\u001b[0;36m2\u001b[0m\u001b[0;34m*\u001b[0m\u001b[0mnp\u001b[0m\u001b[0;34m.\u001b[0m\u001b[0mpi\u001b[0m\u001b[0;34m/\u001b[0m\u001b[0mm\u001b[0m \u001b[0;32mfor\u001b[0m \u001b[0mk\u001b[0m \u001b[0;32min\u001b[0m \u001b[0mrange\u001b[0m\u001b[0;34m(\u001b[0m\u001b[0mnumero_circuitos\u001b[0m\u001b[0;34m)\u001b[0m\u001b[0;34m]\u001b[0m\u001b[0;34m\u001b[0m\u001b[0;34m\u001b[0m\u001b[0m\n\u001b[0m\u001b[1;32m     69\u001b[0m \u001b[0;34m\u001b[0m\u001b[0m\n\u001b[1;32m     70\u001b[0m \u001b[0;31m# PASSO 5: PUBs\u001b[0m\u001b[0;34m\u001b[0m\u001b[0;34m\u001b[0m\u001b[0m\n",
            "\u001b[0;31mNameError\u001b[0m: name 'baseint' is not defined"
          ]
        }
      ],
      "source": [
        "'''\n",
        "QAOA para o MaxCut\n",
        "'''\n",
        "\n",
        "'''\n",
        "Pacotes\n",
        "'''\n",
        "import time\n",
        "import numpy as np\n",
        "from qiskit.circuit import Parameter\n",
        "from qiskit.quantum_info import Pauli, SparsePauliOp\n",
        "from qiskit_aer.primitives import Estimator\n",
        "from qiskit.transpiler.preset_passmanagers import generate_preset_pass_manager\n",
        "from qiskit.quantum_info import Statevector\n",
        "\n",
        "estimator = Estimator()\n",
        "\n",
        "'''\n",
        "Algoritmo\n",
        "'''\n",
        "\n",
        "inicio = time.time() # t inicial\n",
        "\n",
        "# PASSO 1: Circuito\n",
        "\n",
        "n = 4 # número de qubits\n",
        "qubits = [k for k in range(n)]\n",
        "\n",
        "# Circuito\n",
        "\n",
        "qaoa = QuantumCircuit(n)\n",
        "\n",
        "# Hamiltoniano\n",
        "\n",
        "HC = SparsePauliOp.from_sparse_list([(\"I\", [0], 3),\n",
        " (\"ZZ\", [0,1], -1/2),\n",
        "  (\"ZZ\", [0,2], -1/2),\n",
        "   (\"ZZ\", [0,3], -1/2),\n",
        "   (\"ZZ\", [1,2], -1/2),\n",
        "   (\"ZZ\", [1,3], -1/2),\n",
        "   (\"ZZ\", [2,3], -1/2)\n",
        "   ], num_qubits = n)\n",
        "\n",
        "# PASSO 2: Operador de custo\n",
        "\n",
        "def uc(g): # operador custo com parâmetro 'g' (gamma)\n",
        "    qc = QuantumCircuit(n)\n",
        "    for k in range(1,n):\n",
        "        qc.cp(-g,0,k, ctrl_state = 0)\n",
        "        qc.cp(-g,k,0, ctrl_state = 0)\n",
        "    return qc\n",
        "\n",
        "# PASSO 3: Operador mixer\n",
        "\n",
        "def ux(b): # operador mixer com parâmetro 'b' (beta)\n",
        "    qc = QuantumCircuit(n)\n",
        "    for k in range(n):\n",
        "        qc.rx(-2*b,k)\n",
        "    return qc\n",
        "\n",
        "# PASSO 4: Truncamento de p e malha de parâmetros gamma e beta\n",
        "\n",
        "p = 2\n",
        "m = 5\n",
        "\n",
        "numero_circuitos = (m+1)**(2*p)\n",
        "\n",
        "parametros = [baseint(m+1,k, 2*p)*2*np.pi/m for k in range(numero_circuitos)]\n",
        "\n",
        "# PASSO 5: PUBs\n",
        "\n",
        "# Lista de operadores\n",
        "\n",
        "operators = [HC]*numero_circuitos\n",
        "\n",
        "# Lista de circuitos\n",
        "\n",
        "for k in range(n): # Inicialização do computador quântico\n",
        "    qaoa.h(k)\n",
        "\n",
        "circuitos = []\n",
        "for k in range(numero_circuitos):\n",
        "    qc = qaoa.copy()\n",
        "    for j in range(p):\n",
        "        qc.append(uc(parametros[k][j]), qubits)\n",
        "        qc.barrier()\n",
        "        qc.append(ux(parametros[k][j+1]), qubits)\n",
        "        qc.barrier()\n",
        "    circuitos.append(qc)\n",
        "\n",
        "print(f\"Parâmetro p: p = {p}\")\n",
        "print(f\"Parâmetro m: m = {m}\")\n",
        "print(f\"Número de parâmetros: {len(parametros)}\")\n",
        "print(f\"Número de operadores: {len(operators)}\")\n",
        "print(f\"Número de circuitos: {numero_circuitos}\")\n",
        "print(f\"Circuito típico:\")\n",
        "display(circuitos[(m+1)**p+m].decompose().draw('mpl'))\n",
        "print(f\"Estado típico:\")\n",
        "display(Statevector.from_instruction(circuitos[(m+1)**p+m]).draw('latex'))"
      ]
    },
    {
      "cell_type": "code",
      "execution_count": null,
      "metadata": {
        "id": "2MH9zXS5HRUb"
      },
      "outputs": [],
      "source": [
        "# PASSO 6: Executar o Estimator\n",
        "\n",
        "# Transpilação\n",
        "\n",
        "pass_manager = generate_preset_pass_manager(optimization_level=1, backend=backend)\n",
        "circuitos_transpilados = [pass_manager.run(circuito) for circuito in circuitos]\n",
        "\n",
        "observaveis = [HC for m in range(len(circuitos))] # Lista de observáveis (2^n cópias de HC)\n",
        "observaveis_transpilados = [observaveis[m].apply_layout(circuitos_transpilados[m].layout) for m in range(numero_circuitos)]\n",
        "\n",
        "## Estimator\n",
        "\n",
        "job = estimator.run(circuits = circuitos_transpilados, observables = observaveis_transpilados) # manda a lista de circuitos e respectivos observáveis para rodar\n",
        "#job_id = job.job_id()\n",
        "#print(job_id)"
      ]
    },
    {
      "cell_type": "code",
      "execution_count": null,
      "metadata": {
        "colab": {
          "base_uri": "https://localhost:8080/",
          "height": 192
        },
        "id": "Xg3lrb0MHNVd",
        "outputId": "b9b69699-946f-4d73-a66b-02e6e0a1d286"
      },
      "outputs": [
        {
          "name": "stdout",
          "output_type": "stream",
          "text": [
            "Custo máximo: max(< HC >) = 3.63671875.\n",
            "Parametro_maxcut = 20 <-> [0.         0.         3.76991118 2.51327412].\n",
            "Estado maxcut:\n"
          ]
        },
        {
          "data": {
            "text/latex": "$$(-0.032451032 - 0.0147323044 i) |0000\\rangle+(-0.0513095895 - 0.1946512572 i) |0001\\rangle+(-0.0595574652 - 0.2060034842 i) |0010\\rangle+(-0.0222560969 - 0.32596959 i) |0011\\rangle+(-0.0595574652 - 0.2060034842 i) |0100\\rangle+(-0.0222560969 - 0.32596959 i) |0101\\rangle + \\ldots +(-0.0595574652 - 0.2060034842 i) |1011\\rangle+(-0.0222560969 - 0.32596959 i) |1100\\rangle+(-0.0595574652 - 0.2060034842 i) |1101\\rangle+(-0.0513095895 - 0.1946512572 i) |1110\\rangle+(-0.032451032 - 0.0147323044 i) |1111\\rangle$$",
            "text/plain": [
              "<IPython.core.display.Latex object>"
            ]
          },
          "metadata": {},
          "output_type": "display_data"
        },
        {
          "name": "stdout",
          "output_type": "stream",
          "text": [
            "Custo máximo: max(< HC >) = 3.63671875.\n",
            "MaxCut: [0 0 1 1].\n"
          ]
        }
      ],
      "source": [
        "'''\n",
        "Pós-processamento\n",
        "'''\n",
        "\n",
        "# PASSO 7: Extrair dos resultados do estimator a lista ótima de parâmetros 𝛾 e 𝛽\n",
        "# que maximizam 𝐹𝑝(𝛾,𝛽).\n",
        "\n",
        "# Comparação dos resultados dos circuitos\n",
        "# para determinar qual conjunto de parâmetros\n",
        "# (e correspondentes circuito e estado)\n",
        "# determina o custo máximo <HC>_max.\n",
        "\n",
        "expval_max = 0; parametro_maxcut = 0\n",
        "for k in range(numero_circuitos):\n",
        "    expval = job.result().values[k]\n",
        "    if expval > expval_max:\n",
        "        expval_max = expval\n",
        "        parametro_maxcut = k\n",
        "    else:\n",
        "        pass\n",
        "print(f\"Custo máximo: max(< HC >) = {expval_max}.\")\n",
        "print(f\"Parametro_maxcut = {parametro_maxcut} <-> {parametros[parametro_maxcut]}.\")\n",
        "\n",
        "# PASSO 9: Extrair da lista ótima o estado que resolve o problema MaxCut.\n",
        "\n",
        "# Estado maxcut, que determina o custo máximo\n",
        "#display(circuitos[parametro_maxcut].decompose().draw('mpl'))\n",
        "estado_maxcut = Statevector.from_instruction(circuitos[parametro_maxcut])\n",
        "print(f\"Estado maxcut:\")\n",
        "display(estado_maxcut.draw('latex'))\n",
        "\n",
        "# Determinação da componente da base computacional\n",
        "# com maior contribuição no 'estado maxcut'\n",
        "\n",
        "prob_max = 0.0; estado_maxcut_base = 0\n",
        "for k in range(len(estado_maxcut)):\n",
        "    prob = abs(estado_maxcut[k])\n",
        "    if abs(prob) > prob_max:\n",
        "        prob_max = prob\n",
        "        estado_maxcut_base = k\n",
        "    else:\n",
        "        pass\n",
        "print(f\"Custo máximo: max(< HC >) = {expval_max}.\")\n",
        "print(f\"MaxCut: {baseint(2,estado_maxcut_base,n)}.\")\n",
        "\n",
        "# Impressão do tempo de execução\n",
        "\n",
        "# fim = time.time() # t final\n",
        "# duracao = fim - inicio\n",
        "#print(f\"Duração da execução do algoritmo: {duracao/60}\")"
      ]
    },
    {
      "cell_type": "markdown",
      "metadata": {
        "id": "vJ866_OUYIPU"
      },
      "source": [
        "## MaxCut 3\n",
        "\n",
        "<img src=\"https://drive.google.com/uc?export=view&id=1FggGUZNWvOU9YVt9D7pHfWRAvZI9qkR2\" alt=\"drawing\" width=\"350\"/>\n",
        "\n",
        "Parâmetros:\n",
        "\n",
        "*   Número de vértices/qubits: 5;\n",
        "*   Função custo:\n",
        "$$\n",
        "\\begin{split}\n",
        "C(z_0,z_1,z_2,z_3,z_4) &= \\frac{1}{2}\\left\\lbrack (1 - z_0z_1) + (1 - z_0z_4) + (1 - z_1z_2) + (1 - z_1z_4) + (1 - z_2z_3)+ (1 - z_3z_4)\\right\\rbrack\\\\\n",
        "&= 3 - \\frac{1}{2}z_0z_1 - \\frac{1}{2}z_0z_4 - \\frac{1}{2}z_1z_2 - \\frac{1}{2}z_1z_4 - \\frac{1}{2}z_2z_3 - \\frac{1}{2}z_3z_4.\n",
        "\\end{split}\n",
        "$$\n",
        "*   Hamiltoniano e operador do custo:\n",
        "$$\n",
        "\\begin{split}\n",
        "H_C &= 3I - \\frac{1}{2}Z_0Z_1 - \\frac{1}{2}Z_0Z_4 - \\frac{1}{2}Z_1Z_2 - \\frac{1}{2}Z_1Z_4 - \\frac{1}{2}Z_2Z_3 - \\frac{1}{2}Z_3Z_4.\n",
        "\\end{split}\n",
        "$$"
      ]
    },
    {
      "cell_type": "code",
      "execution_count": null,
      "metadata": {
        "id": "j0PC7s1trpqp"
      },
      "outputs": [],
      "source": [
        "'''\n",
        "Pacotes\n",
        "'''\n",
        "import time\n",
        "import numpy as np\n",
        "from qiskit.circuit import Parameter\n",
        "from qiskit.quantum_info import Pauli, SparsePauliOp\n",
        "from qiskit_aer.primitives import Estimator\n",
        "from qiskit.transpiler.preset_passmanagers import generate_preset_pass_manager\n",
        "from qiskit.quantum_info import Statevector\n",
        "\n",
        "estimator = Estimator()"
      ]
    },
    {
      "cell_type": "code",
      "execution_count": null,
      "metadata": {
        "colab": {
          "base_uri": "https://localhost:8080/",
          "height": 491
        },
        "id": "algZSBLylBSY",
        "outputId": "59ea6cda-c83c-4e4e-d442-9084468688b3"
      },
      "outputs": [
        {
          "name": "stdout",
          "output_type": "stream",
          "text": [
            "Circuito maxcut:\n"
          ]
        },
        {
          "data": {
            "image/png": "[encoded data removed]",
            "text/plain": [
              "<Figure size 203.885x451.5 with 1 Axes>"
            ]
          },
          "metadata": {},
          "output_type": "display_data"
        },
        {
          "name": "stdout",
          "output_type": "stream",
          "text": [
            "Hamiltoniano de custo:\n"
          ]
        },
        {
          "data": {
            "text/plain": [
              "SparsePauliOp(['IIIII', 'IIIZZ', 'ZIIIZ', 'IIZZI', 'ZIIZI', 'IZZII', 'ZZIII'],\n",
              "              coeffs=[ 3. +0.j, -0.5+0.j, -0.5+0.j, -0.5+0.j, -0.5+0.j, -0.5+0.j, -0.5+0.j])"
            ]
          },
          "metadata": {},
          "output_type": "display_data"
        },
        {
          "name": "stdout",
          "output_type": "stream",
          "text": [
            "Maxcut:\n"
          ]
        },
        {
          "data": {
            "text/plain": [
              "5.0"
            ]
          },
          "execution_count": 8,
          "metadata": {},
          "output_type": "execute_result"
        }
      ],
      "source": [
        "'''\n",
        "TESTE da RESPOSTA\n",
        "\n",
        "Corte máximo: (1,3) ; (0,2,4)\n",
        "\n",
        "Custo de corte máximo = 5\n",
        "'''\n",
        "n=5\n",
        "qc = QuantumCircuit(n)\n",
        "\n",
        "qc.x(1)\n",
        "qc.x(3)\n",
        "\n",
        "print(\"Circuito maxcut:\")\n",
        "display(qc.draw('mpl'))\n",
        "\n",
        "HC = SparsePauliOp.from_sparse_list([(\"I\", [0], 3),\n",
        " (\"ZZ\", [0,1], -1/2),\n",
        "  (\"ZZ\", [0,4], -1/2),\n",
        "   (\"ZZ\", [1,2], -1/2),\n",
        "   (\"ZZ\", [1,4], -1/2),\n",
        "   (\"ZZ\", [2,3], -1/2),\n",
        "   (\"ZZ\", [3,4], -1/2)\n",
        "   ], num_qubits = n)\n",
        "\n",
        "print(\"Hamiltoniano de custo:\")\n",
        "display(HC)\n",
        "\n",
        "circuitos = [qc]\n",
        "\n",
        "observaveis = [HC]\n",
        "\n",
        "# Transpilação\n",
        "\n",
        "pass_manager = generate_preset_pass_manager(optimization_level=1, backend=backend)\n",
        "circuitos_transpilados = [pass_manager.run(circuito) for circuito in circuitos]\n",
        "\n",
        "observaveis = [HC for m in range(len(circuitos))] # Lista de observáveis (2^n cópias de HC)\n",
        "observaveis_transpilados = [observaveis[m].apply_layout(circuitos_transpilados[m].layout) for m in range(1)]\n",
        "\n",
        "## Estimator\n",
        "\n",
        "job = estimator.run(circuits = circuitos_transpilados, observables = observaveis_transpilados) # manda a lista de circuitos e respectivos observáveis para rodar\n",
        "\n",
        "print(\"Maxcut:\")\n",
        "job.result().values[0]"
      ]
    },
    {
      "cell_type": "code",
      "execution_count": null,
      "metadata": {
        "colab": {
          "base_uri": "https://localhost:8080/",
          "height": 1000
        },
        "id": "Z8u6b5OvdpAj",
        "outputId": "115b73bd-51e1-4f6e-8c2c-0381decb4af5"
      },
      "outputs": [
        {
          "name": "stdout",
          "output_type": "stream",
          "text": [
            "Parâmetro p: p = 2\n",
            "Parâmetro m: m = 9\n",
            "Número de parâmetros: 10000\n",
            "Número de operadores: 10000\n",
            "Número de circuitos: 10000\n",
            "Circuito típico:\n"
          ]
        },
        {
          "data": {
            "image/png": "[encoded data removed]",
            "text/plain": [
              "<Figure size 2210.55x953.167 with 1 Axes>"
            ]
          },
          "metadata": {},
          "output_type": "display_data"
        },
        {
          "name": "stdout",
          "output_type": "stream",
          "text": [
            "Estado típico:\n"
          ]
        },
        {
          "data": {
            "text/latex": "$$(-0.1661157561 - 0.0604611907 i) |00000\\rangle+(0.1354188051 + 0.1136298694 i) |00001\\rangle+(-0.1661157561 + 0.0604611907 i) |00010\\rangle+(0.030696951 + 0.1740910601 i) |00011\\rangle+(-0.1661157561 + 0.0604611907 i) |00100\\rangle+(0.030696951 + 0.1740910601 i) |00101\\rangle + \\ldots +(-0.1661157561 + 0.0604611907 i) |11011\\rangle+(0.030696951 + 0.1740910601 i) |11100\\rangle+(-0.1661157561 + 0.0604611907 i) |11101\\rangle+(0.1354188051 + 0.1136298694 i) |11110\\rangle+(-0.1661157561 - 0.0604611907 i) |11111\\rangle$$",
            "text/plain": [
              "<IPython.core.display.Latex object>"
            ]
          },
          "metadata": {},
          "output_type": "display_data"
        },
        {
          "name": "stdout",
          "output_type": "stream",
          "text": [
            "Custo máximo: max(< HC >) = 3.4990234375.\n",
            "Parametro_maxcut = 1160 <-> [0.6981317 0.6981317 4.1887902 0.       ].\n",
            "Estado maxcut:\n"
          ]
        },
        {
          "data": {
            "text/latex": "$$(-0.0093583018 - 0.0088359608 i) |00000\\rangle+(-0.106783207 - 0.1125910869 i) |00001\\rangle+(-0.0397405069 + 0.0297403557 i) |00010\\rangle+(-0.2390044723 + 0.0561079015 i) |00011\\rangle+(-0.0397405069 + 0.0297403557 i) |00100\\rangle+(-0.2390044723 + 0.0561079015 i) |00101\\rangle + \\ldots +(-0.0397405069 + 0.0297403557 i) |11011\\rangle+(-0.2390044723 + 0.0561079015 i) |11100\\rangle+(-0.0397405069 + 0.0297403557 i) |11101\\rangle+(-0.106783207 - 0.1125910869 i) |11110\\rangle+(-0.0093583018 - 0.0088359608 i) |11111\\rangle$$",
            "text/plain": [
              "<IPython.core.display.Latex object>"
            ]
          },
          "metadata": {},
          "output_type": "display_data"
        },
        {
          "name": "stdout",
          "output_type": "stream",
          "text": [
            "Custo máximo: max(< HC >) = 3.4990234375.\n",
            "Estado_maxcut_base = 3\n",
            "MaxCut: [0 0 0 1 1].\n",
            "Duração da execução do algoritmo: 26.007489943504332 min.\n"
          ]
        }
      ],
      "source": [
        "'''\n",
        "QAOA para o MaxCut\n",
        "'''\n",
        "\n",
        "inicio = time.time() # t inicial\n",
        "\n",
        "# PASSO 1: Circuito\n",
        "\n",
        "n = 5 # número de qubits\n",
        "qubits = [k for k in range(n)]\n",
        "\n",
        "# Circuito\n",
        "\n",
        "qaoa = QuantumCircuit(n)\n",
        "\n",
        "# Hamiltoniano\n",
        "\n",
        "HC = SparsePauliOp.from_sparse_list([(\"I\", [0], 3),\n",
        " (\"ZZ\", [0,1], -1/2),\n",
        "  (\"ZZ\", [0,4], -1/2),\n",
        "   (\"ZZ\", [1,2], -1/2),\n",
        "   (\"ZZ\", [1,4], -1/2),\n",
        "   (\"ZZ\", [2,3], -1/2),\n",
        "   (\"ZZ\", [3,4], -1/2)\n",
        "   ], num_qubits = n)\n",
        "\n",
        "# PASSO 2: Operador de custo\n",
        "\n",
        "def uc(g): # operador custo com parâmetro 'g' (gamma)\n",
        "    qc = QuantumCircuit(n)\n",
        "    for k in range(1,n):\n",
        "        qc.cp(-g,0,k, ctrl_state = 0)\n",
        "        qc.cp(-g,k,0, ctrl_state = 0)\n",
        "    return qc\n",
        "\n",
        "# PASSO 3: Operador mixer\n",
        "\n",
        "def ux(b): # operador mixer com parâmetro 'b' (beta)\n",
        "    qc = QuantumCircuit(n)\n",
        "    for k in range(n):\n",
        "        qc.rx(-2*b,k)\n",
        "    return qc\n",
        "\n",
        "# PASSO 4: Truncamento de p e malha de parâmetros gamma e beta\n",
        "\n",
        "# >>>> Trava com p = 3 & m = 5\n",
        "# >>>> Rodou bem com p = 2 & m = 6, mas com resultados eventualmente errados\n",
        "# >>>> Rodou bem com p = 2 & m = 8\n",
        "p = 2\n",
        "m = 9\n",
        "\n",
        "numero_circuitos = (m+1)**(2*p)\n",
        "\n",
        "parametros = [baseint(m+1,k, 2*p)*2*np.pi/m for k in range(numero_circuitos)]\n",
        "\n",
        "# PASSO 5: PUBs\n",
        "\n",
        "# Lista de operadores\n",
        "\n",
        "operators = [HC]*numero_circuitos\n",
        "\n",
        "# Lista de circuitos\n",
        "\n",
        "for k in range(n): # Inicialização do computador quântico\n",
        "    qaoa.h(k)\n",
        "\n",
        "circuitos = []\n",
        "for k in range(numero_circuitos):\n",
        "    qc = qaoa.copy()\n",
        "    for j in range(p):\n",
        "        qc.append(uc(parametros[k][j]), qubits)\n",
        "        qc.barrier()\n",
        "        qc.append(ux(parametros[k][j+1]), qubits)\n",
        "        qc.barrier()\n",
        "    circuitos.append(qc)\n",
        "\n",
        "print(f\"Parâmetro p: p = {p}\")\n",
        "print(f\"Parâmetro m: m = {m}\")\n",
        "print(f\"Número de parâmetros: {len(parametros)}\")\n",
        "print(f\"Número de operadores: {len(operators)}\")\n",
        "print(f\"Número de circuitos: {numero_circuitos}\")\n",
        "print(f\"Circuito típico:\")\n",
        "display(circuitos[(m+1)**p+m].decompose().draw('mpl'))\n",
        "print(f\"Estado típico:\")\n",
        "display(Statevector.from_instruction(circuitos[(m+1)**p+m]).draw('latex'))\n",
        "\n",
        "# PASSO 6: Executar o Estimator\n",
        "\n",
        "# Transpilação\n",
        "\n",
        "pass_manager = generate_preset_pass_manager(optimization_level=1, backend=backend)\n",
        "circuitos_transpilados = [pass_manager.run(circuito) for circuito in circuitos]\n",
        "\n",
        "observaveis = [HC for m in range(len(circuitos))] # Lista de observáveis (2^n cópias de HC)\n",
        "observaveis_transpilados = [observaveis[m].apply_layout(circuitos_transpilados[m].layout) for m in range(numero_circuitos)]\n",
        "\n",
        "## Estimator\n",
        "\n",
        "job = estimator.run(circuits = circuitos_transpilados, observables = observaveis_transpilados) # manda a lista de circuitos e respectivos observáveis para rodar\n",
        "\n",
        "'''\n",
        "Pós-processamento\n",
        "'''\n",
        "\n",
        "# PASSO 7: Extrair dos resultados do estimator a lista ótima de parâmetros 𝛾 e 𝛽\n",
        "# que maximizam 𝐹𝑝(𝛾,𝛽).\n",
        "\n",
        "# Comparação dos resultados dos circuitos\n",
        "# para determinar qual conjunto de parâmetros\n",
        "# (e correspondentes circuito e estado)\n",
        "# determina o custo máximo <HC>_max.\n",
        "\n",
        "expval_max = 0; parametro_maxcut = 0\n",
        "for k in range(numero_circuitos):\n",
        "    expval = job.result().values[k]\n",
        "    if expval > expval_max:\n",
        "        expval_max = expval\n",
        "        parametro_maxcut = k\n",
        "    else:\n",
        "        pass\n",
        "print(f\"Custo máximo: max(< HC >) = {expval_max}.\")\n",
        "print(f\"Parametro_maxcut = {parametro_maxcut} <-> {parametros[parametro_maxcut]}.\")\n",
        "\n",
        "# PASSO 9: Extrair da lista ótima o estado que resolve o problema MaxCut.\n",
        "\n",
        "# Estado maxcut, que determina o custo máximo\n",
        "#display(circuitos[parametro_maxcut].decompose().draw('mpl'))\n",
        "estado_maxcut = Statevector.from_instruction(circuitos[parametro_maxcut])\n",
        "print(f\"Estado maxcut:\")\n",
        "display(estado_maxcut.draw('latex'))\n",
        "\n",
        "# Determinação da componente da base computacional\n",
        "# com maior contribuição no 'estado maxcut'\n",
        "\n",
        "prob_max = 0.0; estado_maxcut_base = 0\n",
        "for k in range(len(estado_maxcut)):\n",
        "    prob = abs(estado_maxcut[k])\n",
        "    if abs(prob) > prob_max:\n",
        "        prob_max = prob\n",
        "        estado_maxcut_base = k\n",
        "    else:\n",
        "        pass\n",
        "print(f\"Custo máximo: max(< HC >) = {expval_max}.\")\n",
        "print(f\"Estado_maxcut_base = {estado_maxcut_base}\")\n",
        "print(f\"MaxCut: {baseint(2,estado_maxcut_base,n)}.\")\n",
        "\n",
        "# Impressão do tempo de execução\n",
        "\n",
        "fim = time.time() # t final\n",
        "duracao = fim - inicio\n",
        "print(f\"Duração da execução do algoritmo: {duracao/60} min.\")"
      ]
    },
    {
      "cell_type": "markdown",
      "metadata": {
        "id": "9yloLMX6HCor"
      },
      "source": [
        "## MaxCut 4\n",
        "\n",
        "<img src=\"https://drive.google.com/uc?export=view&id=1ndw-ZdUPrry07p-mxalfiP6VaG9guVfw\" alt=\"drawing\" width=\"350\"/>\n",
        "\n",
        "Parâmetros:\n",
        "\n",
        "*   Número de vértices/qubits: 5;\n",
        "*   Função custo:\n",
        "$$\n",
        "\\begin{split}\n",
        "C(z_0,z_1,z_2,z_3,z_4) &=  \\frac{1}{2} \\sum_{0 \\le j < k \\le 5} (1 - z_jz_k) \\\\\n",
        "&= \\frac{1}{2}\\left\\lbrack (1 - z_0z_1) + (1 - z_0z_2) + (1 - z_0z_3) + (1 - z_0z_4) + (1 - z_1z_2) +  (1 - z_1z_3) + (1 - z_1z_4) + (1 - z_2z_3) + (1 - z_2z_4) + (1 - z_3z_4)\\right\\rbrack\\\\\n",
        "&= 5 - \\frac{1}{2}z_0z_1 - \\frac{1}{2}z_0z_3 - \\frac{1}{2}z_0z_3 - \\frac{1}{2}z_0z_4 - \\frac{1}{2}z_1z_2 - \\frac{1}{2}z_1z_3 - \\frac{1}{2}z_1z_4 - \\frac{1}{2}z_2z_3 - \\frac{1}{2}z_2z_4 - \\frac{1}{2}z_3z_4.\n",
        "\\end{split}\n",
        "$$\n",
        "*   Hamiltoniano e operador do custo:\n",
        "$$\n",
        "\\begin{split}\n",
        "H_C &= 5I - \\frac{1}{2}Z_0Z_1 - \\frac{1}{2}Z_0Z_2 - \\frac{1}{2}Z_0Z_3 - \\frac{1}{2}Z_0Z_4 - \\frac{1}{2}Z_1Z_2 - \\frac{1}{2}Z_1Z_3 - \\frac{1}{2}Z_1Z_4 - \\frac{1}{2}Z_2Z_3 - \\frac{1}{2}Z_2Z_4 - \\frac{1}{2}Z_3Z_4.\n",
        "\\end{split}\n",
        "$$"
      ]
    },
    {
      "cell_type": "code",
      "execution_count": null,
      "metadata": {
        "id": "_On6hWDmNEyq"
      },
      "outputs": [],
      "source": [
        "'''\n",
        "Pacotes\n",
        "'''\n",
        "import time\n",
        "import numpy as np\n",
        "from qiskit.circuit import Parameter\n",
        "from qiskit.quantum_info import Pauli, SparsePauliOp\n",
        "from qiskit_aer.primitives import Estimator\n",
        "from qiskit.transpiler.preset_passmanagers import generate_preset_pass_manager\n",
        "from qiskit.quantum_info import Statevector\n",
        "\n",
        "estimator = Estimator()"
      ]
    },
    {
      "cell_type": "code",
      "execution_count": null,
      "metadata": {
        "colab": {
          "base_uri": "https://localhost:8080/",
          "height": 508
        },
        "id": "-rKy4p5jNJp2",
        "outputId": "a759988f-c687-4254-a205-75536689ed38"
      },
      "outputs": [
        {
          "name": "stdout",
          "output_type": "stream",
          "text": [
            "Circuito maxcut:\n"
          ]
        },
        {
          "data": {
            "image/png": "[encoded data removed]",
            "text/plain": [
              "<Figure size 203.885x451.5 with 1 Axes>"
            ]
          },
          "metadata": {},
          "output_type": "display_data"
        },
        {
          "name": "stdout",
          "output_type": "stream",
          "text": [
            "Hamiltoniano de custo:\n"
          ]
        },
        {
          "data": {
            "text/plain": [
              "SparsePauliOp(['IIIII', 'IIIZZ', 'IIZIZ', 'IZIIZ', 'ZIIIZ', 'IIZZI', 'IZIZI', 'ZIIZI', 'IZZII', 'ZIZII', 'ZZIII'],\n",
              "              coeffs=[ 5. +0.j, -0.5+0.j, -0.5+0.j, -0.5+0.j, -0.5+0.j, -0.5+0.j, -0.5+0.j,\n",
              " -0.5+0.j, -0.5+0.j, -0.5+0.j, -0.5+0.j])"
            ]
          },
          "metadata": {},
          "output_type": "display_data"
        },
        {
          "name": "stdout",
          "output_type": "stream",
          "text": [
            "Maxcut:\n"
          ]
        },
        {
          "data": {
            "text/plain": [
              "6.0"
            ]
          },
          "execution_count": 6,
          "metadata": {},
          "output_type": "execute_result"
        }
      ],
      "source": [
        "'''\n",
        "TESTE da RESPOSTA\n",
        "\n",
        "Corte máximo: (1,3) ; (0,2,4)\n",
        "\n",
        "Custo de corte máximo = 5\n",
        "'''\n",
        "n=5\n",
        "qc = QuantumCircuit(n)\n",
        "\n",
        "qc.x(0)\n",
        "qc.x(1)\n",
        "\n",
        "print(\"Circuito maxcut:\")\n",
        "display(qc.draw('mpl'))\n",
        "\n",
        "HC = SparsePauliOp.from_sparse_list([(\"I\", [0], 5),\n",
        " (\"ZZ\", [0,1], -1/2),\n",
        "  (\"ZZ\", [0,2], -1/2),\n",
        "    (\"ZZ\", [0,3], -1/2),\n",
        "  (\"ZZ\", [0,4], -1/2),\n",
        "   (\"ZZ\", [1,2], -1/2),\n",
        "    (\"ZZ\", [1,3], -1/2),\n",
        "   (\"ZZ\", [1,4], -1/2),\n",
        "   (\"ZZ\", [2,3], -1/2),\n",
        "    (\"ZZ\", [2,4], -1/2),\n",
        "   (\"ZZ\", [3,4], -1/2)\n",
        "   ], num_qubits = n)\n",
        "\n",
        "print(\"Hamiltoniano de custo:\")\n",
        "display(HC)\n",
        "\n",
        "circuitos = [qc]\n",
        "\n",
        "observaveis = [HC]\n",
        "\n",
        "# Transpilação\n",
        "\n",
        "pass_manager = generate_preset_pass_manager(optimization_level=1, backend=backend)\n",
        "circuitos_transpilados = [pass_manager.run(circuito) for circuito in circuitos]\n",
        "\n",
        "observaveis = [HC for m in range(len(circuitos))] # Lista de observáveis (2^n cópias de HC)\n",
        "observaveis_transpilados = [observaveis[m].apply_layout(circuitos_transpilados[m].layout) for m in range(1)]\n",
        "\n",
        "## Estimator\n",
        "\n",
        "job = estimator.run(circuits = circuitos_transpilados, observables = observaveis_transpilados) # manda a lista de circuitos e respectivos observáveis para rodar\n",
        "\n",
        "print(\"Maxcut:\")\n",
        "job.result().values[0]"
      ]
    },
    {
      "cell_type": "code",
      "execution_count": null,
      "metadata": {
        "colab": {
          "base_uri": "https://localhost:8080/",
          "height": 1000
        },
        "id": "a4ZnyUa0O9p6",
        "outputId": "36f0ba6a-f903-4bac-b51f-f5a607c1cda8"
      },
      "outputs": [
        {
          "name": "stdout",
          "output_type": "stream",
          "text": [
            "Parâmetro p: p = 2\n",
            "Parâmetro m: m = 10\n",
            "Número de parâmetros: 14641\n",
            "Número de operadores: 14641\n",
            "Número de circuitos: 14641\n",
            "Circuito típico:\n"
          ]
        },
        {
          "data": {
            "image/png": "[encoded data removed]",
            "text/plain": [
              "<Figure size 2210.55x953.167 with 1 Axes>"
            ]
          },
          "metadata": {},
          "output_type": "display_data"
        },
        {
          "name": "stdout",
          "output_type": "stream",
          "text": [
            "Estado típico:\n"
          ]
        },
        {
          "data": {
            "text/latex": "$$-0.1767766953 |00000\\rangle+(0.1430153507 + 0.1039067344 i) |00001\\rangle+(-0.1430153507 + 0.1039067344 i) |00010\\rangle+(0.0546270031 + 0.168124628 i) |00011\\rangle+(-0.1430153507 + 0.1039067344 i) |00100\\rangle+(0.0546270031 + 0.168124628 i) |00101\\rangle + \\ldots +(-0.1430153507 + 0.1039067344 i) |11011\\rangle+(0.0546270031 + 0.168124628 i) |11100\\rangle+(-0.1430153507 + 0.1039067344 i) |11101\\rangle+(0.1430153507 + 0.1039067344 i) |11110\\rangle-0.1767766953 |11111\\rangle$$",
            "text/plain": [
              "<IPython.core.display.Latex object>"
            ]
          },
          "metadata": {},
          "output_type": "display_data"
        },
        {
          "name": "stdout",
          "output_type": "stream",
          "text": [
            "Custo máximo: max(< HC >) = 5.845703125.\n",
            "Parametro_maxcut = 4255 <-> [1.88495559 1.25663706 0.62831853 5.65486678].\n",
            "Estado maxcut:\n"
          ]
        },
        {
          "data": {
            "text/latex": "$$(-0.0257439024 + 0.02267902 i) |00000\\rangle+(0.1769107201 + 0.0341770134 i) |00001\\rangle+(-0.0468810804 - 0.0334689194 i) |00010\\rangle+(-0.3066463824 + 0.0032869842 i) |00011\\rangle+(-0.0468810804 - 0.0334689194 i) |00100\\rangle+(-0.3066463824 + 0.0032869842 i) |00101\\rangle + \\ldots +(-0.0468810804 - 0.0334689194 i) |11011\\rangle+(-0.3066463824 + 0.0032869842 i) |11100\\rangle+(-0.0468810804 - 0.0334689194 i) |11101\\rangle+(0.1769107201 + 0.0341770134 i) |11110\\rangle+(-0.0257439024 + 0.02267902 i) |11111\\rangle$$",
            "text/plain": [
              "<IPython.core.display.Latex object>"
            ]
          },
          "metadata": {},
          "output_type": "display_data"
        },
        {
          "name": "stdout",
          "output_type": "stream",
          "text": [
            "Custo máximo: max(< HC >) = 5.845703125.\n",
            "Estado_maxcut_base = 3\n",
            "MaxCut: [0 0 0 1 1].\n",
            "Duração da execução do algoritmo: 23.216942807038624 min.\n"
          ]
        }
      ],
      "source": [
        "'''\n",
        "QAOA para o MaxCut\n",
        "'''\n",
        "\n",
        "inicio = time.time() # t inicial\n",
        "\n",
        "# PASSO 1: Circuito\n",
        "\n",
        "n = 5 # número de qubits\n",
        "qubits = [k for k in range(n)]\n",
        "\n",
        "# Circuito\n",
        "\n",
        "qaoa = QuantumCircuit(n)\n",
        "\n",
        "# Hamiltoniano\n",
        "\n",
        "HC = SparsePauliOp.from_sparse_list([(\"I\", [0], 5),\n",
        " (\"ZZ\", [0,1], -1/2),\n",
        "  (\"ZZ\", [0,2], -1/2),\n",
        "    (\"ZZ\", [0,3], -1/2),\n",
        "  (\"ZZ\", [0,4], -1/2),\n",
        "   (\"ZZ\", [1,2], -1/2),\n",
        "    (\"ZZ\", [1,3], -1/2),\n",
        "   (\"ZZ\", [1,4], -1/2),\n",
        "   (\"ZZ\", [2,3], -1/2),\n",
        "    (\"ZZ\", [2,4], -1/2),\n",
        "   (\"ZZ\", [3,4], -1/2)\n",
        "   ], num_qubits = n)\n",
        "\n",
        "# PASSO 2: Operador de custo\n",
        "\n",
        "def uc(g): # operador custo com parâmetro 'g' (gamma)\n",
        "    qc = QuantumCircuit(n)\n",
        "    for k in range(1,n):\n",
        "        qc.cp(-g,0,k, ctrl_state = 0)\n",
        "        qc.cp(-g,k,0, ctrl_state = 0)\n",
        "    return qc\n",
        "\n",
        "# PASSO 3: Operador mixer\n",
        "\n",
        "def ux(b): # operador mixer com parâmetro 'b' (beta)\n",
        "    qc = QuantumCircuit(n)\n",
        "    for k in range(n):\n",
        "        qc.rx(-2*b,k)\n",
        "    return qc\n",
        "\n",
        "# PASSO 4: Truncamento de p e malha de parâmetros gamma e beta\n",
        "\n",
        "# >>>> Roda com p = 1 & m = 20: resposta errada!\n",
        "# >>>> Roda com p = 1 & m = 30 (em < 2.47 min): resposta errada!\n",
        "# >>>> Roda com p = 1 & m = 40 (em < 4.46 min): resposta errada!\n",
        "# >>>> Roda com p = 1 & m = 50 (em < 7.00 min): resposta errada!\n",
        "# >>>> Roda com p = 1 & m = 99 (em = 28.59 min): resposta errada!\n",
        "# >>>> Roda com p = 2 & m = 10 (em = 23.21694 min): resposta CERTA!\n",
        "p = 2\n",
        "m = 10\n",
        "\n",
        "numero_circuitos = (m+1)**(2*p)\n",
        "\n",
        "parametros = [baseint(m+1,k, 2*p)*2*np.pi/m for k in range(numero_circuitos)]\n",
        "\n",
        "# PASSO 5: PUBs\n",
        "\n",
        "# Lista de operadores\n",
        "\n",
        "operators = [HC]*numero_circuitos\n",
        "\n",
        "# Lista de circuitos\n",
        "\n",
        "for k in range(n): # Inicialização do computador quântico\n",
        "    qaoa.h(k)\n",
        "\n",
        "circuitos = []\n",
        "for k in range(numero_circuitos):\n",
        "    qc = qaoa.copy()\n",
        "    for j in range(p):\n",
        "        qc.append(uc(parametros[k][j]), qubits)\n",
        "        qc.barrier()\n",
        "        qc.append(ux(parametros[k][j+1]), qubits)\n",
        "        qc.barrier()\n",
        "    circuitos.append(qc)\n",
        "\n",
        "print(f\"Parâmetro p: p = {p}\")\n",
        "print(f\"Parâmetro m: m = {m}\")\n",
        "print(f\"Número de parâmetros: {len(parametros)}\")\n",
        "print(f\"Número de operadores: {len(operators)}\")\n",
        "print(f\"Número de circuitos: {numero_circuitos}\")\n",
        "print(f\"Circuito típico:\")\n",
        "display(circuitos[(m+1)**p+m].decompose().draw('mpl'))\n",
        "print(f\"Estado típico:\")\n",
        "display(Statevector.from_instruction(circuitos[(m+1)**p+m]).draw('latex'))\n",
        "\n",
        "# PASSO 6: Executar o Estimator\n",
        "\n",
        "# Transpilação\n",
        "\n",
        "pass_manager = generate_preset_pass_manager(optimization_level=1, backend=backend)\n",
        "circuitos_transpilados = [pass_manager.run(circuito) for circuito in circuitos]\n",
        "\n",
        "observaveis = [HC for m in range(len(circuitos))] # Lista de observáveis (2^n cópias de HC)\n",
        "observaveis_transpilados = [observaveis[m].apply_layout(circuitos_transpilados[m].layout) for m in range(numero_circuitos)]\n",
        "\n",
        "## Estimator\n",
        "\n",
        "job = estimator.run(circuits = circuitos_transpilados, observables = observaveis_transpilados) # manda a lista de circuitos e respectivos observáveis para rodar\n",
        "\n",
        "'''\n",
        "Pós-processamento\n",
        "'''\n",
        "\n",
        "# PASSO 7: Extrair dos resultados do estimator a lista ótima de parâmetros 𝛾 e 𝛽\n",
        "# que maximizam 𝐹𝑝(𝛾,𝛽).\n",
        "\n",
        "# Comparação dos resultados dos circuitos\n",
        "# para determinar qual conjunto de parâmetros\n",
        "# (e correspondentes circuito e estado)\n",
        "# determina o custo máximo <HC>_max.\n",
        "\n",
        "expval_max = 0; parametro_maxcut = 0\n",
        "for k in range(numero_circuitos):\n",
        "    expval = job.result().values[k]\n",
        "    if expval > expval_max:\n",
        "        expval_max = expval\n",
        "        parametro_maxcut = k\n",
        "    else:\n",
        "        pass\n",
        "print(f\"Custo máximo: max(< HC >) = {expval_max}.\")\n",
        "print(f\"Parametro_maxcut = {parametro_maxcut} <-> {parametros[parametro_maxcut]}.\")\n",
        "\n",
        "# PASSO 9: Extrair da lista ótima o estado que resolve o problema MaxCut.\n",
        "\n",
        "# Estado maxcut, que determina o custo máximo\n",
        "#display(circuitos[parametro_maxcut].decompose().draw('mpl'))\n",
        "estado_maxcut = Statevector.from_instruction(circuitos[parametro_maxcut])\n",
        "print(f\"Estado maxcut:\")\n",
        "display(estado_maxcut.draw('latex'))\n",
        "\n",
        "# Determinação da componente da base computacional\n",
        "# com maior contribuição no 'estado maxcut'\n",
        "\n",
        "prob_max = 0.0; estado_maxcut_base = 0\n",
        "for k in range(len(estado_maxcut)):\n",
        "    prob = abs(estado_maxcut[k])\n",
        "    if abs(prob) > prob_max:\n",
        "        prob_max = prob\n",
        "        estado_maxcut_base = k\n",
        "    else:\n",
        "        pass\n",
        "print(f\"Custo máximo: max(< HC >) = {expval_max}.\")\n",
        "print(f\"Estado_maxcut_base = {estado_maxcut_base}\")\n",
        "print(f\"MaxCut: {baseint(2,estado_maxcut_base,n)}.\")\n",
        "\n",
        "# Impressão do tempo de execução\n",
        "\n",
        "fim = time.time() # t final\n",
        "duracao = fim - inicio\n",
        "print(f\"Duração da execução do algoritmo: {duracao/60} min.\")"
      ]
    },
    {
      "cell_type": "markdown",
      "metadata": {
        "id": "VeT_QtnUrO02"
      },
      "source": [
        "### TESTES"
      ]
    },
    {
      "cell_type": "markdown",
      "metadata": {
        "id": "1cUwu4sz1Vhk"
      },
      "source": [
        "# QAOA com Método do Gradiente\n",
        "\n",
        "## Gradiente de **$F_p(\\gamma, \\beta)$**\n",
        "\n",
        "Do Cálculo, sabemos que o gradiente de uma função diferenciável define a direção e sentido de seu crescimento máximo:\n",
        "\n",
        "$$\n",
        "F(p + \\varepsilon \\vec{\\nabla}F(p)) > F(p),\\ \\text{se}\\ \\vec{\\nabla}F(p) \\neq \\vec{0}\\ \\text{e}\\ \\varepsilon >0\\ \\text{suficientemente pequeno}.\n",
        "$$\n",
        "\n",
        "No método QAOA, buscamos maximizar a função\n",
        "$$\n",
        "F_p(\\mathbf{\\gamma},\\mathbf{\\beta}) = \\langle \\mathbf{\\gamma}, \\mathbf{\\beta} ; p | H_C | \\mathbf{\\gamma}, \\mathbf{\\beta} ; p \\rangle.\n",
        "$$\n",
        "\n",
        "O gradiente dessa função pode ser expresso da seguinte forma\n",
        "\n",
        "$$\n",
        "\\begin{split}\n",
        "\\nabla_{\\gamma, \\beta} F(\\gamma,\\beta) &= \\sum_{\\gamma_\\ell = 0}^p \\left\\lbrack \\frac{\\partial}{\\partial \\gamma_\\ell} F(\\gamma,\\beta)\\hat{\\gamma}_\\ell + \\frac{\\partial}{\\partial \\beta_\\ell} F(\\gamma,\\beta)\\hat{\\beta}_\\ell \\right\\rbrack.\n",
        "\\end{split}\n",
        "$$\n",
        "onde $\\hat{\\gamma}_\\ell$ e $\\hat{\\beta}_\\ell$ são versores nas direções das respectivas variáveis e as derivadas parciais possuem a seguinte expressão:\n",
        "\n",
        "$$\n",
        "\\begin{split}\n",
        "\\frac{\\partial}{\\partial \\gamma_\\ell} F(\\gamma,\\beta) &= \\frac{\\partial}{\\partial \\gamma_\\ell}  \\langle \\mathbf{\\gamma}, \\mathbf{\\beta} | H_C | \\mathbf{\\gamma}, \\mathbf{\\beta}  \\rangle\\\\\n",
        "&= \\left(\\frac{\\partial}{\\partial \\gamma_\\ell}|\\mathbf{\\gamma}, \\mathbf{\\beta}  \\rangle\\right)^\\dagger H_C | \\mathbf{\\gamma}, \\mathbf{\\beta}  \\rangle + \\langle \\mathbf{\\gamma}, \\mathbf{\\beta} | H_C \\left( \\frac{\\partial}{\\partial \\gamma_\\ell}| \\mathbf{\\gamma}, \\mathbf{\\beta}  \\rangle \\right).\n",
        "\\end{split}\n",
        "$$\n",
        "\n",
        "Essas derivadas parciais têm expressões analíticas complicadas e dependentes do modelo (*viz.*, $H_C$) e também do parâmetro $p$, o que torna difícil empregá-las. Entretanto, podemos apelar para uma aproximação numérica razoável:\n",
        "\n",
        "$$\n",
        "\\frac{\\partial}{\\partial \\gamma_\\ell} F_p(\\gamma, \\beta) \\approx \\frac{F_p(\\gamma + h \\hat{\\gamma}_\\ell, \\beta) - F_p(\\gamma - h \\hat{\\gamma}_\\ell, \\beta)}{2h}\n",
        "$$\n",
        "e\n",
        "$$\n",
        "\\frac{\\partial}{\\partial \\beta_\\ell} F_p(\\gamma, \\beta) \\approx \\frac{F_p(\\gamma, \\beta + h \\hat{\\beta}_\\ell) - F_p(\\gamma, \\beta - h \\hat{\\beta}_\\ell)}{2h}.\n",
        "$$\n",
        "Dessa forma, partindo de um ponto $(\\gamma^0, \\beta^0)$, em tese podemos aproximar um ponto de máximo local de $F_p(\\gamma, \\beta)$ pela seguinte iteração definida para $h,\\varepsilon >0$ suficientemente pequenos:\n",
        "\n",
        "$$\n",
        "\\gamma^{k+1}_\\ell \\leftarrow \\gamma^k_\\ell + \\varepsilon \\frac{F_p(\\gamma + h \\hat{\\gamma}_\\ell, \\beta) - F_p(\\gamma - h \\hat{\\gamma}_\\ell, \\beta)}{2h};\\ k = 0, 1, \\dots\n",
        "$$\n",
        "\n",
        "Observamos que é necessário calcular $F_p(\\gamma, \\beta)$ duas vezes em cada iteração (para dois pares de valores distintos de $\\gamma$ e $\\beta$), requerendo a construção e medida de dois circuitos.\n"
      ]
    },
    {
      "cell_type": "markdown",
      "metadata": {
        "id": "0ch9LoPIIDk2"
      },
      "source": [
        "## QAOA Gradiente: MaxCut 3\n",
        "\n",
        "<img src=\"https://drive.google.com/uc?export=view&id=1FggGUZNWvOU9YVt9D7pHfWRAvZI9qkR2\" alt=\"drawing\" width=\"350\"/>\n",
        "\n",
        "Parâmetros:\n",
        "\n",
        "*   Número de vértices/qubits: 5;\n",
        "*   Função custo:\n",
        "$$\n",
        "\\begin{split}\n",
        "C(z_0,z_1,z_2,z_3,z_4) &= \\frac{1}{2}\\left\\lbrack (1 - z_0z_1) + (1 - z_0z_4) + (1 - z_1z_2) + (1 - z_1z_4) + (1 - z_2z_3)+ (1 - z_3z_4)\\right\\rbrack\\\\\n",
        "&= 3 - \\frac{1}{2}z_0z_1 - \\frac{1}{2}z_0z_4 - \\frac{1}{2}z_1z_2 - \\frac{1}{2}z_1z_4 - \\frac{1}{2}z_2z_3 - \\frac{1}{2}z_3z_4.\n",
        "\\end{split}\n",
        "$$\n",
        "*   Hamiltoniano e operador do custo:\n",
        "$$\n",
        "\\begin{split}\n",
        "H_C &= 3I - \\frac{1}{2}Z_0Z_1 - \\frac{1}{2}Z_0Z_4 - \\frac{1}{2}Z_1Z_2 - \\frac{1}{2}Z_1Z_4 - \\frac{1}{2}Z_2Z_3 - \\frac{1}{2}Z_3Z_4.\n",
        "\\end{split}\n",
        "$$"
      ]
    },
    {
      "cell_type": "code",
      "execution_count": null,
      "metadata": {
        "id": "p4BYfVMWH7wU"
      },
      "outputs": [],
      "source": [
        "'''\n",
        "QAOA para o MaxCut\n",
        "'''\n",
        "\n",
        "'''\n",
        "Pacotes\n",
        "'''\n",
        "import time\n",
        "import numpy as np\n",
        "from qiskit.circuit import QuantumCircuit, Parameter\n",
        "from qiskit.quantum_info import SparsePauliOp\n",
        "from qiskit_aer.primitives import Estimator\n",
        "from qiskit.transpiler.preset_passmanagers import generate_preset_pass_manager\n",
        "\n",
        "estimator = Estimator()"
      ]
    },
    {
      "cell_type": "code",
      "execution_count": null,
      "metadata": {
        "id": "WBGr5aehIOAI"
      },
      "outputs": [],
      "source": [
        "'''\n",
        "Algoritmo\n",
        "'''\n",
        "\n",
        "inicio = time.time()  # Tempo inicial\n",
        "\n",
        "n = 5  # Número de qubits\n",
        "\n",
        "# PASSO 1: Hamiltoniano e operadores de custo e mixer\n",
        "\n",
        "HC = SparsePauliOp.from_sparse_list([\n",
        "    (\"I\", [0], 3),\n",
        "    (\"ZZ\", [0, 1], -1/2),\n",
        "    (\"ZZ\", [0, 4], -1/2),\n",
        "    (\"ZZ\", [1, 2], -1/2),\n",
        "    (\"ZZ\", [1, 4], -1/2),\n",
        "    (\"ZZ\", [2, 3], -1/2),\n",
        "    (\"ZZ\", [3, 4], -1/2)\n",
        "], num_qubits=n)\n",
        "\n",
        "def uc(n, g):  # Operador custo com parâmetro 'g' (gamma)\n",
        "    qc = QuantumCircuit(n, name=\"UC\")\n",
        "    for k in range(1, n):\n",
        "        qc.cp(-g, 0, k, ctrl_state=0)\n",
        "        qc.cp(-g, k, 0, ctrl_state=0)\n",
        "    return qc\n",
        "\n",
        "def ux(n, b):  # Operador mixer com parâmetro 'b' (beta)\n",
        "    qc = QuantumCircuit(n, name=\"UX\")\n",
        "    for k in range(n):\n",
        "        qc.rx(-2*b, k)\n",
        "    return qc\n",
        "\n",
        "# PASSO 2: Truncamento de p e família de parâmetros gamma e beta\n",
        "\n",
        "p = 3  # Número de camadas\n",
        "\n",
        "parametros = [Parameter(f\"gb_{k}\") for k in range(2 * p)]"
      ]
    },
    {
      "cell_type": "code",
      "execution_count": null,
      "metadata": {
        "colab": {
          "base_uri": "https://localhost:8080/",
          "height": 384
        },
        "id": "DujkwyoWJfZ1",
        "outputId": "cc90b9db-6fdc-46ae-bbe2-16894b25167e"
      },
      "outputs": [
        {
          "output_type": "execute_result",
          "data": {
            "text/plain": [
              "<Figure size 1207.22x451.5 with 1 Axes>"
            ],
            "image/png": "[encoded data removed]"
          },
          "metadata": {},
          "execution_count": 24
        }
      ],
      "source": [
        "# PASSO 3: Circuito\n",
        "\n",
        "qaoa = QuantumCircuit(n)\n",
        "qubits = list(range(n))\n",
        "\n",
        "for k in range(n):  # Inicialização do computador quântico\n",
        "    qaoa.h(k)\n",
        "\n",
        "for k in range(p):\n",
        "    qaoa.append(uc(n, parametros[2 * k]), qubits)\n",
        "    qaoa.barrier()\n",
        "    qaoa.append(ux(n, parametros[2 * k + 1]), qubits)\n",
        "    qaoa.barrier()\n",
        "\n",
        "qaoa.draw('mpl')\n"
      ]
    },
    {
      "cell_type": "code",
      "execution_count": null,
      "metadata": {
        "id": "kBhETyjYKX6P"
      },
      "outputs": [],
      "source": [
        "# PASSO 4: LOOP\n",
        "\n",
        "epsilon = 0.001  # Passo do gradiente\n",
        "h = 0.001  # Passo do circuito\n",
        "\n",
        "# Inicialização dos parâmetros gamma e beta\n",
        "parametros_iniciais = [0.0 for _ in range(2 * p)]\n",
        "parametros_valores = parametros_iniciais.copy()\n",
        "expval_antigo = None  # Para armazenar o valor esperado anterior\n",
        "delta = 1e-6  # Critério de parada baseado na variação da energia\n",
        "iteracoes_max = 100  # Número máximo de iterações\n",
        "\n",
        "pass_manager = generate_preset_pass_manager(optimization_level=1)\n",
        "\n",
        "for k in range(iteracoes_max):\n",
        "\n",
        "    # Montagem dos circuitos\n",
        "    circuitos_plus = []\n",
        "    circuitos_minus = []\n",
        "\n",
        "    for j in range(2 * p):\n",
        "        parametros_valores_plus = parametros_valores.copy()\n",
        "        parametros_valores_plus[j] += h\n",
        "        parametros_valores_minus = parametros_valores.copy()\n",
        "        parametros_valores_minus[j] -= h\n",
        "\n",
        "        parametros_plus = {parametros[i]: parametros_valores_plus[i] for i in range(2 * p)}\n",
        "        parametros_minus = {parametros[i]: parametros_valores_minus[i] for i in range(2 * p)}\n",
        "\n",
        "        qc_plus = qaoa.copy()\n",
        "        qc_plus = qc_plus.assign_parameters(parametros_plus)\n",
        "        qc_plus_transpilado = pass_manager.run(qc_plus)\n",
        "\n",
        "        qc_minus = qaoa.copy()\n",
        "        qc_minus = qc_minus.assign_parameters(parametros_minus)\n",
        "        qc_minus_transpilado = pass_manager.run(qc_minus)\n",
        "\n",
        "        circuitos_plus.append(qc_plus_transpilado)\n",
        "        circuitos_minus.append(qc_minus_transpilado)\n",
        "\n",
        "    # Execução dos circuitos\n",
        "    job = estimator.run(\n",
        "        circuits=circuitos_plus + circuitos_minus,\n",
        "        observables=[HC] * len(circuitos_plus + circuitos_minus)\n",
        "    )\n",
        "\n",
        "    expval_values = job.result().values\n",
        "    midpoint = len(expval_values) // 2\n",
        "    expval_plus = expval_values[:midpoint]\n",
        "    expval_minus = expval_values[midpoint:]\n",
        "\n",
        "    expval_novo = np.mean(expval_plus + expval_minus)  # Média das expectativas\n",
        "\n",
        "    # Critério de parada\n",
        "    if expval_antigo is not None and abs(expval_novo - expval_antigo) < delta:\n",
        "        print(f\"Parando na iteração {k} por convergência.\")\n",
        "        break\n",
        "\n",
        "    expval_antigo = expval_novo  # Atualiza para a próxima iteração\n",
        "\n",
        "    # Atualiza parâmetros usando gradiente\n",
        "    for j in range(p):\n",
        "        gradiente = (expval_plus[j] - expval_minus[j]) / (2 * h)\n",
        "        parametros_valores[2 * j] += epsilon * gradiente  # Atualiza γ\n",
        "        parametros_valores[2 * j + 1] += epsilon * gradiente  # Atualiza β\n",
        "\n",
        "print(\"Parâmetros finais:\", parametros_valores)\n"
      ]
    },
    {
      "cell_type": "markdown",
      "metadata": {
        "id": "9k4_DEB2ePg_"
      },
      "source": [
        "# LIXO"
      ]
    },
    {
      "cell_type": "code",
      "execution_count": null,
      "metadata": {
        "id": "yFz8tZpwPfFv"
      },
      "outputs": [],
      "source": [
        "# PASSO 6: Executar o Estimator\n",
        "\n",
        "# Transpilação\n",
        "\n",
        "pass_manager = generate_preset_pass_manager(optimization_level=1, backend=backend)\n",
        "circuitos_transpilados = [pass_manager.run(circuito) for circuito in circuitos]\n",
        "\n",
        "observaveis = [HC for m in range(len(circuitos))] # Lista de observáveis (2^n cópias de HC)\n",
        "observaveis_transpilados = [observaveis[m].apply_layout(circuitos_transpilados[m].layout) for m in range(numero_circuitos)]\n",
        "\n",
        "## Estimator\n",
        "\n",
        "job = estimator.run(circuits = circuitos_transpilados, observables = observaveis_transpilados) # manda a lista de circuitos e respectivos observáveis para rodar\n",
        "\n",
        "'''\n",
        "Pós-processamento\n",
        "'''\n",
        "\n",
        "# PASSO 7: Extrair dos resultados do estimator a lista ótima de parâmetros 𝛾 e 𝛽\n",
        "# que maximizam 𝐹𝑝(𝛾,𝛽).\n",
        "\n",
        "# Comparação dos resultados dos circuitos\n",
        "# para determinar qual conjunto de parâmetros\n",
        "# (e correspondentes circuito e estado)\n",
        "# determina o custo máximo <HC>_max.\n",
        "\n",
        "expval_max = 0; parametro_maxcut = 0\n",
        "for k in range(numero_circuitos):\n",
        "    expval = job.result().values[k]\n",
        "    if expval > expval_max:\n",
        "        expval_max = expval\n",
        "        parametro_maxcut = k\n",
        "    else:\n",
        "        pass\n",
        "print(f\"Custo máximo: max(< HC >) = {expval_max}.\")\n",
        "print(f\"Parametro_maxcut = {parametro_maxcut} <-> {parametros[parametro_maxcut]}.\")\n",
        "\n",
        "# PASSO 9: Extrair da lista ótima o estado que resolve o problema MaxCut.\n",
        "\n",
        "# Estado maxcut, que determina o custo máximo\n",
        "#display(circuitos[parametro_maxcut].decompose().draw('mpl'))\n",
        "estado_maxcut = Statevector.from_instruction(circuitos[parametro_maxcut])\n",
        "print(f\"Estado maxcut:\")\n",
        "display(estado_maxcut.draw('latex'))\n",
        "\n",
        "# Determinação da componente da base computacional\n",
        "# com maior contribuição no 'estado maxcut'\n",
        "\n",
        "prob_max = 0.0; estado_maxcut_base = 0\n",
        "for k in range(len(estado_maxcut)):\n",
        "    prob = abs(estado_maxcut[k])\n",
        "    if abs(prob) > prob_max:\n",
        "        prob_max = prob\n",
        "        estado_maxcut_base = k\n",
        "    else:\n",
        "        pass\n",
        "print(f\"Custo máximo: max(< HC >) = {expval_max}.\")\n",
        "print(f\"Estado_maxcut_base = {estado_maxcut_base}\")\n",
        "print(f\"MaxCut: {baseint(2,estado_maxcut_base,n)}.\")\n",
        "\n",
        "# Impressão do tempo de execução\n",
        "\n",
        "fim = time.time() # t final\n",
        "duracao = fim - inicio\n",
        "print(f\"Duração da execução do algoritmo: {duracao/60} min.\")"
      ]
    }
  ],
  "metadata": {
    "colab": {
      "collapsed_sections": [
        "GAmPTeyasyVt",
        "H1uh4KsMNs6B",
        "wkHVSyhUkgZ4",
        "pqw-qgF7lmOQ",
        "-ALHisXDjrh_",
        "J-_ZMxZ-HH-N",
        "vJ866_OUYIPU",
        "9yloLMX6HCor",
        "9k4_DEB2ePg_"
      ],
      "provenance": [],
      "include_colab_link": true
    },
    "kernelspec": {
      "display_name": "Python 3",
      "name": "python3"
    },
    "language_info": {
      "name": "python"
    }
  },
  "nbformat": 4,
  "nbformat_minor": 0
}