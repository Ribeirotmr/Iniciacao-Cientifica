{
  "nbformat": 4,
  "nbformat_minor": 0,
  "metadata": {
    "colab": {
      "provenance": [],
      "collapsed_sections": [
        "GAmPTeyasyVt"
      ],
      "include_colab_link": true
    },
    "kernelspec": {
      "name": "python3",
      "display_name": "Python 3"
    },
    "language_info": {
      "name": "python"
    }
  },
  "cells": [
    {
      "cell_type": "markdown",
      "metadata": {
        "id": "view-in-github",
        "colab_type": "text"
      },
      "source": [
        "<a href=\"https://colab.research.google.com/github/Ribeirotmr/Iniciacao-Cientifica/blob/main/Qiskit_TFQ.ipynb\" target=\"_parent\"><img src=\"https://colab.research.google.com/assets/colab-badge.svg\" alt=\"Open In Colab\"/></a>"
      ]
    },
    {
      "cell_type": "markdown",
      "source": [
        "# Transformada de Fourier Quântica\n",
        "\n",
        "---\n",
        "\n",
        "[Fassarella.net](https://fassarella.net)\n",
        "\n",
        "---\n",
        "Qiskit:\n",
        "*   [Qiskit](https://docs.quantum.ibm.com/api/qiskit)\n",
        "*   [Qiskit Circuit Library](https://docs.quantum.ibm.com/api/qiskit/circuit_library)\n",
        "---\n",
        "\n",
        "Python:\n",
        "*   [LearningPython](https://https://www.learnpython.org/)\n",
        "*   [W3Schools](https://www.w3schools.com/python/)\n"
      ],
      "metadata": {
        "id": "CVwRT-1fcO3d"
      }
    },
    {
      "cell_type": "markdown",
      "source": [
        "# <font color=\"red\">**Transformada de Fourier Quântica**</font>\n",
        "\n",
        "**Fatos básicos**:\n",
        "*\tA TFQ consiste em uma implementação da *Transformada de Fourier Discreta*:\n",
        "$$\n",
        "f: \\mathbb{C}^{\\times N} \\rightarrow \\mathbb{C}^{\\times N},\\ \\mathbf{y} = f(\\mathbf{x}) \\leadsto y_j = \\sum_{k=0}^{N-1} e^{-2\\pi i \\frac{kj}{N}}x_k.\n",
        "$$\n",
        "*\tA TFQ é muito similar à transformada de Hadamard, com a diferença essencial sendo a introdução de fases:\n",
        "$$\n",
        "\\begin{split}\n",
        "H_n: \\mathcal{H}_2^{\\otimes n} \\rightarrow \\mathcal{H}_2^{\\otimes n},\\ H_n |x_{n-1\\dots x_1x_0} \\rangle &= (H|x_{n-1}\\rangle) \\otimes \\dots \\otimes (H|x_1\\rangle) \\otimes (H|x_0\\rangle)\\\\\n",
        "&=(|0 \\rangle + (-1)^{x_n})|1\\rangle \\otimes \\dots \\otimes (|0 \\rangle + (-1)^{x_1})|1\\rangle \\otimes (|0 \\rangle + (-1)^{x_0})|1\\rangle)\\\\\n",
        "&=...\n",
        "\\end{split}\n",
        "$$\n",
        "\n",
        "\n",
        "**Definição de TFQ**: Para $n \\in \\mathbb{N},\\ N = 2^n$\n",
        "\n",
        "$$\n",
        "F_n: \\mathcal{H}_2^{\\otimes n} \\rightarrow \\mathcal{H}_2^{\\otimes n},\\ F_n|x\\rangle:= |y\\rangle,\n",
        "$$\n",
        "onde:\n",
        "$$\n",
        "|x\\rangle = \\sum_{k=0}^{2^n-1} x_k | k \\rangle \\leadsto |y \\rangle = \\sum_{j=0}^{2^n-1} y_j | j \\rangle\n",
        "$$\n",
        "e\n",
        "$$\n",
        "y_j = \\frac{1}{\\sqrt{2^n}}\\sum_{k=0}^{2^n-1} e^{2\\pi i \\frac{kj}{2^n}}x_k.\n",
        "$$\n",
        "Destacam-se as diferenças com a *transformada de fourier discreta*:\n",
        "*   sinal positivo nos expoentes e\n",
        "*   fator de normalização.\n",
        "\n",
        "<font color=\"gray\">**TFQ na base computacional**: a TFQ de um estado da base computacional resulta em uma superposição uniforme de todos os estados da base computacional:\n",
        "$$\n",
        "F_n| k '\n",
        "$$\n",
        "A medida de $F_n| k \\rangle $ na base computacional tem probabilidade igual a $1/2^n$ de resultar em qualquer um dos estados $|j\\rangle$:\n",
        "$$\n",
        "\\langle j | F_n | k\\rangle = \\left|  \\frac{e^{2\\pi i \\frac{jk}{2^n}}}{\\sqrt{2^n}} \\right|^2 = \\frac{1}{2^n},\\ \\ \\ \\forall k, j \\in \\left\\lbrace 0,1, \\dots, 2^n-1 \\right\\rbrace.\n",
        "$$\n",
        "></font>\n",
        "\n",
        "**Propriedades**\n",
        "\n",
        "*   **A TFQ é uma transformação unitária** com matriz na base computacional dada por:\n",
        "$$\n",
        "[F_n] = \\frac{1}{\\sqrt{2^n}}\\begin{pmatrix}\n",
        "1 & 1 & 1 & 1 &\\dots & 1\\\\\n",
        "1 & \\omega & \\omega^2 & \\omega^3 & \\dots & \\omega^{2^n-1}\\\\\n",
        "1 & \\omega^2 & \\omega^4 & \\omega^6 & \\dots & \\omega^{2(2^n-1)}\\\\\n",
        "1 & \\omega^3 & \\omega^6 & \\omega^9 & \\dots & \\omega^{3(2^n-1)}\\\\\n",
        "\\vdots & \\vdots & \\vdots & \\vdots & \\ddots & \\vdots\\\\\n",
        "1 & \\omega^{2^n-1} & \\omega^{2(2^n-1)} & \\omega^{3(2^n-1)} & \\dots & \\omega^{(2^n-1)\\times (2^n-1)}\n",
        "\\end{pmatrix},\n",
        "$$\n",
        "onde\n",
        "$$\n",
        "w = e^{2 \\pi i/2^n}.\n",
        "$$\n"
      ],
      "metadata": {
        "id": "aB8LbdGdRRi_"
      }
    },
    {
      "cell_type": "code",
      "source": [
        "'''\n",
        "Matriz da TQF_n\n",
        "'''\n",
        "\n"
      ],
      "metadata": {
        "id": "_s2HhtXkdP_s"
      },
      "execution_count": null,
      "outputs": []
    },
    {
      "cell_type": "markdown",
      "source": [
        "# QISKIT: Carregamento\n",
        "\n",
        "*   Qiskit: *How Can I Convert a Unitary Matrix to a set of One & Two Qubit Gates? 1 Minute Qiskit*. [https://youtu.be/O2WcZS4yO1Q?si=4qpTA_OUIg4PYeYF](https://youtu.be/O2WcZS4yO1Q?si=4qpTA_OUIg4PYeYF).\n",
        "*   Qiskit: *How can I create a custom gate from a matrix? 1 Minute Qiskit*. [https://youtu.be/zFgyMGklANM?si=dqdmuf3S2xKURiFq](https://youtu.be/zFgyMGklANM?si=dqdmuf3S2xKURiFq)."
      ],
      "metadata": {
        "id": "GAmPTeyasyVt"
      }
    },
    {
      "cell_type": "code",
      "source": [
        "!pip install qiskit -U\n",
        "!pip install qiskit_aer\n",
        "!pip install qiskit-ibm-runtime\n",
        "\n",
        "import qiskit\n",
        "qiskit.__version__"
      ],
      "metadata": {
        "id": "U7ULPmZkugwv",
        "colab": {
          "base_uri": "https://localhost:8080/",
          "height": 1000
        },
        "outputId": "7c1f0335-d7fb-44b4-ba3c-8259c8c27092",
        "collapsed": true
      },
      "execution_count": null,
      "outputs": [
        {
          "output_type": "stream",
          "name": "stdout",
          "text": [
            "Collecting qiskit\n",
            "  Downloading qiskit-1.3.0-cp39-abi3-manylinux_2_17_x86_64.manylinux2014_x86_64.whl.metadata (12 kB)\n",
            "Collecting rustworkx>=0.15.0 (from qiskit)\n",
            "  Downloading rustworkx-0.15.1-cp38-abi3-manylinux_2_17_x86_64.manylinux2014_x86_64.whl.metadata (9.9 kB)\n",
            "Requirement already satisfied: numpy<3,>=1.17 in /usr/local/lib/python3.10/dist-packages (from qiskit) (1.26.4)\n",
            "Requirement already satisfied: scipy>=1.5 in /usr/local/lib/python3.10/dist-packages (from qiskit) (1.13.1)\n",
            "Requirement already satisfied: sympy>=1.3 in /usr/local/lib/python3.10/dist-packages (from qiskit) (1.13.1)\n",
            "Collecting dill>=0.3 (from qiskit)\n",
            "  Downloading dill-0.3.9-py3-none-any.whl.metadata (10 kB)\n",
            "Requirement already satisfied: python-dateutil>=2.8.0 in /usr/local/lib/python3.10/dist-packages (from qiskit) (2.8.2)\n",
            "Collecting stevedore>=3.0.0 (from qiskit)\n",
            "  Downloading stevedore-5.4.0-py3-none-any.whl.metadata (2.3 kB)\n",
            "Requirement already satisfied: typing-extensions in /usr/local/lib/python3.10/dist-packages (from qiskit) (4.12.2)\n",
            "Collecting symengine<0.14,>=0.11 (from qiskit)\n",
            "  Downloading symengine-0.13.0-cp310-cp310-manylinux_2_17_x86_64.manylinux2014_x86_64.whl.metadata (1.2 kB)\n",
            "Requirement already satisfied: six>=1.5 in /usr/local/lib/python3.10/dist-packages (from python-dateutil>=2.8.0->qiskit) (1.16.0)\n",
            "Collecting pbr>=2.0.0 (from stevedore>=3.0.0->qiskit)\n",
            "  Downloading pbr-6.1.0-py2.py3-none-any.whl.metadata (3.4 kB)\n",
            "Requirement already satisfied: mpmath<1.4,>=1.1.0 in /usr/local/lib/python3.10/dist-packages (from sympy>=1.3->qiskit) (1.3.0)\n",
            "Downloading qiskit-1.3.0-cp39-abi3-manylinux_2_17_x86_64.manylinux2014_x86_64.whl (6.7 MB)\n",
            "\u001b[2K   \u001b[90m━━━━━━━━━━━━━━━━━━━━━━━━━━━━━━━━━━━━━━━━\u001b[0m \u001b[32m6.7/6.7 MB\u001b[0m \u001b[31m46.3 MB/s\u001b[0m eta \u001b[36m0:00:00\u001b[0m\n",
            "\u001b[?25hDownloading dill-0.3.9-py3-none-any.whl (119 kB)\n",
            "\u001b[2K   \u001b[90m━━━━━━━━━━━━━━━━━━━━━━━━━━━━━━━━━━━━━━━━\u001b[0m \u001b[32m119.4/119.4 kB\u001b[0m \u001b[31m11.5 MB/s\u001b[0m eta \u001b[36m0:00:00\u001b[0m\n",
            "\u001b[?25hDownloading rustworkx-0.15.1-cp38-abi3-manylinux_2_17_x86_64.manylinux2014_x86_64.whl (2.0 MB)\n",
            "\u001b[2K   \u001b[90m━━━━━━━━━━━━━━━━━━━━━━━━━━━━━━━━━━━━━━━━\u001b[0m \u001b[32m2.0/2.0 MB\u001b[0m \u001b[31m74.0 MB/s\u001b[0m eta \u001b[36m0:00:00\u001b[0m\n",
            "\u001b[?25hDownloading stevedore-5.4.0-py3-none-any.whl (49 kB)\n",
            "\u001b[2K   \u001b[90m━━━━━━━━━━━━━━━━━━━━━━━━━━━━━━━━━━━━━━━━\u001b[0m \u001b[32m49.5/49.5 kB\u001b[0m \u001b[31m5.1 MB/s\u001b[0m eta \u001b[36m0:00:00\u001b[0m\n",
            "\u001b[?25hDownloading symengine-0.13.0-cp310-cp310-manylinux_2_17_x86_64.manylinux2014_x86_64.whl (49.7 MB)\n",
            "\u001b[2K   \u001b[90m━━━━━━━━━━━━━━━━━━━━━━━━━━━━━━━━━━━━━━━━\u001b[0m \u001b[32m49.7/49.7 MB\u001b[0m \u001b[31m16.9 MB/s\u001b[0m eta \u001b[36m0:00:00\u001b[0m\n",
            "\u001b[?25hDownloading pbr-6.1.0-py2.py3-none-any.whl (108 kB)\n",
            "\u001b[2K   \u001b[90m━━━━━━━━━━━━━━━━━━━━━━━━━━━━━━━━━━━━━━━━\u001b[0m \u001b[32m108.5/108.5 kB\u001b[0m \u001b[31m10.6 MB/s\u001b[0m eta \u001b[36m0:00:00\u001b[0m\n",
            "\u001b[?25hInstalling collected packages: symengine, rustworkx, pbr, dill, stevedore, qiskit\n",
            "Successfully installed dill-0.3.9 pbr-6.1.0 qiskit-1.3.0 rustworkx-0.15.1 stevedore-5.4.0 symengine-0.13.0\n",
            "Collecting qiskit_aer\n",
            "  Downloading qiskit_aer-0.15.1-cp310-cp310-manylinux_2_17_x86_64.manylinux2014_x86_64.whl.metadata (8.0 kB)\n",
            "Requirement already satisfied: qiskit>=1.1.0 in /usr/local/lib/python3.10/dist-packages (from qiskit_aer) (1.3.0)\n",
            "Requirement already satisfied: numpy>=1.16.3 in /usr/local/lib/python3.10/dist-packages (from qiskit_aer) (1.26.4)\n",
            "Requirement already satisfied: scipy>=1.0 in /usr/local/lib/python3.10/dist-packages (from qiskit_aer) (1.13.1)\n",
            "Requirement already satisfied: psutil>=5 in /usr/local/lib/python3.10/dist-packages (from qiskit_aer) (5.9.5)\n",
            "Requirement already satisfied: rustworkx>=0.15.0 in /usr/local/lib/python3.10/dist-packages (from qiskit>=1.1.0->qiskit_aer) (0.15.1)\n",
            "Requirement already satisfied: sympy>=1.3 in /usr/local/lib/python3.10/dist-packages (from qiskit>=1.1.0->qiskit_aer) (1.13.1)\n",
            "Requirement already satisfied: dill>=0.3 in /usr/local/lib/python3.10/dist-packages (from qiskit>=1.1.0->qiskit_aer) (0.3.9)\n",
            "Requirement already satisfied: python-dateutil>=2.8.0 in /usr/local/lib/python3.10/dist-packages (from qiskit>=1.1.0->qiskit_aer) (2.8.2)\n",
            "Requirement already satisfied: stevedore>=3.0.0 in /usr/local/lib/python3.10/dist-packages (from qiskit>=1.1.0->qiskit_aer) (5.4.0)\n",
            "Requirement already satisfied: typing-extensions in /usr/local/lib/python3.10/dist-packages (from qiskit>=1.1.0->qiskit_aer) (4.12.2)\n",
            "Requirement already satisfied: symengine<0.14,>=0.11 in /usr/local/lib/python3.10/dist-packages (from qiskit>=1.1.0->qiskit_aer) (0.13.0)\n",
            "Requirement already satisfied: six>=1.5 in /usr/local/lib/python3.10/dist-packages (from python-dateutil>=2.8.0->qiskit>=1.1.0->qiskit_aer) (1.16.0)\n",
            "Requirement already satisfied: pbr>=2.0.0 in /usr/local/lib/python3.10/dist-packages (from stevedore>=3.0.0->qiskit>=1.1.0->qiskit_aer) (6.1.0)\n",
            "Requirement already satisfied: mpmath<1.4,>=1.1.0 in /usr/local/lib/python3.10/dist-packages (from sympy>=1.3->qiskit>=1.1.0->qiskit_aer) (1.3.0)\n",
            "Downloading qiskit_aer-0.15.1-cp310-cp310-manylinux_2_17_x86_64.manylinux2014_x86_64.whl (12.3 MB)\n",
            "\u001b[2K   \u001b[90m━━━━━━━━━━━━━━━━━━━━━━━━━━━━━━━━━━━━━━━━\u001b[0m \u001b[32m12.3/12.3 MB\u001b[0m \u001b[31m77.3 MB/s\u001b[0m eta \u001b[36m0:00:00\u001b[0m\n",
            "\u001b[?25hInstalling collected packages: qiskit_aer\n",
            "Successfully installed qiskit_aer-0.15.1\n",
            "Collecting qiskit-ibm-runtime\n",
            "  Downloading qiskit_ibm_runtime-0.33.2-py3-none-any.whl.metadata (19 kB)\n",
            "Requirement already satisfied: requests>=2.19 in /usr/local/lib/python3.10/dist-packages (from qiskit-ibm-runtime) (2.32.3)\n",
            "Collecting requests-ntlm>=1.1.0 (from qiskit-ibm-runtime)\n",
            "  Downloading requests_ntlm-1.3.0-py3-none-any.whl.metadata (2.4 kB)\n",
            "Requirement already satisfied: numpy>=1.13 in /usr/local/lib/python3.10/dist-packages (from qiskit-ibm-runtime) (1.26.4)\n",
            "Requirement already satisfied: urllib3>=1.21.1 in /usr/local/lib/python3.10/dist-packages (from qiskit-ibm-runtime) (2.2.3)\n",
            "Requirement already satisfied: python-dateutil>=2.8.0 in /usr/local/lib/python3.10/dist-packages (from qiskit-ibm-runtime) (2.8.2)\n",
            "Requirement already satisfied: websocket-client>=1.5.1 in /usr/local/lib/python3.10/dist-packages (from qiskit-ibm-runtime) (1.8.0)\n",
            "Collecting ibm-platform-services>=0.22.6 (from qiskit-ibm-runtime)\n",
            "  Downloading ibm_platform_services-0.59.0-py3-none-any.whl.metadata (9.0 kB)\n",
            "Requirement already satisfied: pydantic>=2.5.0 in /usr/local/lib/python3.10/dist-packages (from qiskit-ibm-runtime) (2.9.2)\n",
            "Requirement already satisfied: qiskit>=1.1.0 in /usr/local/lib/python3.10/dist-packages (from qiskit-ibm-runtime) (1.3.0)\n",
            "Collecting ibm-cloud-sdk-core<4.0.0,>=3.22.0 (from ibm-platform-services>=0.22.6->qiskit-ibm-runtime)\n",
            "  Downloading ibm_cloud_sdk_core-3.22.0-py3-none-any.whl.metadata (8.6 kB)\n",
            "Requirement already satisfied: annotated-types>=0.6.0 in /usr/local/lib/python3.10/dist-packages (from pydantic>=2.5.0->qiskit-ibm-runtime) (0.7.0)\n",
            "Requirement already satisfied: pydantic-core==2.23.4 in /usr/local/lib/python3.10/dist-packages (from pydantic>=2.5.0->qiskit-ibm-runtime) (2.23.4)\n",
            "Requirement already satisfied: typing-extensions>=4.6.1 in /usr/local/lib/python3.10/dist-packages (from pydantic>=2.5.0->qiskit-ibm-runtime) (4.12.2)\n",
            "Requirement already satisfied: six>=1.5 in /usr/local/lib/python3.10/dist-packages (from python-dateutil>=2.8.0->qiskit-ibm-runtime) (1.16.0)\n",
            "Requirement already satisfied: rustworkx>=0.15.0 in /usr/local/lib/python3.10/dist-packages (from qiskit>=1.1.0->qiskit-ibm-runtime) (0.15.1)\n",
            "Requirement already satisfied: scipy>=1.5 in /usr/local/lib/python3.10/dist-packages (from qiskit>=1.1.0->qiskit-ibm-runtime) (1.13.1)\n",
            "Requirement already satisfied: sympy>=1.3 in /usr/local/lib/python3.10/dist-packages (from qiskit>=1.1.0->qiskit-ibm-runtime) (1.13.1)\n",
            "Requirement already satisfied: dill>=0.3 in /usr/local/lib/python3.10/dist-packages (from qiskit>=1.1.0->qiskit-ibm-runtime) (0.3.9)\n",
            "Requirement already satisfied: stevedore>=3.0.0 in /usr/local/lib/python3.10/dist-packages (from qiskit>=1.1.0->qiskit-ibm-runtime) (5.4.0)\n",
            "Requirement already satisfied: symengine<0.14,>=0.11 in /usr/local/lib/python3.10/dist-packages (from qiskit>=1.1.0->qiskit-ibm-runtime) (0.13.0)\n",
            "Requirement already satisfied: charset-normalizer<4,>=2 in /usr/local/lib/python3.10/dist-packages (from requests>=2.19->qiskit-ibm-runtime) (3.4.0)\n",
            "Requirement already satisfied: idna<4,>=2.5 in /usr/local/lib/python3.10/dist-packages (from requests>=2.19->qiskit-ibm-runtime) (3.10)\n",
            "Requirement already satisfied: certifi>=2017.4.17 in /usr/local/lib/python3.10/dist-packages (from requests>=2.19->qiskit-ibm-runtime) (2024.8.30)\n",
            "Requirement already satisfied: cryptography>=1.3 in /usr/local/lib/python3.10/dist-packages (from requests-ntlm>=1.1.0->qiskit-ibm-runtime) (43.0.3)\n",
            "Collecting pyspnego>=0.4.0 (from requests-ntlm>=1.1.0->qiskit-ibm-runtime)\n",
            "  Downloading pyspnego-0.11.2-py3-none-any.whl.metadata (5.4 kB)\n",
            "Requirement already satisfied: cffi>=1.12 in /usr/local/lib/python3.10/dist-packages (from cryptography>=1.3->requests-ntlm>=1.1.0->qiskit-ibm-runtime) (1.17.1)\n",
            "Requirement already satisfied: PyJWT<3.0.0,>=2.8.0 in /usr/local/lib/python3.10/dist-packages (from ibm-cloud-sdk-core<4.0.0,>=3.22.0->ibm-platform-services>=0.22.6->qiskit-ibm-runtime) (2.10.0)\n",
            "Requirement already satisfied: pbr>=2.0.0 in /usr/local/lib/python3.10/dist-packages (from stevedore>=3.0.0->qiskit>=1.1.0->qiskit-ibm-runtime) (6.1.0)\n",
            "Requirement already satisfied: mpmath<1.4,>=1.1.0 in /usr/local/lib/python3.10/dist-packages (from sympy>=1.3->qiskit>=1.1.0->qiskit-ibm-runtime) (1.3.0)\n",
            "Requirement already satisfied: pycparser in /usr/local/lib/python3.10/dist-packages (from cffi>=1.12->cryptography>=1.3->requests-ntlm>=1.1.0->qiskit-ibm-runtime) (2.22)\n",
            "Downloading qiskit_ibm_runtime-0.33.2-py3-none-any.whl (2.9 MB)\n",
            "\u001b[2K   \u001b[90m━━━━━━━━━━━━━━━━━━━━━━━━━━━━━━━━━━━━━━━━\u001b[0m \u001b[32m2.9/2.9 MB\u001b[0m \u001b[31m24.6 MB/s\u001b[0m eta \u001b[36m0:00:00\u001b[0m\n",
            "\u001b[?25hDownloading ibm_platform_services-0.59.0-py3-none-any.whl (340 kB)\n",
            "\u001b[2K   \u001b[90m━━━━━━━━━━━━━━━━━━━━━━━━━━━━━━━━━━━━━━━━\u001b[0m \u001b[32m340.8/340.8 kB\u001b[0m \u001b[31m29.4 MB/s\u001b[0m eta \u001b[36m0:00:00\u001b[0m\n",
            "\u001b[?25hDownloading requests_ntlm-1.3.0-py3-none-any.whl (6.6 kB)\n",
            "Downloading ibm_cloud_sdk_core-3.22.0-py3-none-any.whl (69 kB)\n",
            "\u001b[2K   \u001b[90m━━━━━━━━━━━━━━━━━━━━━━━━━━━━━━━━━━━━━━━━\u001b[0m \u001b[32m69.4/69.4 kB\u001b[0m \u001b[31m7.0 MB/s\u001b[0m eta \u001b[36m0:00:00\u001b[0m\n",
            "\u001b[?25hDownloading pyspnego-0.11.2-py3-none-any.whl (130 kB)\n",
            "\u001b[2K   \u001b[90m━━━━━━━━━━━━━━━━━━━━━━━━━━━━━━━━━━━━━━━━\u001b[0m \u001b[32m130.5/130.5 kB\u001b[0m \u001b[31m13.9 MB/s\u001b[0m eta \u001b[36m0:00:00\u001b[0m\n",
            "\u001b[?25hInstalling collected packages: ibm-cloud-sdk-core, pyspnego, ibm-platform-services, requests-ntlm, qiskit-ibm-runtime\n",
            "Successfully installed ibm-cloud-sdk-core-3.22.0 ibm-platform-services-0.59.0 pyspnego-0.11.2 qiskit-ibm-runtime-0.33.2 requests-ntlm-1.3.0\n"
          ]
        },
        {
          "output_type": "execute_result",
          "data": {
            "text/plain": [
              "'1.3.0'"
            ],
            "application/vnd.google.colaboratory.intrinsic+json": {
              "type": "string"
            }
          },
          "metadata": {},
          "execution_count": 8
        }
      ]
    },
    {
      "cell_type": "code",
      "source": [
        "!pip install matplotlib\n",
        "!pip install pylatexenc"
      ],
      "metadata": {
        "id": "03QOZ-BvvFdC",
        "collapsed": true,
        "colab": {
          "base_uri": "https://localhost:8080/"
        },
        "outputId": "c755236d-e462-4d75-8f15-ad725c8b0e1a"
      },
      "execution_count": null,
      "outputs": [
        {
          "output_type": "stream",
          "name": "stdout",
          "text": [
            "Requirement already satisfied: matplotlib in /usr/local/lib/python3.10/dist-packages (3.8.0)\n",
            "Requirement already satisfied: contourpy>=1.0.1 in /usr/local/lib/python3.10/dist-packages (from matplotlib) (1.3.1)\n",
            "Requirement already satisfied: cycler>=0.10 in /usr/local/lib/python3.10/dist-packages (from matplotlib) (0.12.1)\n",
            "Requirement already satisfied: fonttools>=4.22.0 in /usr/local/lib/python3.10/dist-packages (from matplotlib) (4.55.0)\n",
            "Requirement already satisfied: kiwisolver>=1.0.1 in /usr/local/lib/python3.10/dist-packages (from matplotlib) (1.4.7)\n",
            "Requirement already satisfied: numpy<2,>=1.21 in /usr/local/lib/python3.10/dist-packages (from matplotlib) (1.26.4)\n",
            "Requirement already satisfied: packaging>=20.0 in /usr/local/lib/python3.10/dist-packages (from matplotlib) (24.2)\n",
            "Requirement already satisfied: pillow>=6.2.0 in /usr/local/lib/python3.10/dist-packages (from matplotlib) (11.0.0)\n",
            "Requirement already satisfied: pyparsing>=2.3.1 in /usr/local/lib/python3.10/dist-packages (from matplotlib) (3.2.0)\n",
            "Requirement already satisfied: python-dateutil>=2.7 in /usr/local/lib/python3.10/dist-packages (from matplotlib) (2.8.2)\n",
            "Requirement already satisfied: six>=1.5 in /usr/local/lib/python3.10/dist-packages (from python-dateutil>=2.7->matplotlib) (1.16.0)\n",
            "Collecting pylatexenc\n",
            "  Downloading pylatexenc-2.10.tar.gz (162 kB)\n",
            "\u001b[2K     \u001b[90m━━━━━━━━━━━━━━━━━━━━━━━━━━━━━━━━━━━━━━━━\u001b[0m \u001b[32m162.6/162.6 kB\u001b[0m \u001b[31m2.9 MB/s\u001b[0m eta \u001b[36m0:00:00\u001b[0m\n",
            "\u001b[?25h  Preparing metadata (setup.py) ... \u001b[?25l\u001b[?25hdone\n",
            "Building wheels for collected packages: pylatexenc\n",
            "  Building wheel for pylatexenc (setup.py) ... \u001b[?25l\u001b[?25hdone\n",
            "  Created wheel for pylatexenc: filename=pylatexenc-2.10-py3-none-any.whl size=136816 sha256=cd90b060ae848cdfa7daf360eb214166135e14048942eba9a2f0a95e61d516c7\n",
            "  Stored in directory: /root/.cache/pip/wheels/d3/31/8b/e09b0386afd80cfc556c00408c9aeea5c35c4d484a9c762fd5\n",
            "Successfully built pylatexenc\n",
            "Installing collected packages: pylatexenc\n",
            "Successfully installed pylatexenc-2.10\n"
          ]
        }
      ]
    },
    {
      "cell_type": "code",
      "source": [
        "# Qiskit: métodos básicos\n",
        "\n",
        "from qiskit import QuantumCircuit, ClassicalRegister, QuantumRegister\n",
        "\n",
        "from qiskit import transpile\n",
        "\n",
        "from qiskit.visualization import plot_histogram, array_to_latex, plot_state_city"
      ],
      "metadata": {
        "id": "9L6AJpSGOM09"
      },
      "execution_count": null,
      "outputs": []
    },
    {
      "cell_type": "code",
      "source": [
        "# Acesso à IBM\n",
        "\n",
        "from qiskit_ibm_runtime import QiskitRuntimeService\n",
        "\n",
        "IBMToken_Thierry = \"SUA CHAVE DE ACESSO\"\n",
        "QiskitRuntimeService.save_account(\n",
        "channel = 'ibm_quantum',\n",
        "token = IBMToken_Thierry,\n",
        "overwrite=True\n",
        ")\n",
        "\n",
        "# Processadores disponíveis\n",
        "\n",
        "service = QiskitRuntimeService()\n",
        "print(\"Backends disponíveis:\")\n",
        "display(service.backends())\n",
        "\n",
        "# Backend\n",
        "service = QiskitRuntimeService(channel=\"ibm_quantum\")\n",
        "\n",
        "'''\n",
        "Backend com menor número de jobs em execução\n",
        "'''\n",
        "backend = service.least_busy(operational=True, simulator=False)\n",
        "\n",
        "'''\n",
        "Backend personalizado\n",
        "'''\n",
        "#backend = service.backend(name=\"ibm_brisbane\")\n",
        "\n",
        "print(\"Backend:\")\n",
        "display(backend.name)"
      ],
      "metadata": {
        "id": "LSjNYkT2XfWI",
        "colab": {
          "base_uri": "https://localhost:8080/",
          "height": 419
        },
        "outputId": "a9f80b7f-5ea1-413f-c00e-cdd173303d94"
      },
      "execution_count": null,
      "outputs": [
        {
          "output_type": "stream",
          "name": "stdout",
          "text": [
            "Backends disponíveis:\n"
          ]
        },
        {
          "output_type": "display_data",
          "data": {
            "text/plain": [
              "[<IBMBackend('ibm_brisbane')>,\n",
              " <IBMBackend('ibm_kyiv')>,\n",
              " <IBMBackend('ibm_sherbrooke')>]"
            ]
          },
          "metadata": {}
        },
        {
          "output_type": "stream",
          "name": "stdout",
          "text": [
            "Backend:\n"
          ]
        },
        {
          "output_type": "display_data",
          "data": {
            "text/plain": [
              "'ibm_brisbane'"
            ],
            "application/vnd.google.colaboratory.intrinsic+json": {
              "type": "string"
            }
          },
          "metadata": {}
        }
      ]
    },
    {
      "cell_type": "markdown",
      "source": [
        "# Matriz da TFQ\n",
        "\n",
        "Definições da matrix da TFQ no Sympy e no Numpy"
      ],
      "metadata": {
        "id": "V1FryuXYglQ9"
      }
    },
    {
      "cell_type": "markdown",
      "source": [
        "## Sympy"
      ],
      "metadata": {
        "id": "YmREywILwD5K"
      }
    },
    {
      "cell_type": "code",
      "source": [
        "'''\n",
        "Matrizes no Sympy\n",
        "\n",
        "    > Multiplicação de Matrizes: *\n",
        "    > Transposição de M........: M.T\n",
        "    > Conjugado complexo de M..: M.conjugate()\n",
        "    > Adjunta de M.............: M.adjoint() = M.conjugate().T\n",
        "'''\n",
        "\n",
        "from sympy import *\n",
        "\n",
        "from sympy.physics.quantum import TensorProduct\n",
        "\n",
        "from sympy import I, pi, sqrt, sin, cos, exp\n",
        "\n",
        "a, b, c = symbols(\"a b c\")\n",
        "th, ph, la, ga, al, be, de = symbols(\"theta phi lambda gamma alpha beta delta\")\n",
        "# th1, ph1, la1, ga1, al1, be1, de1 = symbols(\"theta_1 phi_1 lambda_1 gamma_1 alpha_1 beta_1 delta_1\")\n",
        "# th2, ph2, la2, ga2, al2, be2, de2 = symbols(\"theta_2 phi_2 lambda_2 gamma_2 alpha_2 beta_2 delta_2\")\n",
        "# th3, ph3, la3, ga3, al3, be3, de3  = symbols(\"theta_3 phi_3 lambda_3 gamma_3 alpha_3 beta_3 delta_3\")\n",
        "\n",
        "def spTFQ(n = 'int'):\n",
        "    '''\n",
        "    Função que gera a matriz da TFQ de um dado número de qubits\n",
        "\n",
        "    arg:\n",
        "        n = número de qubits (inteiro positivo)\n",
        "\n",
        "    ret:\n",
        "        M = matriz da TFQ para um dado número de qubits, no formato do Sympy\n",
        "    '''\n",
        "    d = 2**n\n",
        "    w = exp(2j * pi / d)\n",
        "    M = zeros(d,d)\n",
        "    for k in range(d):\n",
        "        for j in range(d):\n",
        "            M[k,j] = w**(k * j)\n",
        "    return M/sqrt(d)"
      ],
      "metadata": {
        "id": "a1ddRiZUgp0e"
      },
      "execution_count": null,
      "outputs": []
    },
    {
      "cell_type": "code",
      "source": [
        "# Teste\n",
        "n = 2\n",
        "display(spTFQ(n))\n",
        "\n",
        "# TFQ(n) multiplicada por sua adjunta:\n",
        "\n",
        "spTFQ_adjunta = spTFQ(n).conjugate().T # Conjugada complexa da matriz transposta\n",
        "Produto = spTFQ(n)*spTFQ_adjunta\n",
        "Produto.evalf()"
      ],
      "metadata": {
        "colab": {
          "base_uri": "https://localhost:8080/",
          "height": 190
        },
        "id": "6V4Ll-ceiWM-",
        "outputId": "238db3a8-041f-4bf6-dc49-530ce97f2ff3"
      },
      "execution_count": null,
      "outputs": [
        {
          "output_type": "display_data",
          "data": {
            "text/plain": [
              "Matrix([\n",
              "[1/2,             1/2,             1/2,             1/2],\n",
              "[1/2, exp(0.5*I*pi)/2, exp(1.0*I*pi)/2, exp(1.5*I*pi)/2],\n",
              "[1/2, exp(1.0*I*pi)/2, exp(2.0*I*pi)/2, exp(3.0*I*pi)/2],\n",
              "[1/2, exp(1.5*I*pi)/2, exp(3.0*I*pi)/2, exp(4.5*I*pi)/2]])"
            ],
            "text/latex": "$\\displaystyle \\left[\\begin{matrix}\\frac{1}{2} & \\frac{1}{2} & \\frac{1}{2} & \\frac{1}{2}\\\\\\frac{1}{2} & \\frac{e^{0.5 i \\pi}}{2} & \\frac{e^{1.0 i \\pi}}{2} & \\frac{e^{1.5 i \\pi}}{2}\\\\\\frac{1}{2} & \\frac{e^{1.0 i \\pi}}{2} & \\frac{e^{2.0 i \\pi}}{2} & \\frac{e^{3.0 i \\pi}}{2}\\\\\\frac{1}{2} & \\frac{e^{1.5 i \\pi}}{2} & \\frac{e^{3.0 i \\pi}}{2} & \\frac{e^{4.5 i \\pi}}{2}\\end{matrix}\\right]$"
          },
          "metadata": {}
        },
        {
          "output_type": "execute_result",
          "data": {
            "text/plain": [
              "Matrix([\n",
              "[                              1.0,               0.e-140 + 0.e-143*I, 0.e-139 + 3.04609605455074e-141*I,               0.e-140 - 0.e-143*I],\n",
              "[              0.e-140 - 0.e-143*I,                               1.0,               0.e-140 + 0.e-143*I, 0.e-139 + 3.04609605455074e-141*I],\n",
              "[0.e-139 - 3.04609605455074e-141*I,               0.e-140 - 0.e-143*I,                               1.0,               0.e-140 + 0.e-143*I],\n",
              "[              0.e-140 + 0.e-143*I, 0.e-139 - 3.04609605455074e-141*I,               0.e-140 - 0.e-143*I,                               1.0]])"
            ],
            "text/latex": "$\\displaystyle \\left[\\begin{matrix}1.0 & 4.0 \\cdot 10^{-140} + 4.0 \\cdot 10^{-143} i & 3.0 \\cdot 10^{-139} + 3.04609605455074 \\cdot 10^{-141} i & 4.0 \\cdot 10^{-140} - 2.0 \\cdot 10^{-143} i\\\\4.0 \\cdot 10^{-140} - 4.0 \\cdot 10^{-143} i & 1.0 & 4.0 \\cdot 10^{-140} + 4.0 \\cdot 10^{-143} i & 3.0 \\cdot 10^{-139} + 3.04609605455074 \\cdot 10^{-141} i\\\\3.0 \\cdot 10^{-139} - 3.04609605455074 \\cdot 10^{-141} i & 4.0 \\cdot 10^{-140} - 4.0 \\cdot 10^{-143} i & 1.0 & 4.0 \\cdot 10^{-140} + 4.0 \\cdot 10^{-143} i\\\\4.0 \\cdot 10^{-140} + 2.0 \\cdot 10^{-143} i & 3.0 \\cdot 10^{-139} - 3.04609605455074 \\cdot 10^{-141} i & 4.0 \\cdot 10^{-140} - 4.0 \\cdot 10^{-143} i & 1.0\\end{matrix}\\right]$"
          },
          "metadata": {},
          "execution_count": 2
        }
      ]
    },
    {
      "cell_type": "markdown",
      "source": [
        "## Numpy"
      ],
      "metadata": {
        "id": "HjFKIhP9wF03"
      }
    },
    {
      "cell_type": "code",
      "source": [
        "'''\n",
        "Matrizes no Numpy\n",
        "\n",
        "    > Multiplicação de Matrizes: @ ou .dot(): M1@M2 ou M1.dot(M2)\n",
        "    > Transposição de M........: M.T\n",
        "    > Conjugado complexo de M..: M.conjugate()\n",
        "    > Adjunta de M.............: M.conjugate().T\n",
        "'''\n",
        "\n",
        "import numpy as np\n",
        "from numpy import pi, exp, sqrt\n",
        "from numpy import array, ndarray\n",
        "\n",
        "def npTFQ(n = 'int'):\n",
        "    '''\n",
        "    Função que gera a matriz da TFQ de um dado número de qubits\n",
        "\n",
        "    arg:\n",
        "        n = número de qubits (inteiro positivo)\n",
        "\n",
        "    ret:\n",
        "        M = matriz da TFQ para um dado número de qubits, no formato do Sympy\n",
        "    '''\n",
        "    d = 2**n\n",
        "    w = np.exp(2*1j * np.pi / d)\n",
        "    M = np.zeros((d,d), dtype = complex) # Duplo parêntesis!\n",
        "    for k in range(d):\n",
        "        for j in range(d):\n",
        "            M[k,j] = w**(k * j)\n",
        "    return M/sqrt(d)"
      ],
      "metadata": {
        "id": "EeDhemMmpXjz"
      },
      "execution_count": null,
      "outputs": []
    },
    {
      "cell_type": "code",
      "source": [
        "# Teste\n",
        "n = 2\n",
        "display(npTFQ(n))\n",
        "\n",
        "# TFQ(n) multiplicada por sua adjunta:\n",
        "\n",
        "npTFQ_adjunta = npTFQ(n).conjugate().T # Conjugada complexa da matriz transposta\n",
        "Produto = npTFQ(n)@npTFQ_adjunta\n",
        "Produto"
      ],
      "metadata": {
        "colab": {
          "base_uri": "https://localhost:8080/",
          "height": 295
        },
        "id": "-FMp9QbSqi4T",
        "outputId": "d8f67b05-2fd7-44ef-bab1-616e94f1f0d4"
      },
      "execution_count": null,
      "outputs": [
        {
          "output_type": "display_data",
          "data": {
            "text/plain": [
              "array([[ 5.00000000e-01+0.0000000e+00j,  5.00000000e-01+0.0000000e+00j,\n",
              "         5.00000000e-01+0.0000000e+00j,  5.00000000e-01+0.0000000e+00j],\n",
              "       [ 5.00000000e-01+0.0000000e+00j,  3.06161700e-17+5.0000000e-01j,\n",
              "        -5.00000000e-01+6.1232340e-17j, -9.18485099e-17-5.0000000e-01j],\n",
              "       [ 5.00000000e-01+0.0000000e+00j, -5.00000000e-01+6.1232340e-17j,\n",
              "         5.00000000e-01-1.2246468e-16j, -5.00000000e-01+1.8369702e-16j],\n",
              "       [ 5.00000000e-01+0.0000000e+00j, -9.18485099e-17-5.0000000e-01j,\n",
              "        -5.00000000e-01+1.8369702e-16j,  2.75545530e-16+5.0000000e-01j]])"
            ]
          },
          "metadata": {}
        },
        {
          "output_type": "execute_result",
          "data": {
            "text/plain": [
              "array([[ 1.00000000e+00+0.00000000e+00j, -4.59242550e-17-5.55111512e-17j,\n",
              "         0.00000000e+00-6.12323400e-17j,  8.22616137e-17-8.32667268e-17j],\n",
              "       [-4.59242550e-17+5.55111512e-17j,  1.00000000e+00+0.00000000e+00j,\n",
              "        -4.30636606e-17-3.34767643e-17j,  0.00000000e+00-6.12323400e-17j],\n",
              "       [ 0.00000000e+00+6.12323400e-17j, -4.30636606e-17+3.34767643e-17j,\n",
              "         1.00000000e+00+0.00000000e+00j, -2.10292737e-17-4.97899625e-17j],\n",
              "       [ 8.22616137e-17+8.32667268e-17j,  0.00000000e+00+6.12323400e-17j,\n",
              "        -2.10292737e-17+4.97899625e-17j,  1.00000000e+00+0.00000000e+00j]])"
            ]
          },
          "metadata": {},
          "execution_count": 4
        }
      ]
    },
    {
      "cell_type": "markdown",
      "source": [
        "# 2Qubit"
      ],
      "metadata": {
        "id": "-ALHisXDjrh_"
      }
    },
    {
      "cell_type": "code",
      "source": [
        "qubits = [k for k in range(10)]\n",
        "qubits"
      ],
      "metadata": {
        "colab": {
          "base_uri": "https://localhost:8080/"
        },
        "id": "w0SQ1As3bVAq",
        "outputId": "b7bcae22-c452-4b83-a010-182cce41ff5b"
      },
      "execution_count": null,
      "outputs": [
        {
          "output_type": "execute_result",
          "data": {
            "text/plain": [
              "[0, 1, 2, 3, 4, 5, 6, 7, 8, 9]"
            ]
          },
          "metadata": {},
          "execution_count": 5
        }
      ]
    },
    {
      "cell_type": "code",
      "source": [
        "'''\n",
        "QFT 3 Qubits\n",
        "'''\n",
        "import numpy as np\n",
        "from  numpy import pi, exp\n",
        "\n",
        "n = 3\n",
        "qubits = [k for k in range(n)]\n",
        "QFT2 = npTFQ(n)\n",
        "\n",
        "qc = QuantumCircuit(n)\n",
        "qc.x(0) # <- preparação do estado inicial (x(0) prepara o estado |001>)\n",
        "qc.x(1) # <- preparação do estado inicial (x(0) prepara o estado |011>)\n",
        "qc.unitary(QFT2,qubits)\n",
        "qc.draw('mpl')"
      ],
      "metadata": {
        "id": "hrhOy0AxSWmD",
        "colab": {
          "base_uri": "https://localhost:8080/",
          "height": 255
        },
        "outputId": "29cdc342-c7ad-4fc7-e1db-0124de022265"
      },
      "execution_count": null,
      "outputs": [
        {
          "output_type": "execute_result",
          "data": {
            "text/plain": [
              "<Figure size 371.107x284.278 with 1 Axes>"
            ],
            "image/png": "[encoded data removed]"
          },
          "metadata": {},
          "execution_count": 23
        }
      ]
    },
    {
      "cell_type": "code",
      "source": [
        "from qiskit import transpile\n",
        "\n",
        "qc_trans = transpile(qc, basis_gates = ['cx','cy','u3'])\n",
        "qc_trans.draw('mpl')"
      ],
      "metadata": {
        "colab": {
          "base_uri": "https://localhost:8080/",
          "height": 489
        },
        "id": "n_kcS2T7yF0U",
        "outputId": "738005d2-c663-4763-fd64-21d1f5c818eb"
      },
      "execution_count": null,
      "outputs": [
        {
          "output_type": "execute_result",
          "data": {
            "text/plain": [
              "<Figure size 2210.55x618.722 with 1 Axes>"
            ],
            "image/png": "[encoded data removed]"
          },
          "metadata": {},
          "execution_count": 24
        }
      ]
    },
    {
      "cell_type": "markdown",
      "source": [
        "# TESTES"
      ],
      "metadata": {
        "id": "qRamKBwEbDvX"
      }
    },
    {
      "cell_type": "code",
      "source": [
        "q = QuantumRegister(n)\n",
        "c = ClassicalRegister(n)\n",
        "teste = QuantumCircuit(q,c)\n",
        "teste.append(qc_trans,qubits)\n",
        "display(teste.draw('mpl'))\n",
        "\n",
        "# Simulador e transpilação\n",
        "from qiskit_aer import AerSimulator\n",
        "simulator = AerSimulator()\n",
        "\n",
        "# Estado gerado pelo circuito\n",
        "teste.save_statevector() # Armazenamento do estadovetor\n",
        "\n",
        "# Simulador e transpilação\n",
        "simulator = AerSimulator(method='statevector') # <-- ATENÇÃO ao método\n",
        "teste_t = transpile(teste, simulator)\n",
        "\n",
        "# Simulação e estadovetor\n",
        "result = simulator.run(teste_t).result()\n",
        "statevector = result.get_statevector(teste_t)\n",
        "print(\"Estadovetor:\")\n",
        "print(statevector)\n",
        "\n",
        "# Impressão do estado no formato Latex\n",
        "from qiskit.visualization import array_to_latex\n",
        "print(\"Estadovetor em formato latex:\")\n",
        "display(array_to_latex(statevector, precision=10, prefix='', source=False, max_size=8))\n",
        "\n",
        "# Plotagem dos coeficientes do estado vetor\n",
        "plot_state_city(statevector, title='TFQ')\n",
        "\n",
        "# Simulação e contagem\n",
        "result = simulator.run(teste_t, shots = 2**10).result()\n",
        "#display(result)\n",
        "\n",
        "# Plotagem do histograma das estatísticas\n",
        "counts = result.get_counts(teste_t)\n",
        "display(counts)\n",
        "plot_histogram(counts, title='Contagens')"
      ],
      "metadata": {
        "colab": {
          "base_uri": "https://localhost:8080/",
          "height": 1000
        },
        "id": "Q_y846BUeja7",
        "outputId": "4190529a-45fd-4ffa-8dac-fcd4f2b7cc47"
      },
      "execution_count": null,
      "outputs": [
        {
          "output_type": "display_data",
          "data": {
            "text/plain": [
              "<Figure size 324.361x367.889 with 1 Axes>"
            ],
            "image/png": "[encoded data removed]"
          },
          "metadata": {}
        },
        {
          "output_type": "stream",
          "name": "stdout",
          "text": [
            "Estadovetor:\n",
            "Statevector([ 3.53553391e-01+3.52495810e-15j,\n",
            "             -2.50000000e-01+2.50000000e-01j,\n",
            "              7.21644966e-15-3.53553391e-01j,\n",
            "              2.50000000e-01+2.50000000e-01j,\n",
            "             -3.53553391e-01-4.96824804e-15j,\n",
            "              2.50000000e-01-2.50000000e-01j,\n",
            "             -1.19348975e-15+3.53553391e-01j,\n",
            "             -2.50000000e-01-2.50000000e-01j],\n",
            "            dims=(2, 2, 2))\n",
            "Estadovetor em formato latex:\n"
          ]
        },
        {
          "output_type": "display_data",
          "data": {
            "text/plain": [
              "<IPython.core.display.Latex object>"
            ],
            "text/latex": "$$\n\n\\begin{bmatrix}\n\\frac{\\sqrt{2}}{4} & - \\frac{1}{4} + \\frac{i}{4} & - \\frac{\\sqrt{2} i}{4} & \\frac{1}{4} + \\frac{i}{4} & - \\frac{\\sqrt{2}}{4} & \\frac{1}{4} - \\frac{i}{4} & \\frac{\\sqrt{2} i}{4} & - \\frac{1}{4} - \\frac{i}{4}  \\\\\n \\end{bmatrix}\n$$"
          },
          "metadata": {}
        },
        {
          "output_type": "display_data",
          "data": {
            "text/plain": [
              "{'000': 1024}"
            ]
          },
          "metadata": {}
        },
        {
          "output_type": "execute_result",
          "data": {
            "text/plain": [
              "<Figure size 640x480 with 1 Axes>"
            ],
            "image/png": "[encoded data removed]"
          },
          "metadata": {},
          "execution_count": 25
        }
      ]
    },
    {
      "cell_type": "code",
      "source": [],
      "metadata": {
        "id": "IezS3BAMf4dj"
      },
      "execution_count": null,
      "outputs": []
    }
  ]
}